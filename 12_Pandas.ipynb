{
  "nbformat": 4,
  "nbformat_minor": 0,
  "metadata": {
    "colab": {
      "name": "12_Pandas.ipynb",
      "version": "0.3.2",
      "provenance": [],
      "collapsed_sections": [],
      "include_colab_link": true
    },
    "kernelspec": {
      "display_name": "Python 3",
      "language": "python",
      "name": "python3"
    }
  },
  "cells": [
    {
      "cell_type": "markdown",
      "metadata": {
        "id": "view-in-github",
        "colab_type": "text"
      },
      "source": [
        "<a href=\"https://colab.research.google.com/github/jsstar522/facebook_MLClass/blob/master/12_Pandas.ipynb\" target=\"_parent\"><img src=\"https://colab.research.google.com/assets/colab-badge.svg\" alt=\"Open In Colab\"/></a>"
      ]
    },
    {
      "metadata": {
        "id": "w8C_iSSpYnVO",
        "colab_type": "text"
      },
      "cell_type": "markdown",
      "source": [
        "# 12 Pandas\n",
        "\n",
        "Writer : Rayleigh Kim\n",
        "Modified Write : Park Jong Suk\n",
        "\n",
        "email : rayleigh@dplus.company\n",
        "\n",
        "thanks to 이숙번 님\n",
        "\n",
        "이 노트북의 50%는 숙번님께서 제작하셨습니다.\n",
        "\n",
        "\n",
        "#### 주의 : 판다스의 모든 것을 다루지 않습니다. Machine Learning 또는 Deep Learning을 공부하기 위해 최소한 알아야 하는 범위만을 다룹니다.\n",
        "\n",
        "\n",
        "### 파이썬 실습시간!\n",
        "\n",
        "pandas 데이터 분석 라이브러리의 사용법을 간략하게 설명합니다.\n",
        "데이터의 로드, 파싱 및 변환을 위한 방법을 보여줍니다.\n",
        "\n",
        "#### 선행지식\n",
        "1. Python 언어 기초.\n",
        "2. Numpy 라이브러리 기초.\n",
        "3. table 구조의 데이터에 대한 이해. (엑셀 형태의 데이터)\n",
        "\n",
        "#### 실습목표\n",
        "1. csv 파일 읽는법. \n",
        "2. dataframe을 다루기.\n",
        "3. head, tail\n",
        "4. 정렬\n",
        "5. numpy array와 변환, \n",
        "6. 다양한 dataframe 연산.\n",
        "7. Null, NaN, NA\n",
        "\n",
        "#### 데이터 핸들링을 하기 위한 Tool\n",
        "1. 하나의 문제를 해결하기 위해 다양한 개념이 나온다. 필요한 것만 쓰되 Pandas의 모든 것을 알려고 하지 말 것.\n",
        "2. 빅데이터에는 사용하지 말자\n",
        "3. SQL을 알고 있다면 Google.Colaboratory.Pandas를 통해서 구글의 Big Query를 이용해 데이터 한번에 처리가능\n",
        "4. Database의 기본 : NoSQL을 사용하더라도 막상 사용해보면 SQL 개념이 많이 들어가있다"
      ]
    },
    {
      "metadata": {
        "id": "DFijIAllYnVQ",
        "colab_type": "text"
      },
      "cell_type": "markdown",
      "source": [
        "## 00. 라이브러리 불러오기 & 데이터 업로드"
      ]
    },
    {
      "metadata": {
        "id": "0wzhP3IXYnVQ",
        "colab_type": "code",
        "colab": {}
      },
      "cell_type": "code",
      "source": [
        "import pandas as pd\n",
        "from google.colab import files"
      ],
      "execution_count": 0,
      "outputs": []
    },
    {
      "metadata": {
        "id": "RWDWpbdPY0qd",
        "colab_type": "code",
        "colab": {
          "resources": {
            "http://localhost:8080/nbextensions/google.colab/files.js": {
              "data": "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",
              "ok": true,
              "headers": [
                [
                  "content-type",
                  "application/javascript"
                ]
              ],
              "status": 200,
              "status_text": ""
            }
          },
          "base_uri": "https://localhost:8080/",
          "height": 35
        },
        "outputId": "2972238a-b23b-4cc2-d1dc-a40bba80a433"
      },
      "cell_type": "code",
      "source": [
        "uploaded = files.upload() # Graduate_apply.csv를 업로드 해두자"
      ],
      "execution_count": 3,
      "outputs": [
        {
          "output_type": "display_data",
          "data": {
            "text/html": [
              "\n",
              "     <input type=\"file\" id=\"files-52599288-5666-48b0-aca9-c17d5f2f45b7\" name=\"files[]\" multiple disabled />\n",
              "     <output id=\"result-52599288-5666-48b0-aca9-c17d5f2f45b7\">\n",
              "      Upload widget is only available when the cell has been executed in the\n",
              "      current browser session. Please rerun this cell to enable.\n",
              "      </output>\n",
              "      <script src=\"/nbextensions/google.colab/files.js\"></script> "
            ],
            "text/plain": [
              "<IPython.core.display.HTML object>"
            ]
          },
          "metadata": {
            "tags": []
          }
        }
      ]
    },
    {
      "metadata": {
        "id": "EJ4lNSv8aKCV",
        "colab_type": "code",
        "outputId": "4d075a71-24aa-41c1-9f8a-1969460f198c",
        "colab": {
          "base_uri": "https://localhost:8080/",
          "height": 34
        }
      },
      "cell_type": "code",
      "source": [
        "ls"
      ],
      "execution_count": 0,
      "outputs": [
        {
          "output_type": "stream",
          "text": [
            "\u001b[0m\u001b[01;34msample_data\u001b[0m/\n"
          ],
          "name": "stdout"
        }
      ]
    },
    {
      "metadata": {
        "id": "Bie5qwmkYnVT",
        "colab_type": "text"
      },
      "cell_type": "markdown",
      "source": [
        "## 01. Creating Data Frames"
      ]
    },
    {
      "metadata": {
        "id": "6LkPm72OYnVU",
        "colab_type": "code",
        "colab": {}
      },
      "cell_type": "code",
      "source": [
        "# Dataframes 생성\n",
        "d = {\n",
        "   'col1': ['Item0', 'Item0', 'Item1', 'Item1'],\n",
        "   'col2': ['Gold', 'Bronze', 'Gold', 'Silver'],\n",
        "   'col3': [1, 2, 3, 4]\n",
        "}\n",
        "df = pd.DataFrame(d)"
      ],
      "execution_count": 0,
      "outputs": []
    },
    {
      "metadata": {
        "id": "-QjceA2vYnVW",
        "colab_type": "code",
        "outputId": "05ca84ff-f2f9-4a60-91d6-9fd067924ffe",
        "colab": {
          "base_uri": "https://localhost:8080/",
          "height": 235
        }
      },
      "cell_type": "code",
      "source": [
        "# Numpy Array => Pandas DataFrame\n",
        "import numpy as np\n",
        "\n",
        "dates = pd.date_range('20171201', periods=6)\n",
        "# DatetimeIndex(['2017-12-01', '2017-12-02', '2017-12-03', '2017-12-04',\n",
        "#                '2017-12-05', '2017-12-06'],\n",
        "#               dtype='datetime64[ns]', freq='D')\n",
        "\n",
        "df = pd.DataFrame(np.random.randn(6, 4), index=dates, columns=list('ABCD'))\n",
        "#                   A         B         C         D\n",
        "# 2013-01-01  0.469112 -0.282863 -1.509059 -1.135632\n",
        "# 2013-01-02  1.212112 -0.173215  0.119209 -1.044236\n",
        "# 2013-01-03 -0.861849 -2.104569 -0.494929  1.071804\n",
        "# 2013-01-04  0.721555 -0.706771 -1.039575  0.271860\n",
        "# 2013-01-05 -0.424972  0.567020  0.276232 -1.087401\n",
        "# 2013-01-06 -0.673690  0.113648 -1.478427  0.524988\n",
        "\n",
        "df"
      ],
      "execution_count": 0,
      "outputs": [
        {
          "output_type": "execute_result",
          "data": {
            "text/html": [
              "<div>\n",
              "<style scoped>\n",
              "    .dataframe tbody tr th:only-of-type {\n",
              "        vertical-align: middle;\n",
              "    }\n",
              "\n",
              "    .dataframe tbody tr th {\n",
              "        vertical-align: top;\n",
              "    }\n",
              "\n",
              "    .dataframe thead th {\n",
              "        text-align: right;\n",
              "    }\n",
              "</style>\n",
              "<table border=\"1\" class=\"dataframe\">\n",
              "  <thead>\n",
              "    <tr style=\"text-align: right;\">\n",
              "      <th></th>\n",
              "      <th>A</th>\n",
              "      <th>B</th>\n",
              "      <th>C</th>\n",
              "      <th>D</th>\n",
              "    </tr>\n",
              "  </thead>\n",
              "  <tbody>\n",
              "    <tr>\n",
              "      <th>2017-12-01</th>\n",
              "      <td>-0.577228</td>\n",
              "      <td>0.311551</td>\n",
              "      <td>-1.153918</td>\n",
              "      <td>0.238069</td>\n",
              "    </tr>\n",
              "    <tr>\n",
              "      <th>2017-12-02</th>\n",
              "      <td>-0.963516</td>\n",
              "      <td>-0.631983</td>\n",
              "      <td>0.154448</td>\n",
              "      <td>2.305274</td>\n",
              "    </tr>\n",
              "    <tr>\n",
              "      <th>2017-12-03</th>\n",
              "      <td>-0.460524</td>\n",
              "      <td>-0.097646</td>\n",
              "      <td>0.484269</td>\n",
              "      <td>0.214091</td>\n",
              "    </tr>\n",
              "    <tr>\n",
              "      <th>2017-12-04</th>\n",
              "      <td>0.342852</td>\n",
              "      <td>0.571400</td>\n",
              "      <td>1.123222</td>\n",
              "      <td>-0.303799</td>\n",
              "    </tr>\n",
              "    <tr>\n",
              "      <th>2017-12-05</th>\n",
              "      <td>0.380792</td>\n",
              "      <td>-0.043548</td>\n",
              "      <td>-0.027315</td>\n",
              "      <td>-0.573059</td>\n",
              "    </tr>\n",
              "    <tr>\n",
              "      <th>2017-12-06</th>\n",
              "      <td>-0.315588</td>\n",
              "      <td>0.472121</td>\n",
              "      <td>-0.117212</td>\n",
              "      <td>0.999220</td>\n",
              "    </tr>\n",
              "  </tbody>\n",
              "</table>\n",
              "</div>"
            ],
            "text/plain": [
              "                   A         B         C         D\n",
              "2017-12-01 -0.577228  0.311551 -1.153918  0.238069\n",
              "2017-12-02 -0.963516 -0.631983  0.154448  2.305274\n",
              "2017-12-03 -0.460524 -0.097646  0.484269  0.214091\n",
              "2017-12-04  0.342852  0.571400  1.123222 -0.303799\n",
              "2017-12-05  0.380792 -0.043548 -0.027315 -0.573059\n",
              "2017-12-06 -0.315588  0.472121 -0.117212  0.999220"
            ]
          },
          "metadata": {
            "tags": []
          },
          "execution_count": 8
        }
      ]
    },
    {
      "metadata": {
        "id": "JD8ItbgpYnVY",
        "colab_type": "code",
        "outputId": "5052ecf1-5ffe-4d9d-9c4f-7fbf5a58a21b",
        "colab": {
          "base_uri": "https://localhost:8080/",
          "height": 85
        }
      },
      "cell_type": "code",
      "source": [
        "# Pandas DataFrame => Numpy Array\n",
        "np_array = df.values\n",
        "print(np_array, np_array.shape)"
      ],
      "execution_count": 0,
      "outputs": [
        {
          "output_type": "stream",
          "text": [
            "[['Item0' 'Gold' 1]\n",
            " ['Item0' 'Bronze' 2]\n",
            " ['Item1' 'Gold' 3]\n",
            " ['Item1' 'Silver' 4]] (4, 3)\n"
          ],
          "name": "stdout"
        }
      ]
    },
    {
      "metadata": {
        "id": "T7fRsCz3rwCX",
        "colab_type": "code",
        "outputId": "6b7745ed-8403-4ea8-cdf1-9c27cecb6301",
        "colab": {
          "base_uri": "https://localhost:8080/",
          "height": 232
        }
      },
      "cell_type": "code",
      "source": [
        "# Loading CSV files\n",
        "\n",
        "df = pd.read_csv('https://raw.githubusercontent.com/RayleighKim/Example_datasets/master/Graduate_apply.csv', sep=',')\n",
        "\n",
        "# 데이터 미리보기(head, 다섯개까지 보여줌)\n",
        "df.head()\n",
        "\n",
        "# Gre : 시험 성적\n",
        "# gpa : 평점\n",
        "# rank : 학교순위\n",
        "# admit : 0=불합격, 1=합격\n",
        "\n",
        "## 학교순위에 따라 합격 불합격을 알아볼 수 있다"
      ],
      "execution_count": 1,
      "outputs": [
        {
          "output_type": "error",
          "ename": "NameError",
          "evalue": "ignored",
          "traceback": [
            "\u001b[0;31m---------------------------------------------------------------------------\u001b[0m",
            "\u001b[0;31mNameError\u001b[0m                                 Traceback (most recent call last)",
            "\u001b[0;32m<ipython-input-1-54a445df1381>\u001b[0m in \u001b[0;36m<module>\u001b[0;34m()\u001b[0m\n\u001b[1;32m      1\u001b[0m \u001b[0;34m\u001b[0m\u001b[0m\n\u001b[0;32m----> 2\u001b[0;31m \u001b[0mdf\u001b[0m \u001b[0;34m=\u001b[0m \u001b[0mpd\u001b[0m\u001b[0;34m.\u001b[0m\u001b[0mread_csv\u001b[0m\u001b[0;34m(\u001b[0m\u001b[0;34m'https://raw.githubusercontent.com/RayleighKim/Example_datasets/master/Graduate_apply.csv'\u001b[0m\u001b[0;34m,\u001b[0m \u001b[0msep\u001b[0m\u001b[0;34m=\u001b[0m\u001b[0;34m','\u001b[0m\u001b[0;34m)\u001b[0m\u001b[0;34m\u001b[0m\u001b[0;34m\u001b[0m\u001b[0m\n\u001b[0m\u001b[1;32m      3\u001b[0m \u001b[0;34m\u001b[0m\u001b[0m\n\u001b[1;32m      4\u001b[0m \u001b[0;31m# 데이터 미리보기(head, 다섯개까지 보여줌)\u001b[0m\u001b[0;34m\u001b[0m\u001b[0;34m\u001b[0m\u001b[0;34m\u001b[0m\u001b[0m\n\u001b[1;32m      5\u001b[0m \u001b[0mdf\u001b[0m\u001b[0;34m.\u001b[0m\u001b[0mhead\u001b[0m\u001b[0;34m(\u001b[0m\u001b[0;34m)\u001b[0m\u001b[0;34m\u001b[0m\u001b[0;34m\u001b[0m\u001b[0m\n",
            "\u001b[0;31mNameError\u001b[0m: name 'pd' is not defined"
          ]
        }
      ]
    },
    {
      "metadata": {
        "id": "C1Q9PBtVrv6l",
        "colab_type": "code",
        "outputId": "e49348c4-f4ad-42fd-e8bd-91adcf3e0eb4",
        "colab": {
          "base_uri": "https://localhost:8080/",
          "height": 204
        }
      },
      "cell_type": "code",
      "source": [
        "df = pd.read_csv('https://raw.githubusercontent.com/RayleighKim/Example_datasets/master/Graduate_apply.csv', sep=',', skipinitialspace=True)\n",
        "df.head()\n"
      ],
      "execution_count": 0,
      "outputs": [
        {
          "output_type": "execute_result",
          "data": {
            "text/html": [
              "<div>\n",
              "<style scoped>\n",
              "    .dataframe tbody tr th:only-of-type {\n",
              "        vertical-align: middle;\n",
              "    }\n",
              "\n",
              "    .dataframe tbody tr th {\n",
              "        vertical-align: top;\n",
              "    }\n",
              "\n",
              "    .dataframe thead th {\n",
              "        text-align: right;\n",
              "    }\n",
              "</style>\n",
              "<table border=\"1\" class=\"dataframe\">\n",
              "  <thead>\n",
              "    <tr style=\"text-align: right;\">\n",
              "      <th></th>\n",
              "      <th>admit</th>\n",
              "      <th>gre</th>\n",
              "      <th>gpa</th>\n",
              "      <th>rank</th>\n",
              "    </tr>\n",
              "  </thead>\n",
              "  <tbody>\n",
              "    <tr>\n",
              "      <th>0</th>\n",
              "      <td>0</td>\n",
              "      <td>380</td>\n",
              "      <td>3.61</td>\n",
              "      <td>3</td>\n",
              "    </tr>\n",
              "    <tr>\n",
              "      <th>1</th>\n",
              "      <td>1</td>\n",
              "      <td>660</td>\n",
              "      <td>3.67</td>\n",
              "      <td>3</td>\n",
              "    </tr>\n",
              "    <tr>\n",
              "      <th>2</th>\n",
              "      <td>1</td>\n",
              "      <td>800</td>\n",
              "      <td>4.00</td>\n",
              "      <td>1</td>\n",
              "    </tr>\n",
              "    <tr>\n",
              "      <th>3</th>\n",
              "      <td>1</td>\n",
              "      <td>640</td>\n",
              "      <td>3.19</td>\n",
              "      <td>4</td>\n",
              "    </tr>\n",
              "    <tr>\n",
              "      <th>4</th>\n",
              "      <td>0</td>\n",
              "      <td>520</td>\n",
              "      <td>2.93</td>\n",
              "      <td>4</td>\n",
              "    </tr>\n",
              "  </tbody>\n",
              "</table>\n",
              "</div>"
            ],
            "text/plain": [
              "   admit  gre   gpa  rank\n",
              "0      0  380  3.61     3\n",
              "1      1  660  3.67     3\n",
              "2      1  800  4.00     1\n",
              "3      1  640  3.19     4\n",
              "4      0  520  2.93     4"
            ]
          },
          "metadata": {
            "tags": []
          },
          "execution_count": 11
        }
      ]
    },
    {
      "metadata": {
        "id": "ebbBZk6r-v3H",
        "colab_type": "text"
      },
      "cell_type": "markdown",
      "source": [
        "Ctrl + / : 주석 전체 처리/해제\n",
        "\n",
        "블럭 + tab : 한번에 밀어쓰기\n",
        "\n",
        "블럭 + shift + tab : 한번에 들여쓰기"
      ]
    },
    {
      "metadata": {
        "id": "oEKAmGsQYnVb",
        "colab_type": "code",
        "colab": {}
      },
      "cell_type": "code",
      "source": [
        "# to_csv\n",
        "# 데이터 불러오고 저장하기(구글 마운트가 되어 있지 않으면 나중에 날아감)\n",
        "\n",
        "df.to_csv('./file.csv', header=True, index=False, encoding='utf-8')"
      ],
      "execution_count": 0,
      "outputs": []
    },
    {
      "metadata": {
        "id": "B9NZbzsOmE9Q",
        "colab_type": "code",
        "outputId": "747291d9-10d7-456a-a779-e7e6015c6724",
        "colab": {
          "base_uri": "https://localhost:8080/",
          "height": 34
        }
      },
      "cell_type": "code",
      "source": [
        "ls"
      ],
      "execution_count": 0,
      "outputs": [
        {
          "output_type": "stream",
          "text": [
            "\u001b[0m\u001b[01;34msample_data\u001b[0m/\n"
          ],
          "name": "stdout"
        }
      ]
    },
    {
      "metadata": {
        "id": "-RYoYWk-YnVc",
        "colab_type": "text"
      },
      "cell_type": "markdown",
      "source": [
        "## 02. Previewing Data"
      ]
    },
    {
      "metadata": {
        "id": "3V0T5qwfYnVd",
        "colab_type": "code",
        "outputId": "a4e7a87e-ee99-4ea0-de95-57bd06be0981",
        "colab": {
          "base_uri": "https://localhost:8080/",
          "height": 204
        }
      },
      "cell_type": "code",
      "source": [
        "# 첫 5개 행의 데이터를 보여줍니다.\n",
        "df.head()"
      ],
      "execution_count": 0,
      "outputs": [
        {
          "output_type": "execute_result",
          "data": {
            "text/html": [
              "<div>\n",
              "<style scoped>\n",
              "    .dataframe tbody tr th:only-of-type {\n",
              "        vertical-align: middle;\n",
              "    }\n",
              "\n",
              "    .dataframe tbody tr th {\n",
              "        vertical-align: top;\n",
              "    }\n",
              "\n",
              "    .dataframe thead th {\n",
              "        text-align: right;\n",
              "    }\n",
              "</style>\n",
              "<table border=\"1\" class=\"dataframe\">\n",
              "  <thead>\n",
              "    <tr style=\"text-align: right;\">\n",
              "      <th></th>\n",
              "      <th>admit</th>\n",
              "      <th>gre</th>\n",
              "      <th>gpa</th>\n",
              "      <th>rank</th>\n",
              "    </tr>\n",
              "  </thead>\n",
              "  <tbody>\n",
              "    <tr>\n",
              "      <th>0</th>\n",
              "      <td>0</td>\n",
              "      <td>380</td>\n",
              "      <td>3.61</td>\n",
              "      <td>3</td>\n",
              "    </tr>\n",
              "    <tr>\n",
              "      <th>1</th>\n",
              "      <td>1</td>\n",
              "      <td>660</td>\n",
              "      <td>3.67</td>\n",
              "      <td>3</td>\n",
              "    </tr>\n",
              "    <tr>\n",
              "      <th>2</th>\n",
              "      <td>1</td>\n",
              "      <td>800</td>\n",
              "      <td>4.00</td>\n",
              "      <td>1</td>\n",
              "    </tr>\n",
              "    <tr>\n",
              "      <th>3</th>\n",
              "      <td>1</td>\n",
              "      <td>640</td>\n",
              "      <td>3.19</td>\n",
              "      <td>4</td>\n",
              "    </tr>\n",
              "    <tr>\n",
              "      <th>4</th>\n",
              "      <td>0</td>\n",
              "      <td>520</td>\n",
              "      <td>2.93</td>\n",
              "      <td>4</td>\n",
              "    </tr>\n",
              "  </tbody>\n",
              "</table>\n",
              "</div>"
            ],
            "text/plain": [
              "   admit  gre   gpa  rank\n",
              "0      0  380  3.61     3\n",
              "1      1  660  3.67     3\n",
              "2      1  800  4.00     1\n",
              "3      1  640  3.19     4\n",
              "4      0  520  2.93     4"
            ]
          },
          "metadata": {
            "tags": []
          },
          "execution_count": 14
        }
      ]
    },
    {
      "metadata": {
        "id": "2agjyJgBYnVf",
        "colab_type": "code",
        "outputId": "cc9e6a16-b922-4421-aea4-a9bfa0f0197f",
        "colab": {
          "base_uri": "https://localhost:8080/",
          "height": 142
        }
      },
      "cell_type": "code",
      "source": [
        "# 마지막 3개 행의 데이터를 보여줍니다.\n",
        "df.tail(3)"
      ],
      "execution_count": 0,
      "outputs": [
        {
          "output_type": "execute_result",
          "data": {
            "text/html": [
              "<div>\n",
              "<style scoped>\n",
              "    .dataframe tbody tr th:only-of-type {\n",
              "        vertical-align: middle;\n",
              "    }\n",
              "\n",
              "    .dataframe tbody tr th {\n",
              "        vertical-align: top;\n",
              "    }\n",
              "\n",
              "    .dataframe thead th {\n",
              "        text-align: right;\n",
              "    }\n",
              "</style>\n",
              "<table border=\"1\" class=\"dataframe\">\n",
              "  <thead>\n",
              "    <tr style=\"text-align: right;\">\n",
              "      <th></th>\n",
              "      <th>admit</th>\n",
              "      <th>gre</th>\n",
              "      <th>gpa</th>\n",
              "      <th>rank</th>\n",
              "    </tr>\n",
              "  </thead>\n",
              "  <tbody>\n",
              "    <tr>\n",
              "      <th>397</th>\n",
              "      <td>0</td>\n",
              "      <td>460</td>\n",
              "      <td>2.63</td>\n",
              "      <td>2</td>\n",
              "    </tr>\n",
              "    <tr>\n",
              "      <th>398</th>\n",
              "      <td>0</td>\n",
              "      <td>700</td>\n",
              "      <td>3.65</td>\n",
              "      <td>2</td>\n",
              "    </tr>\n",
              "    <tr>\n",
              "      <th>399</th>\n",
              "      <td>0</td>\n",
              "      <td>600</td>\n",
              "      <td>3.89</td>\n",
              "      <td>3</td>\n",
              "    </tr>\n",
              "  </tbody>\n",
              "</table>\n",
              "</div>"
            ],
            "text/plain": [
              "     admit  gre   gpa  rank\n",
              "397      0  460  2.63     2\n",
              "398      0  700  3.65     2\n",
              "399      0  600  3.89     3"
            ]
          },
          "metadata": {
            "tags": []
          },
          "execution_count": 15
        }
      ]
    },
    {
      "metadata": {
        "id": "EYh2NhMSYnVh",
        "colab_type": "code",
        "outputId": "d45c82b7-3362-475a-a973-3cc3885cccee",
        "colab": {
          "base_uri": "https://localhost:8080/",
          "height": 34
        }
      },
      "cell_type": "code",
      "source": [
        "# 데이터 프레임 모양 확인 - (rows, cols) tuple\n",
        "# 행렬 연산을 위해 중요함\n",
        "\n",
        "df.shape"
      ],
      "execution_count": 0,
      "outputs": [
        {
          "output_type": "execute_result",
          "data": {
            "text/plain": [
              "(400, 4)"
            ]
          },
          "metadata": {
            "tags": []
          },
          "execution_count": 16
        }
      ]
    },
    {
      "metadata": {
        "id": "YZp-NPIQYnVl",
        "colab_type": "code",
        "outputId": "7acbae21-59a4-4c26-b1c4-919259ed511c",
        "colab": {
          "base_uri": "https://localhost:8080/",
          "height": 51
        }
      },
      "cell_type": "code",
      "source": [
        "# 칼럼명 출력\n",
        "print(df.columns)\n",
        "\n",
        "# 칼럼명만 출력할 때 유용 (첫번째 칼럼, 혹은 특정 칼럼만 추출할 때 필요하다)\n",
        "print(list(df))"
      ],
      "execution_count": 0,
      "outputs": [
        {
          "output_type": "stream",
          "text": [
            "Index(['admit', 'gre', 'gpa', 'rank'], dtype='object')\n",
            "['admit', 'gre', 'gpa', 'rank']\n"
          ],
          "name": "stdout"
        }
      ]
    },
    {
      "metadata": {
        "id": "mJbpIbz2YnVn",
        "colab_type": "code",
        "outputId": "eaf12614-ed30-45f3-e400-b96cc9446a26",
        "colab": {
          "base_uri": "https://localhost:8080/",
          "height": 102
        }
      },
      "cell_type": "code",
      "source": [
        "# 각 칼럼의 데이터 타입\n",
        "df.dtypes\n",
        "\n",
        "# **저장효율을 위한 데이터 구조와 머신러닝에 적용하기에 좋은 데이터구조는 다르다**\n",
        "# 개발자와 머신러닝개발자의 사이에서 데이터구조에 대한 의사소통이 중요하다"
      ],
      "execution_count": 0,
      "outputs": [
        {
          "output_type": "execute_result",
          "data": {
            "text/plain": [
              "admit      int64\n",
              "gre        int64\n",
              "gpa      float64\n",
              "rank       int64\n",
              "dtype: object"
            ]
          },
          "metadata": {
            "tags": []
          },
          "execution_count": 19
        }
      ]
    },
    {
      "metadata": {
        "id": "O-a2QMLXYnVu",
        "colab_type": "code",
        "outputId": "efecc3cf-d404-4b99-dfb5-8a9d81166a8d",
        "colab": {
          "base_uri": "https://localhost:8080/",
          "height": 136
        }
      },
      "cell_type": "code",
      "source": [
        "# 일단 pandas로 데이터를 불러오고 전처리한다. (그전까지는 아무것도 할 필요없음)\n",
        "\n",
        "# 이제 numpy로 넘긴다 (연산을 위함)\n",
        "# 데이터 출력 - numpy array\n",
        "# array로 불러올 수 있다\n",
        "df.values"
      ],
      "execution_count": 0,
      "outputs": [
        {
          "output_type": "execute_result",
          "data": {
            "text/plain": [
              "array([[  0.  , 380.  ,   3.61,   3.  ],\n",
              "       [  1.  , 660.  ,   3.67,   3.  ],\n",
              "       [  1.  , 800.  ,   4.  ,   1.  ],\n",
              "       ...,\n",
              "       [  0.  , 460.  ,   2.63,   2.  ],\n",
              "       [  0.  , 700.  ,   3.65,   2.  ],\n",
              "       [  0.  , 600.  ,   3.89,   3.  ]])"
            ]
          },
          "metadata": {
            "tags": []
          },
          "execution_count": 21
        }
      ]
    },
    {
      "metadata": {
        "id": "8Z8rhBNBYnVw",
        "colab_type": "code",
        "outputId": "6184bdb3-77f3-4531-eb5c-ada746fa62b8",
        "colab": {
          "base_uri": "https://localhost:8080/",
          "height": 297
        }
      },
      "cell_type": "code",
      "source": [
        "# 간단한 통계 정보\n",
        "df.describe()\n",
        "\n",
        "# 변수를 선택할 때 도움될 수 있다."
      ],
      "execution_count": 0,
      "outputs": [
        {
          "output_type": "execute_result",
          "data": {
            "text/html": [
              "<div>\n",
              "<style scoped>\n",
              "    .dataframe tbody tr th:only-of-type {\n",
              "        vertical-align: middle;\n",
              "    }\n",
              "\n",
              "    .dataframe tbody tr th {\n",
              "        vertical-align: top;\n",
              "    }\n",
              "\n",
              "    .dataframe thead th {\n",
              "        text-align: right;\n",
              "    }\n",
              "</style>\n",
              "<table border=\"1\" class=\"dataframe\">\n",
              "  <thead>\n",
              "    <tr style=\"text-align: right;\">\n",
              "      <th></th>\n",
              "      <th>admit</th>\n",
              "      <th>gre</th>\n",
              "      <th>gpa</th>\n",
              "      <th>rank</th>\n",
              "    </tr>\n",
              "  </thead>\n",
              "  <tbody>\n",
              "    <tr>\n",
              "      <th>count</th>\n",
              "      <td>400.000000</td>\n",
              "      <td>400.000000</td>\n",
              "      <td>400.000000</td>\n",
              "      <td>400.00000</td>\n",
              "    </tr>\n",
              "    <tr>\n",
              "      <th>mean</th>\n",
              "      <td>0.317500</td>\n",
              "      <td>587.700000</td>\n",
              "      <td>3.389900</td>\n",
              "      <td>2.48500</td>\n",
              "    </tr>\n",
              "    <tr>\n",
              "      <th>std</th>\n",
              "      <td>0.466087</td>\n",
              "      <td>115.516536</td>\n",
              "      <td>0.380567</td>\n",
              "      <td>0.94446</td>\n",
              "    </tr>\n",
              "    <tr>\n",
              "      <th>min</th>\n",
              "      <td>0.000000</td>\n",
              "      <td>220.000000</td>\n",
              "      <td>2.260000</td>\n",
              "      <td>1.00000</td>\n",
              "    </tr>\n",
              "    <tr>\n",
              "      <th>25%</th>\n",
              "      <td>0.000000</td>\n",
              "      <td>520.000000</td>\n",
              "      <td>3.130000</td>\n",
              "      <td>2.00000</td>\n",
              "    </tr>\n",
              "    <tr>\n",
              "      <th>50%</th>\n",
              "      <td>0.000000</td>\n",
              "      <td>580.000000</td>\n",
              "      <td>3.395000</td>\n",
              "      <td>2.00000</td>\n",
              "    </tr>\n",
              "    <tr>\n",
              "      <th>75%</th>\n",
              "      <td>1.000000</td>\n",
              "      <td>660.000000</td>\n",
              "      <td>3.670000</td>\n",
              "      <td>3.00000</td>\n",
              "    </tr>\n",
              "    <tr>\n",
              "      <th>max</th>\n",
              "      <td>1.000000</td>\n",
              "      <td>800.000000</td>\n",
              "      <td>4.000000</td>\n",
              "      <td>4.00000</td>\n",
              "    </tr>\n",
              "  </tbody>\n",
              "</table>\n",
              "</div>"
            ],
            "text/plain": [
              "            admit         gre         gpa       rank\n",
              "count  400.000000  400.000000  400.000000  400.00000\n",
              "mean     0.317500  587.700000    3.389900    2.48500\n",
              "std      0.466087  115.516536    0.380567    0.94446\n",
              "min      0.000000  220.000000    2.260000    1.00000\n",
              "25%      0.000000  520.000000    3.130000    2.00000\n",
              "50%      0.000000  580.000000    3.395000    2.00000\n",
              "75%      1.000000  660.000000    3.670000    3.00000\n",
              "max      1.000000  800.000000    4.000000    4.00000"
            ]
          },
          "metadata": {
            "tags": []
          },
          "execution_count": 24
        }
      ]
    },
    {
      "metadata": {
        "id": "jPLYmNHQYnVy",
        "colab_type": "text"
      },
      "cell_type": "markdown",
      "source": [
        "## 03. Sorting"
      ]
    },
    {
      "metadata": {
        "id": "XtYZ3ykzYnVz",
        "colab_type": "code",
        "outputId": "ca723bc1-90cf-4a99-875f-e8eca657412a",
        "colab": {
          "base_uri": "https://localhost:8080/",
          "height": 204
        }
      },
      "cell_type": "code",
      "source": [
        "# index로 정렬\n",
        "df.sort_index(axis=0, ascending=False).head()"
      ],
      "execution_count": 0,
      "outputs": [
        {
          "output_type": "execute_result",
          "data": {
            "text/html": [
              "<div>\n",
              "<style scoped>\n",
              "    .dataframe tbody tr th:only-of-type {\n",
              "        vertical-align: middle;\n",
              "    }\n",
              "\n",
              "    .dataframe tbody tr th {\n",
              "        vertical-align: top;\n",
              "    }\n",
              "\n",
              "    .dataframe thead th {\n",
              "        text-align: right;\n",
              "    }\n",
              "</style>\n",
              "<table border=\"1\" class=\"dataframe\">\n",
              "  <thead>\n",
              "    <tr style=\"text-align: right;\">\n",
              "      <th></th>\n",
              "      <th>admit</th>\n",
              "      <th>gre</th>\n",
              "      <th>gpa</th>\n",
              "      <th>rank</th>\n",
              "    </tr>\n",
              "  </thead>\n",
              "  <tbody>\n",
              "    <tr>\n",
              "      <th>399</th>\n",
              "      <td>0</td>\n",
              "      <td>600</td>\n",
              "      <td>3.89</td>\n",
              "      <td>3</td>\n",
              "    </tr>\n",
              "    <tr>\n",
              "      <th>398</th>\n",
              "      <td>0</td>\n",
              "      <td>700</td>\n",
              "      <td>3.65</td>\n",
              "      <td>2</td>\n",
              "    </tr>\n",
              "    <tr>\n",
              "      <th>397</th>\n",
              "      <td>0</td>\n",
              "      <td>460</td>\n",
              "      <td>2.63</td>\n",
              "      <td>2</td>\n",
              "    </tr>\n",
              "    <tr>\n",
              "      <th>396</th>\n",
              "      <td>0</td>\n",
              "      <td>560</td>\n",
              "      <td>3.04</td>\n",
              "      <td>3</td>\n",
              "    </tr>\n",
              "    <tr>\n",
              "      <th>395</th>\n",
              "      <td>0</td>\n",
              "      <td>620</td>\n",
              "      <td>4.00</td>\n",
              "      <td>2</td>\n",
              "    </tr>\n",
              "  </tbody>\n",
              "</table>\n",
              "</div>"
            ],
            "text/plain": [
              "     admit  gre   gpa  rank\n",
              "399      0  600  3.89     3\n",
              "398      0  700  3.65     2\n",
              "397      0  460  2.63     2\n",
              "396      0  560  3.04     3\n",
              "395      0  620  4.00     2"
            ]
          },
          "metadata": {
            "tags": []
          },
          "execution_count": 25
        }
      ]
    },
    {
      "metadata": {
        "id": "b54Sod9nYnV2",
        "colab_type": "code",
        "outputId": "db4dc71e-50e3-48d7-827b-6e13c6d1f2c0",
        "colab": {
          "base_uri": "https://localhost:8080/",
          "height": 204
        }
      },
      "cell_type": "code",
      "source": [
        "# 특정 컬럼의 값으로 정렬\n",
        "df.sort_values(by=['admit', 'gpa'], ascending=False).head()"
      ],
      "execution_count": 0,
      "outputs": [
        {
          "output_type": "execute_result",
          "data": {
            "text/html": [
              "<div>\n",
              "<style scoped>\n",
              "    .dataframe tbody tr th:only-of-type {\n",
              "        vertical-align: middle;\n",
              "    }\n",
              "\n",
              "    .dataframe tbody tr th {\n",
              "        vertical-align: top;\n",
              "    }\n",
              "\n",
              "    .dataframe thead th {\n",
              "        text-align: right;\n",
              "    }\n",
              "</style>\n",
              "<table border=\"1\" class=\"dataframe\">\n",
              "  <thead>\n",
              "    <tr style=\"text-align: right;\">\n",
              "      <th></th>\n",
              "      <th>admit</th>\n",
              "      <th>gre</th>\n",
              "      <th>gpa</th>\n",
              "      <th>rank</th>\n",
              "    </tr>\n",
              "  </thead>\n",
              "  <tbody>\n",
              "    <tr>\n",
              "      <th>2</th>\n",
              "      <td>1</td>\n",
              "      <td>800</td>\n",
              "      <td>4.0</td>\n",
              "      <td>1</td>\n",
              "    </tr>\n",
              "    <tr>\n",
              "      <th>12</th>\n",
              "      <td>1</td>\n",
              "      <td>760</td>\n",
              "      <td>4.0</td>\n",
              "      <td>1</td>\n",
              "    </tr>\n",
              "    <tr>\n",
              "      <th>14</th>\n",
              "      <td>1</td>\n",
              "      <td>700</td>\n",
              "      <td>4.0</td>\n",
              "      <td>1</td>\n",
              "    </tr>\n",
              "    <tr>\n",
              "      <th>33</th>\n",
              "      <td>1</td>\n",
              "      <td>800</td>\n",
              "      <td>4.0</td>\n",
              "      <td>3</td>\n",
              "    </tr>\n",
              "    <tr>\n",
              "      <th>55</th>\n",
              "      <td>1</td>\n",
              "      <td>740</td>\n",
              "      <td>4.0</td>\n",
              "      <td>3</td>\n",
              "    </tr>\n",
              "  </tbody>\n",
              "</table>\n",
              "</div>"
            ],
            "text/plain": [
              "    admit  gre  gpa  rank\n",
              "2       1  800  4.0     1\n",
              "12      1  760  4.0     1\n",
              "14      1  700  4.0     1\n",
              "33      1  800  4.0     3\n",
              "55      1  740  4.0     3"
            ]
          },
          "metadata": {
            "tags": []
          },
          "execution_count": 26
        }
      ]
    },
    {
      "metadata": {
        "id": "hUWXEi1KYnV4",
        "colab_type": "text"
      },
      "cell_type": "markdown",
      "source": [
        "### 실습"
      ]
    },
    {
      "metadata": {
        "id": "LanCge2QYnV4",
        "colab_type": "code",
        "outputId": "929ef0cb-b2da-4235-f60f-cc0d557a4ec0",
        "colab": {
          "base_uri": "https://localhost:8080/",
          "height": 2071
        }
      },
      "cell_type": "code",
      "source": [
        "# pandas 라이브러리 호출\n",
        "import pandas as pd\n",
        "\n",
        "# pandas read_csv 함수를 이용하여 ./resources/graduate_apply.csv 파일을 읽고, data_frame 변수에 담습니다. \n",
        "data_frame = pd.read_csv('https://raw.githubusercontent.com/RayleighKim/Example_datasets/master/Graduate_apply.csv')\n",
        "\n",
        "# data_frame의 shape를 확인합니다.\n",
        "data_frame.shape\n",
        "\n",
        "# data_frame의 칼럼명과 각 칼럼의 데이터 타입을 확인합니다.\n",
        "print(list(data_frame))\n",
        "print(data_frame.dtypes)\n",
        "\n",
        "# data_frame의 데이터의 첫 3행의 데이터와 마지막 3행의 데이터를 출력합니다.\n",
        "data_frame.head(3)\n",
        "data_frame.tail(3)\n",
        "\n",
        "# data_frame의 데이터를 numpy array로 변환하여 출력합니다.\n",
        "data_frame.values\n",
        "\n",
        "# data_frame의 데이터를 'gra' 칼럼을 기준으로 오름차순으로 정렬합니다. \n",
        "data_frame.sort_values(by=['gre'], ascending = 'True')\n"
      ],
      "execution_count": 0,
      "outputs": [
        {
          "output_type": "stream",
          "text": [
            "['admit', 'gre', 'gpa', 'rank']\n",
            "admit      int64\n",
            "gre        int64\n",
            "gpa      float64\n",
            "rank       int64\n",
            "dtype: object\n"
          ],
          "name": "stdout"
        },
        {
          "output_type": "execute_result",
          "data": {
            "text/html": [
              "<div>\n",
              "<style scoped>\n",
              "    .dataframe tbody tr th:only-of-type {\n",
              "        vertical-align: middle;\n",
              "    }\n",
              "\n",
              "    .dataframe tbody tr th {\n",
              "        vertical-align: top;\n",
              "    }\n",
              "\n",
              "    .dataframe thead th {\n",
              "        text-align: right;\n",
              "    }\n",
              "</style>\n",
              "<table border=\"1\" class=\"dataframe\">\n",
              "  <thead>\n",
              "    <tr style=\"text-align: right;\">\n",
              "      <th></th>\n",
              "      <th>admit</th>\n",
              "      <th>gre</th>\n",
              "      <th>gpa</th>\n",
              "      <th>rank</th>\n",
              "    </tr>\n",
              "  </thead>\n",
              "  <tbody>\n",
              "    <tr>\n",
              "      <th>304</th>\n",
              "      <td>0</td>\n",
              "      <td>220</td>\n",
              "      <td>2.83</td>\n",
              "      <td>3</td>\n",
              "    </tr>\n",
              "    <tr>\n",
              "      <th>179</th>\n",
              "      <td>0</td>\n",
              "      <td>300</td>\n",
              "      <td>3.01</td>\n",
              "      <td>3</td>\n",
              "    </tr>\n",
              "    <tr>\n",
              "      <th>71</th>\n",
              "      <td>0</td>\n",
              "      <td>300</td>\n",
              "      <td>2.92</td>\n",
              "      <td>4</td>\n",
              "    </tr>\n",
              "    <tr>\n",
              "      <th>315</th>\n",
              "      <td>1</td>\n",
              "      <td>300</td>\n",
              "      <td>2.84</td>\n",
              "      <td>2</td>\n",
              "    </tr>\n",
              "    <tr>\n",
              "      <th>316</th>\n",
              "      <td>1</td>\n",
              "      <td>340</td>\n",
              "      <td>3.00</td>\n",
              "      <td>2</td>\n",
              "    </tr>\n",
              "    <tr>\n",
              "      <th>216</th>\n",
              "      <td>0</td>\n",
              "      <td>340</td>\n",
              "      <td>2.90</td>\n",
              "      <td>1</td>\n",
              "    </tr>\n",
              "    <tr>\n",
              "      <th>119</th>\n",
              "      <td>0</td>\n",
              "      <td>340</td>\n",
              "      <td>2.92</td>\n",
              "      <td>3</td>\n",
              "    </tr>\n",
              "    <tr>\n",
              "      <th>100</th>\n",
              "      <td>0</td>\n",
              "      <td>340</td>\n",
              "      <td>3.15</td>\n",
              "      <td>3</td>\n",
              "    </tr>\n",
              "    <tr>\n",
              "      <th>34</th>\n",
              "      <td>0</td>\n",
              "      <td>360</td>\n",
              "      <td>3.14</td>\n",
              "      <td>1</td>\n",
              "    </tr>\n",
              "    <tr>\n",
              "      <th>17</th>\n",
              "      <td>0</td>\n",
              "      <td>360</td>\n",
              "      <td>2.56</td>\n",
              "      <td>3</td>\n",
              "    </tr>\n",
              "    <tr>\n",
              "      <th>112</th>\n",
              "      <td>0</td>\n",
              "      <td>360</td>\n",
              "      <td>3.00</td>\n",
              "      <td>3</td>\n",
              "    </tr>\n",
              "    <tr>\n",
              "      <th>281</th>\n",
              "      <td>0</td>\n",
              "      <td>360</td>\n",
              "      <td>3.27</td>\n",
              "      <td>3</td>\n",
              "    </tr>\n",
              "    <tr>\n",
              "      <th>57</th>\n",
              "      <td>0</td>\n",
              "      <td>380</td>\n",
              "      <td>2.94</td>\n",
              "      <td>3</td>\n",
              "    </tr>\n",
              "    <tr>\n",
              "      <th>83</th>\n",
              "      <td>0</td>\n",
              "      <td>380</td>\n",
              "      <td>2.91</td>\n",
              "      <td>4</td>\n",
              "    </tr>\n",
              "    <tr>\n",
              "      <th>0</th>\n",
              "      <td>0</td>\n",
              "      <td>380</td>\n",
              "      <td>3.61</td>\n",
              "      <td>3</td>\n",
              "    </tr>\n",
              "    <tr>\n",
              "      <th>265</th>\n",
              "      <td>0</td>\n",
              "      <td>380</td>\n",
              "      <td>3.34</td>\n",
              "      <td>3</td>\n",
              "    </tr>\n",
              "    <tr>\n",
              "      <th>145</th>\n",
              "      <td>0</td>\n",
              "      <td>380</td>\n",
              "      <td>3.43</td>\n",
              "      <td>3</td>\n",
              "    </tr>\n",
              "    <tr>\n",
              "      <th>232</th>\n",
              "      <td>0</td>\n",
              "      <td>380</td>\n",
              "      <td>3.38</td>\n",
              "      <td>2</td>\n",
              "    </tr>\n",
              "    <tr>\n",
              "      <th>193</th>\n",
              "      <td>0</td>\n",
              "      <td>380</td>\n",
              "      <td>3.59</td>\n",
              "      <td>4</td>\n",
              "    </tr>\n",
              "    <tr>\n",
              "      <th>102</th>\n",
              "      <td>0</td>\n",
              "      <td>380</td>\n",
              "      <td>3.33</td>\n",
              "      <td>4</td>\n",
              "    </tr>\n",
              "    <tr>\n",
              "      <th>108</th>\n",
              "      <td>0</td>\n",
              "      <td>400</td>\n",
              "      <td>2.93</td>\n",
              "      <td>3</td>\n",
              "    </tr>\n",
              "    <tr>\n",
              "      <th>99</th>\n",
              "      <td>0</td>\n",
              "      <td>400</td>\n",
              "      <td>3.31</td>\n",
              "      <td>3</td>\n",
              "    </tr>\n",
              "    <tr>\n",
              "      <th>151</th>\n",
              "      <td>0</td>\n",
              "      <td>400</td>\n",
              "      <td>3.38</td>\n",
              "      <td>2</td>\n",
              "    </tr>\n",
              "    <tr>\n",
              "      <th>170</th>\n",
              "      <td>0</td>\n",
              "      <td>400</td>\n",
              "      <td>3.51</td>\n",
              "      <td>3</td>\n",
              "    </tr>\n",
              "    <tr>\n",
              "      <th>197</th>\n",
              "      <td>1</td>\n",
              "      <td>400</td>\n",
              "      <td>3.23</td>\n",
              "      <td>4</td>\n",
              "    </tr>\n",
              "    <tr>\n",
              "      <th>58</th>\n",
              "      <td>0</td>\n",
              "      <td>400</td>\n",
              "      <td>3.65</td>\n",
              "      <td>2</td>\n",
              "    </tr>\n",
              "    <tr>\n",
              "      <th>49</th>\n",
              "      <td>0</td>\n",
              "      <td>400</td>\n",
              "      <td>3.35</td>\n",
              "      <td>3</td>\n",
              "    </tr>\n",
              "    <tr>\n",
              "      <th>348</th>\n",
              "      <td>0</td>\n",
              "      <td>400</td>\n",
              "      <td>3.36</td>\n",
              "      <td>2</td>\n",
              "    </tr>\n",
              "    <tr>\n",
              "      <th>35</th>\n",
              "      <td>0</td>\n",
              "      <td>400</td>\n",
              "      <td>3.05</td>\n",
              "      <td>2</td>\n",
              "    </tr>\n",
              "    <tr>\n",
              "      <th>302</th>\n",
              "      <td>1</td>\n",
              "      <td>400</td>\n",
              "      <td>3.15</td>\n",
              "      <td>2</td>\n",
              "    </tr>\n",
              "    <tr>\n",
              "      <th>...</th>\n",
              "      <td>...</td>\n",
              "      <td>...</td>\n",
              "      <td>...</td>\n",
              "      <td>...</td>\n",
              "    </tr>\n",
              "    <tr>\n",
              "      <th>205</th>\n",
              "      <td>1</td>\n",
              "      <td>780</td>\n",
              "      <td>3.80</td>\n",
              "      <td>3</td>\n",
              "    </tr>\n",
              "    <tr>\n",
              "      <th>350</th>\n",
              "      <td>1</td>\n",
              "      <td>780</td>\n",
              "      <td>4.00</td>\n",
              "      <td>2</td>\n",
              "    </tr>\n",
              "    <tr>\n",
              "      <th>317</th>\n",
              "      <td>1</td>\n",
              "      <td>780</td>\n",
              "      <td>3.63</td>\n",
              "      <td>4</td>\n",
              "    </tr>\n",
              "    <tr>\n",
              "      <th>16</th>\n",
              "      <td>0</td>\n",
              "      <td>780</td>\n",
              "      <td>3.87</td>\n",
              "      <td>4</td>\n",
              "    </tr>\n",
              "    <tr>\n",
              "      <th>28</th>\n",
              "      <td>1</td>\n",
              "      <td>780</td>\n",
              "      <td>3.22</td>\n",
              "      <td>2</td>\n",
              "    </tr>\n",
              "    <tr>\n",
              "      <th>10</th>\n",
              "      <td>0</td>\n",
              "      <td>800</td>\n",
              "      <td>4.00</td>\n",
              "      <td>4</td>\n",
              "    </tr>\n",
              "    <tr>\n",
              "      <th>390</th>\n",
              "      <td>1</td>\n",
              "      <td>800</td>\n",
              "      <td>3.05</td>\n",
              "      <td>2</td>\n",
              "    </tr>\n",
              "    <tr>\n",
              "      <th>2</th>\n",
              "      <td>1</td>\n",
              "      <td>800</td>\n",
              "      <td>4.00</td>\n",
              "      <td>1</td>\n",
              "    </tr>\n",
              "    <tr>\n",
              "      <th>185</th>\n",
              "      <td>0</td>\n",
              "      <td>800</td>\n",
              "      <td>3.60</td>\n",
              "      <td>2</td>\n",
              "    </tr>\n",
              "    <tr>\n",
              "      <th>18</th>\n",
              "      <td>0</td>\n",
              "      <td>800</td>\n",
              "      <td>3.75</td>\n",
              "      <td>2</td>\n",
              "    </tr>\n",
              "    <tr>\n",
              "      <th>191</th>\n",
              "      <td>0</td>\n",
              "      <td>800</td>\n",
              "      <td>3.54</td>\n",
              "      <td>3</td>\n",
              "    </tr>\n",
              "    <tr>\n",
              "      <th>200</th>\n",
              "      <td>0</td>\n",
              "      <td>800</td>\n",
              "      <td>3.31</td>\n",
              "      <td>3</td>\n",
              "    </tr>\n",
              "    <tr>\n",
              "      <th>173</th>\n",
              "      <td>1</td>\n",
              "      <td>800</td>\n",
              "      <td>3.43</td>\n",
              "      <td>2</td>\n",
              "    </tr>\n",
              "    <tr>\n",
              "      <th>223</th>\n",
              "      <td>0</td>\n",
              "      <td>800</td>\n",
              "      <td>3.47</td>\n",
              "      <td>3</td>\n",
              "    </tr>\n",
              "    <tr>\n",
              "      <th>224</th>\n",
              "      <td>0</td>\n",
              "      <td>800</td>\n",
              "      <td>2.90</td>\n",
              "      <td>2</td>\n",
              "    </tr>\n",
              "    <tr>\n",
              "      <th>150</th>\n",
              "      <td>1</td>\n",
              "      <td>800</td>\n",
              "      <td>3.74</td>\n",
              "      <td>1</td>\n",
              "    </tr>\n",
              "    <tr>\n",
              "      <th>234</th>\n",
              "      <td>1</td>\n",
              "      <td>800</td>\n",
              "      <td>3.53</td>\n",
              "      <td>1</td>\n",
              "    </tr>\n",
              "    <tr>\n",
              "      <th>245</th>\n",
              "      <td>0</td>\n",
              "      <td>800</td>\n",
              "      <td>3.91</td>\n",
              "      <td>3</td>\n",
              "    </tr>\n",
              "    <tr>\n",
              "      <th>377</th>\n",
              "      <td>1</td>\n",
              "      <td>800</td>\n",
              "      <td>4.00</td>\n",
              "      <td>2</td>\n",
              "    </tr>\n",
              "    <tr>\n",
              "      <th>118</th>\n",
              "      <td>1</td>\n",
              "      <td>800</td>\n",
              "      <td>3.70</td>\n",
              "      <td>1</td>\n",
              "    </tr>\n",
              "    <tr>\n",
              "      <th>288</th>\n",
              "      <td>0</td>\n",
              "      <td>800</td>\n",
              "      <td>3.15</td>\n",
              "      <td>4</td>\n",
              "    </tr>\n",
              "    <tr>\n",
              "      <th>291</th>\n",
              "      <td>0</td>\n",
              "      <td>800</td>\n",
              "      <td>2.78</td>\n",
              "      <td>2</td>\n",
              "    </tr>\n",
              "    <tr>\n",
              "      <th>92</th>\n",
              "      <td>0</td>\n",
              "      <td>800</td>\n",
              "      <td>3.90</td>\n",
              "      <td>2</td>\n",
              "    </tr>\n",
              "    <tr>\n",
              "      <th>77</th>\n",
              "      <td>1</td>\n",
              "      <td>800</td>\n",
              "      <td>4.00</td>\n",
              "      <td>3</td>\n",
              "    </tr>\n",
              "    <tr>\n",
              "      <th>69</th>\n",
              "      <td>0</td>\n",
              "      <td>800</td>\n",
              "      <td>3.73</td>\n",
              "      <td>1</td>\n",
              "    </tr>\n",
              "    <tr>\n",
              "      <th>33</th>\n",
              "      <td>1</td>\n",
              "      <td>800</td>\n",
              "      <td>4.00</td>\n",
              "      <td>3</td>\n",
              "    </tr>\n",
              "    <tr>\n",
              "      <th>25</th>\n",
              "      <td>1</td>\n",
              "      <td>800</td>\n",
              "      <td>3.66</td>\n",
              "      <td>1</td>\n",
              "    </tr>\n",
              "    <tr>\n",
              "      <th>369</th>\n",
              "      <td>0</td>\n",
              "      <td>800</td>\n",
              "      <td>3.89</td>\n",
              "      <td>2</td>\n",
              "    </tr>\n",
              "    <tr>\n",
              "      <th>286</th>\n",
              "      <td>1</td>\n",
              "      <td>800</td>\n",
              "      <td>3.22</td>\n",
              "      <td>1</td>\n",
              "    </tr>\n",
              "    <tr>\n",
              "      <th>293</th>\n",
              "      <td>0</td>\n",
              "      <td>800</td>\n",
              "      <td>3.97</td>\n",
              "      <td>1</td>\n",
              "    </tr>\n",
              "  </tbody>\n",
              "</table>\n",
              "<p>400 rows × 4 columns</p>\n",
              "</div>"
            ],
            "text/plain": [
              "     admit  gre   gpa  rank\n",
              "304      0  220  2.83     3\n",
              "179      0  300  3.01     3\n",
              "71       0  300  2.92     4\n",
              "315      1  300  2.84     2\n",
              "316      1  340  3.00     2\n",
              "216      0  340  2.90     1\n",
              "119      0  340  2.92     3\n",
              "100      0  340  3.15     3\n",
              "34       0  360  3.14     1\n",
              "17       0  360  2.56     3\n",
              "112      0  360  3.00     3\n",
              "281      0  360  3.27     3\n",
              "57       0  380  2.94     3\n",
              "83       0  380  2.91     4\n",
              "0        0  380  3.61     3\n",
              "265      0  380  3.34     3\n",
              "145      0  380  3.43     3\n",
              "232      0  380  3.38     2\n",
              "193      0  380  3.59     4\n",
              "102      0  380  3.33     4\n",
              "108      0  400  2.93     3\n",
              "99       0  400  3.31     3\n",
              "151      0  400  3.38     2\n",
              "170      0  400  3.51     3\n",
              "197      1  400  3.23     4\n",
              "58       0  400  3.65     2\n",
              "49       0  400  3.35     3\n",
              "348      0  400  3.36     2\n",
              "35       0  400  3.05     2\n",
              "302      1  400  3.15     2\n",
              "..     ...  ...   ...   ...\n",
              "205      1  780  3.80     3\n",
              "350      1  780  4.00     2\n",
              "317      1  780  3.63     4\n",
              "16       0  780  3.87     4\n",
              "28       1  780  3.22     2\n",
              "10       0  800  4.00     4\n",
              "390      1  800  3.05     2\n",
              "2        1  800  4.00     1\n",
              "185      0  800  3.60     2\n",
              "18       0  800  3.75     2\n",
              "191      0  800  3.54     3\n",
              "200      0  800  3.31     3\n",
              "173      1  800  3.43     2\n",
              "223      0  800  3.47     3\n",
              "224      0  800  2.90     2\n",
              "150      1  800  3.74     1\n",
              "234      1  800  3.53     1\n",
              "245      0  800  3.91     3\n",
              "377      1  800  4.00     2\n",
              "118      1  800  3.70     1\n",
              "288      0  800  3.15     4\n",
              "291      0  800  2.78     2\n",
              "92       0  800  3.90     2\n",
              "77       1  800  4.00     3\n",
              "69       0  800  3.73     1\n",
              "33       1  800  4.00     3\n",
              "25       1  800  3.66     1\n",
              "369      0  800  3.89     2\n",
              "286      1  800  3.22     1\n",
              "293      0  800  3.97     1\n",
              "\n",
              "[400 rows x 4 columns]"
            ]
          },
          "metadata": {
            "tags": []
          },
          "execution_count": 10
        }
      ]
    },
    {
      "metadata": {
        "id": "WUSoqSxcYnV5",
        "colab_type": "text"
      },
      "cell_type": "markdown",
      "source": [
        "## 04. Selecting/Querying"
      ]
    },
    {
      "metadata": {
        "id": "TH8CN-tiYnV6",
        "colab_type": "code",
        "colab": {}
      },
      "cell_type": "code",
      "source": [
        "# 칼럼명으로 조회 1\n",
        "df.gre.head()\n",
        "\n",
        "# 오류 일으키기 쉬움 (칼럼에 str이 포함되어 있는 경우...)"
      ],
      "execution_count": 0,
      "outputs": []
    },
    {
      "metadata": {
        "id": "o43e-p5sCAtD",
        "colab_type": "text"
      },
      "cell_type": "markdown",
      "source": [
        "블럭 + [ : 블럭 안에 있는 단어 전체 괄호치기"
      ]
    },
    {
      "metadata": {
        "id": "udMMbPTPYnV8",
        "colab_type": "code",
        "colab": {}
      },
      "cell_type": "code",
      "source": [
        "# 칼럼명으로 조회 2\n",
        "df[['gre']].head()\n",
        "\n",
        "# []를 두개 써야 오류가 안나옴(pandas 데이터프레임은 판다스 시리즈라는 것의 컬렉션으로 이루어져있다. 시리즈와 일반 데이터프레임과 문법이 다른 경우가 있다. 시리즈 말고 데이터프레임 방식으로만 사용하자(일단))"
      ],
      "execution_count": 0,
      "outputs": []
    },
    {
      "metadata": {
        "id": "gF2cyLWOG_nr",
        "colab_type": "text"
      },
      "cell_type": "markdown",
      "source": [
        "[ ]를 두개 써야 오류가 대체적으로 안나옴(pandas 데이터프레임은 판다스 시리즈라는 것의 컬렉션으로 이루어져있다. 시리즈와 일반 데이터프레임과 문법이 다른 경우가 있다. 시리즈 말고 데이터프레임 방식으로만 사용하자(일단 []를 두번씩 사용하는걸로...))"
      ]
    },
    {
      "metadata": {
        "id": "PTneAxGP69h-",
        "colab_type": "code",
        "outputId": "f34a902d-5ca1-48e5-8d83-68c035a938fb",
        "colab": {
          "base_uri": "https://localhost:8080/",
          "height": 51
        }
      },
      "cell_type": "code",
      "source": [
        "df['gre'].unique()          # 중복 제거"
      ],
      "execution_count": 0,
      "outputs": [
        {
          "output_type": "execute_result",
          "data": {
            "text/plain": [
              "array([380, 660, 800, 640, 520, 760, 560, 400, 540, 700, 440, 480, 780,\n",
              "       360, 500, 600, 680, 620, 580, 460, 740, 300, 720, 340, 420, 220])"
            ]
          },
          "metadata": {
            "tags": []
          },
          "execution_count": 29
        }
      ]
    },
    {
      "metadata": {
        "id": "JMQJ3by7GmxN",
        "colab_type": "text"
      },
      "cell_type": "markdown",
      "source": [
        "위의 데이터를 보자\n",
        "\n",
        "min와 max 값의 차이가 굉장히 큰데도 불구하고 겹치는 데이터가 많다. (데이터 종류가 별로 없음)\n",
        "\n",
        "이런 경우는 중간 전처리 과정에서 데이터의 손실이 일어났을 가능성이 있다. (반올림 등등...)\n",
        "\n",
        "이런경우 머신러닝하는게 힘들다."
      ]
    },
    {
      "metadata": {
        "id": "GPp0xZqzYnV9",
        "colab_type": "code",
        "colab": {}
      },
      "cell_type": "code",
      "source": [
        "# 두 개의 칼럼 동시 조회\n",
        "df[['gpa', 'gre']].head()"
      ],
      "execution_count": 0,
      "outputs": []
    },
    {
      "metadata": {
        "id": "gLL3x8wWYnV_",
        "colab_type": "code",
        "outputId": "54cb6461-afa0-4fe5-9777-d5fd32162477",
        "colab": {
          "base_uri": "https://localhost:8080/",
          "height": 102
        }
      },
      "cell_type": "code",
      "source": [
        "# 행번호 1 조회\n",
        "df.iloc[1]"
      ],
      "execution_count": 0,
      "outputs": [
        {
          "output_type": "execute_result",
          "data": {
            "text/plain": [
              "admit      1.00\n",
              "gre      660.00\n",
              "gpa        3.67\n",
              "rank       3.00\n",
              "Name: 1, dtype: float64"
            ]
          },
          "metadata": {
            "tags": []
          },
          "execution_count": 31
        }
      ]
    },
    {
      "metadata": {
        "id": "PMXMj8iNYnWB",
        "colab_type": "code",
        "colab": {}
      },
      "cell_type": "code",
      "source": [
        "# 행번호 1~3 조회\n",
        "df.iloc[1:3]"
      ],
      "execution_count": 0,
      "outputs": []
    },
    {
      "metadata": {
        "id": "3_YNehA3YnWD",
        "colab_type": "code",
        "outputId": "adf34f15-ef57-4dba-c0dc-397a4fb36f9a",
        "colab": {
          "base_uri": "https://localhost:8080/",
          "height": 34
        }
      },
      "cell_type": "code",
      "source": [
        "# 0번째 row, 0번째 column\n",
        "df.iloc[0, 0]"
      ],
      "execution_count": 0,
      "outputs": [
        {
          "output_type": "execute_result",
          "data": {
            "text/plain": [
              "0"
            ]
          },
          "metadata": {
            "tags": []
          },
          "execution_count": 32
        }
      ]
    },
    {
      "metadata": {
        "id": "hOcph2gbYnWF",
        "colab_type": "code",
        "outputId": "45446b16-2fa2-44fa-fe9a-f5170a836ef9",
        "colab": {
          "base_uri": "https://localhost:8080/",
          "height": 173
        }
      },
      "cell_type": "code",
      "source": [
        "# 0~4 rows & 0~2 columns\n",
        "df.iloc[0:4, 0:2]"
      ],
      "execution_count": 0,
      "outputs": [
        {
          "output_type": "execute_result",
          "data": {
            "text/html": [
              "<div>\n",
              "<style scoped>\n",
              "    .dataframe tbody tr th:only-of-type {\n",
              "        vertical-align: middle;\n",
              "    }\n",
              "\n",
              "    .dataframe tbody tr th {\n",
              "        vertical-align: top;\n",
              "    }\n",
              "\n",
              "    .dataframe thead th {\n",
              "        text-align: right;\n",
              "    }\n",
              "</style>\n",
              "<table border=\"1\" class=\"dataframe\">\n",
              "  <thead>\n",
              "    <tr style=\"text-align: right;\">\n",
              "      <th></th>\n",
              "      <th>admit</th>\n",
              "      <th>gre</th>\n",
              "    </tr>\n",
              "  </thead>\n",
              "  <tbody>\n",
              "    <tr>\n",
              "      <th>0</th>\n",
              "      <td>0</td>\n",
              "      <td>380</td>\n",
              "    </tr>\n",
              "    <tr>\n",
              "      <th>1</th>\n",
              "      <td>1</td>\n",
              "      <td>660</td>\n",
              "    </tr>\n",
              "    <tr>\n",
              "      <th>2</th>\n",
              "      <td>1</td>\n",
              "      <td>800</td>\n",
              "    </tr>\n",
              "    <tr>\n",
              "      <th>3</th>\n",
              "      <td>1</td>\n",
              "      <td>640</td>\n",
              "    </tr>\n",
              "  </tbody>\n",
              "</table>\n",
              "</div>"
            ],
            "text/plain": [
              "   admit  gre\n",
              "0      0  380\n",
              "1      1  660\n",
              "2      1  800\n",
              "3      1  640"
            ]
          },
          "metadata": {
            "tags": []
          },
          "execution_count": 33
        }
      ]
    },
    {
      "metadata": {
        "id": "0F1Hu1buYnWG",
        "colab_type": "code",
        "colab": {}
      },
      "cell_type": "code",
      "source": [
        "# Produces and array, not a single value!\n",
        "(df.gpa > 3.5).head()\n",
        "\n",
        "# Attribute로 instance를 불러오는건 사용하지말자.(한글...등 문제가 많다)"
      ],
      "execution_count": 0,
      "outputs": []
    },
    {
      "metadata": {
        "id": "Kp2lBEDTYnWI",
        "colab_type": "code",
        "colab": {}
      },
      "cell_type": "code",
      "source": [
        "# Query by a single column value\n",
        "df[df.gpa > 3.0].head()"
      ],
      "execution_count": 0,
      "outputs": []
    },
    {
      "metadata": {
        "id": "QcvToTXBYnWJ",
        "colab_type": "code",
        "colab": {}
      },
      "cell_type": "code",
      "source": [
        "# Query by a single column, if it is in a list of predefined values\n",
        "df[df['rank'].isin([1, 2])].head()"
      ],
      "execution_count": 0,
      "outputs": []
    },
    {
      "metadata": {
        "id": "Vj3YKKw3YnWL",
        "colab_type": "code",
        "colab": {}
      },
      "cell_type": "code",
      "source": [
        "# A conjunction query using two columns\n",
        "df[(df['gpa'] > 3.0) & (df['rank'] == 3)].head()"
      ],
      "execution_count": 0,
      "outputs": []
    },
    {
      "metadata": {
        "id": "WNZS-UD_YnWO",
        "colab_type": "code",
        "colab": {}
      },
      "cell_type": "code",
      "source": [
        "# A disjunction query using two columns\n",
        "df[(df['gpa'] > 3.0) | (df['rank'] == 3)].head()"
      ],
      "execution_count": 0,
      "outputs": []
    },
    {
      "metadata": {
        "id": "d9YbMOjqYnWP",
        "colab_type": "code",
        "colab": {}
      },
      "cell_type": "code",
      "source": [
        "# Dataframes 생성\n",
        "d = {\n",
        "   'col1': ['Item0', 'Item0', 'Item1', 'Item1'],\n",
        "   'col2': ['Gold', 'Bronze', 'Gold', 'Silver'],\n",
        "   'col3': [1, 2, 3, 4]\n",
        "}\n",
        "df1 = pd.DataFrame(d)\n",
        "\n",
        "# 문자열이 들어있는 row만 조회\n",
        "df1[df1.col2.str.contains('ilver')]"
      ],
      "execution_count": 0,
      "outputs": []
    },
    {
      "metadata": {
        "id": "jCKFM4VHYnWS",
        "colab_type": "text"
      },
      "cell_type": "markdown",
      "source": [
        "### 실습"
      ]
    },
    {
      "metadata": {
        "id": "5q6cYIfpYnWS",
        "colab_type": "code",
        "colab": {}
      },
      "cell_type": "code",
      "source": [
        "# pandas 라이브러리 호출\n",
        "\n",
        "# pandas read_csv 함수를 이용하여 ./resources/graduate_apply.csv 파일을 읽고, data_frame 변수에 담습니다. \n",
        "\n",
        "# data_frame의 shape를 확인합니다.\n",
        "\n",
        "# data_frame의 칼럼명과 각 칼럼의 데이터 타입을 확인합니다.\n",
        "\n",
        "# data_frame의 데이터의 첫 3행의 데이터와 마지막 3행의 데이터를 출력합니다.\n",
        "\n",
        "# 'gpa' 칼럼의 데이터를 조회합니다. \n",
        "\n",
        "# unique 함수를 가지고 'rank'의 칼럼에 들어있는 데이터의 종류를 확인합니다.\n",
        "\n",
        "# 100번째 행의 데이터를 조회합니다.\n",
        "\n",
        "# rank가 0인 데이터를 조회합니다. \n",
        "\n",
        "# rank가 3, 4인 데이터의 갯수를 확인합니다.\n"
      ],
      "execution_count": 0,
      "outputs": []
    },
    {
      "metadata": {
        "id": "0kW6dzBFYnWW",
        "colab_type": "text"
      },
      "cell_type": "markdown",
      "source": [
        "## 05. Modifying Data Frames"
      ]
    },
    {
      "metadata": {
        "id": "qeUasveBYnWX",
        "colab_type": "code",
        "colab": {}
      },
      "cell_type": "code",
      "source": [
        "# 인덱스와 칼럼명으로 조회 & 수정\n",
        "df1.loc[1, 'col2'] = 'Bronze and Gold' \n",
        "df1"
      ],
      "execution_count": 0,
      "outputs": []
    },
    {
      "metadata": {
        "id": "R1-XPQlGYnWZ",
        "colab_type": "code",
        "colab": {}
      },
      "cell_type": "code",
      "source": [
        "# 행번호, 열번호로 조회 & 수정\n",
        "df1.iloc[1, 1] = 'Bronze again' \n",
        "df1"
      ],
      "execution_count": 0,
      "outputs": []
    },
    {
      "metadata": {
        "id": "yEsX-qE1YnWb",
        "colab_type": "code",
        "colab": {}
      },
      "cell_type": "code",
      "source": [
        "# Replaces the column with the array. It could be a numpy array or a simple list.\n",
        "# Could also be used to create new columns\n",
        "df1.loc[1:3, 'col3'] = ['Unknown0'] * 3\n",
        "df1"
      ],
      "execution_count": 0,
      "outputs": []
    },
    {
      "metadata": {
        "id": "T99Ze5zpYnWd",
        "colab_type": "code",
        "colab": {}
      },
      "cell_type": "code",
      "source": [
        "# Equivalent to the previous\n",
        "df1.col3 = ['Unknown1'] * len(df1) \n",
        "df1\n",
        "\n",
        "# 위와 동일하게 동작하는 코드\n",
        "# df1.loc[:, 'col3'] = ['Unknown2'] * len(df1)"
      ],
      "execution_count": 0,
      "outputs": []
    },
    {
      "metadata": {
        "id": "HgUE2xseYnWe",
        "colab_type": "code",
        "colab": {}
      },
      "cell_type": "code",
      "source": [
        "def f(x):\n",
        "    return x + ' New Column';\n",
        "\n",
        "# Uses the unary function f to create a new column based on an existing one\n",
        "df1.col4 = f(df1.col3) \n",
        "df1"
      ],
      "execution_count": 0,
      "outputs": []
    },
    {
      "metadata": {
        "id": "GTuJRwBeYnWg",
        "colab_type": "code",
        "colab": {}
      },
      "cell_type": "code",
      "source": [
        "def g(x, y):\n",
        "    return x + '_' + y\n",
        "\n",
        "# Uses the 2-arg function g to create a new column based on 2 existing columns\n",
        "df1.col4 = g(df1.col3, df1.col2)\n",
        "df1"
      ],
      "execution_count": 0,
      "outputs": []
    },
    {
      "metadata": {
        "id": "P37d3RzDE-JO",
        "colab_type": "text"
      },
      "cell_type": "markdown",
      "source": [
        "**데이터가 이해하는 게 중요한 이유**\n",
        "\n",
        "숫자로 표시되어 있지만, 저게 숫자인지? 시간의존인지? 순서인지? 계속 따져봐야함\n",
        "\n",
        "데이터를 str형태로 저장하면 오류가 뜬다. 그래서 index로 저장해보자\n",
        "\n",
        "미국 = 1\n",
        "\n",
        "한국 = 2\n",
        "\n",
        "케나다 = 3\n",
        "\n",
        "일본 = 4\n",
        "\n",
        "의 index형태로 저장하면 기계학습은 연산을 한다. \"일본은 미국의 4배인가?\"\n"
      ]
    },
    {
      "metadata": {
        "id": "viBEuv5gYnWi",
        "colab_type": "code",
        "outputId": "41b31ba5-8c7a-433c-88b1-73981560c12e",
        "colab": {
          "base_uri": "https://localhost:8080/",
          "height": 966
        }
      },
      "cell_type": "code",
      "source": [
        "df = pd.read_csv('./Graduate_apply.csv', sep=',', skipinitialspace=True, engine='python')\n",
        "print(df.head())\n",
        "print(\"------\")\n",
        "\n",
        "# 특정 칼럼의 Dummy Variable을 얻기\n",
        "df_rank = pd.get_dummies(df['rank'])\n",
        "print(df_rank.head())\n",
        "print(\"------\")\n",
        "\n",
        "# Dummy 데이터를 원래 데이터와 합치기\n",
        "df_new = pd.concat([df, df_rank], axis=1)\n",
        "print(df_new.head())\n",
        "print(\"------\")\n",
        "\n",
        "# 특정 칼럼 제거하기\n",
        "df_new.drop('rank', axis=1, inplace=True)\n",
        "print(df_new.head())\n",
        "print(\"------\")\n",
        "\n",
        "# 여러 칼럼 동시 제거하기\n",
        "df_new.drop(['gre', 'gpa'], axis=1, inplace=True)\n",
        "print(df_new.head())\n",
        "print(\"------\")\n"
      ],
      "execution_count": 0,
      "outputs": [
        {
          "output_type": "error",
          "ename": "FileNotFoundError",
          "evalue": "ignored",
          "traceback": [
            "\u001b[0;31m---------------------------------------------------------------------------\u001b[0m",
            "\u001b[0;31mFileNotFoundError\u001b[0m                         Traceback (most recent call last)",
            "\u001b[0;32m<ipython-input-38-bfa43a9428ae>\u001b[0m in \u001b[0;36m<module>\u001b[0;34m()\u001b[0m\n\u001b[0;32m----> 1\u001b[0;31m \u001b[0mdf\u001b[0m \u001b[0;34m=\u001b[0m \u001b[0mpd\u001b[0m\u001b[0;34m.\u001b[0m\u001b[0mread_csv\u001b[0m\u001b[0;34m(\u001b[0m\u001b[0;34m'./Graduate_apply.csv'\u001b[0m\u001b[0;34m,\u001b[0m \u001b[0msep\u001b[0m\u001b[0;34m=\u001b[0m\u001b[0;34m','\u001b[0m\u001b[0;34m,\u001b[0m \u001b[0mskipinitialspace\u001b[0m\u001b[0;34m=\u001b[0m\u001b[0;32mTrue\u001b[0m\u001b[0;34m,\u001b[0m \u001b[0mengine\u001b[0m\u001b[0;34m=\u001b[0m\u001b[0;34m'python'\u001b[0m\u001b[0;34m)\u001b[0m\u001b[0;34m\u001b[0m\u001b[0m\n\u001b[0m\u001b[1;32m      2\u001b[0m \u001b[0mprint\u001b[0m\u001b[0;34m(\u001b[0m\u001b[0mdf\u001b[0m\u001b[0;34m.\u001b[0m\u001b[0mhead\u001b[0m\u001b[0;34m(\u001b[0m\u001b[0;34m)\u001b[0m\u001b[0;34m)\u001b[0m\u001b[0;34m\u001b[0m\u001b[0m\n\u001b[1;32m      3\u001b[0m \u001b[0mprint\u001b[0m\u001b[0;34m(\u001b[0m\u001b[0;34m\"------\"\u001b[0m\u001b[0;34m)\u001b[0m\u001b[0;34m\u001b[0m\u001b[0m\n\u001b[1;32m      4\u001b[0m \u001b[0;34m\u001b[0m\u001b[0m\n\u001b[1;32m      5\u001b[0m \u001b[0;31m# 특정 칼럼의 Dummy Variable을 얻기\u001b[0m\u001b[0;34m\u001b[0m\u001b[0;34m\u001b[0m\u001b[0m\n",
            "\u001b[0;32m/usr/local/lib/python3.6/dist-packages/pandas/io/parsers.py\u001b[0m in \u001b[0;36mparser_f\u001b[0;34m(filepath_or_buffer, sep, delimiter, header, names, index_col, usecols, squeeze, prefix, mangle_dupe_cols, dtype, engine, converters, true_values, false_values, skipinitialspace, skiprows, nrows, na_values, keep_default_na, na_filter, verbose, skip_blank_lines, parse_dates, infer_datetime_format, keep_date_col, date_parser, dayfirst, iterator, chunksize, compression, thousands, decimal, lineterminator, quotechar, quoting, escapechar, comment, encoding, dialect, tupleize_cols, error_bad_lines, warn_bad_lines, skipfooter, skip_footer, doublequote, delim_whitespace, as_recarray, compact_ints, use_unsigned, low_memory, buffer_lines, memory_map, float_precision)\u001b[0m\n\u001b[1;32m    707\u001b[0m                     skip_blank_lines=skip_blank_lines)\n\u001b[1;32m    708\u001b[0m \u001b[0;34m\u001b[0m\u001b[0m\n\u001b[0;32m--> 709\u001b[0;31m         \u001b[0;32mreturn\u001b[0m \u001b[0m_read\u001b[0m\u001b[0;34m(\u001b[0m\u001b[0mfilepath_or_buffer\u001b[0m\u001b[0;34m,\u001b[0m \u001b[0mkwds\u001b[0m\u001b[0;34m)\u001b[0m\u001b[0;34m\u001b[0m\u001b[0m\n\u001b[0m\u001b[1;32m    710\u001b[0m \u001b[0;34m\u001b[0m\u001b[0m\n\u001b[1;32m    711\u001b[0m     \u001b[0mparser_f\u001b[0m\u001b[0;34m.\u001b[0m\u001b[0m__name__\u001b[0m \u001b[0;34m=\u001b[0m \u001b[0mname\u001b[0m\u001b[0;34m\u001b[0m\u001b[0m\n",
            "\u001b[0;32m/usr/local/lib/python3.6/dist-packages/pandas/io/parsers.py\u001b[0m in \u001b[0;36m_read\u001b[0;34m(filepath_or_buffer, kwds)\u001b[0m\n\u001b[1;32m    447\u001b[0m \u001b[0;34m\u001b[0m\u001b[0m\n\u001b[1;32m    448\u001b[0m     \u001b[0;31m# Create the parser.\u001b[0m\u001b[0;34m\u001b[0m\u001b[0;34m\u001b[0m\u001b[0m\n\u001b[0;32m--> 449\u001b[0;31m     \u001b[0mparser\u001b[0m \u001b[0;34m=\u001b[0m \u001b[0mTextFileReader\u001b[0m\u001b[0;34m(\u001b[0m\u001b[0mfilepath_or_buffer\u001b[0m\u001b[0;34m,\u001b[0m \u001b[0;34m**\u001b[0m\u001b[0mkwds\u001b[0m\u001b[0;34m)\u001b[0m\u001b[0;34m\u001b[0m\u001b[0m\n\u001b[0m\u001b[1;32m    450\u001b[0m \u001b[0;34m\u001b[0m\u001b[0m\n\u001b[1;32m    451\u001b[0m     \u001b[0;32mif\u001b[0m \u001b[0mchunksize\u001b[0m \u001b[0;32mor\u001b[0m \u001b[0miterator\u001b[0m\u001b[0;34m:\u001b[0m\u001b[0;34m\u001b[0m\u001b[0m\n",
            "\u001b[0;32m/usr/local/lib/python3.6/dist-packages/pandas/io/parsers.py\u001b[0m in \u001b[0;36m__init__\u001b[0;34m(self, f, engine, **kwds)\u001b[0m\n\u001b[1;32m    816\u001b[0m             \u001b[0mself\u001b[0m\u001b[0;34m.\u001b[0m\u001b[0moptions\u001b[0m\u001b[0;34m[\u001b[0m\u001b[0;34m'has_index_names'\u001b[0m\u001b[0;34m]\u001b[0m \u001b[0;34m=\u001b[0m \u001b[0mkwds\u001b[0m\u001b[0;34m[\u001b[0m\u001b[0;34m'has_index_names'\u001b[0m\u001b[0;34m]\u001b[0m\u001b[0;34m\u001b[0m\u001b[0m\n\u001b[1;32m    817\u001b[0m \u001b[0;34m\u001b[0m\u001b[0m\n\u001b[0;32m--> 818\u001b[0;31m         \u001b[0mself\u001b[0m\u001b[0;34m.\u001b[0m\u001b[0m_make_engine\u001b[0m\u001b[0;34m(\u001b[0m\u001b[0mself\u001b[0m\u001b[0;34m.\u001b[0m\u001b[0mengine\u001b[0m\u001b[0;34m)\u001b[0m\u001b[0;34m\u001b[0m\u001b[0m\n\u001b[0m\u001b[1;32m    819\u001b[0m \u001b[0;34m\u001b[0m\u001b[0m\n\u001b[1;32m    820\u001b[0m     \u001b[0;32mdef\u001b[0m \u001b[0mclose\u001b[0m\u001b[0;34m(\u001b[0m\u001b[0mself\u001b[0m\u001b[0;34m)\u001b[0m\u001b[0;34m:\u001b[0m\u001b[0;34m\u001b[0m\u001b[0m\n",
            "\u001b[0;32m/usr/local/lib/python3.6/dist-packages/pandas/io/parsers.py\u001b[0m in \u001b[0;36m_make_engine\u001b[0;34m(self, engine)\u001b[0m\n\u001b[1;32m   1057\u001b[0m                                  ' \"c\", \"python\", or' ' \"python-fwf\")'.format(\n\u001b[1;32m   1058\u001b[0m                                      engine=engine))\n\u001b[0;32m-> 1059\u001b[0;31m             \u001b[0mself\u001b[0m\u001b[0;34m.\u001b[0m\u001b[0m_engine\u001b[0m \u001b[0;34m=\u001b[0m \u001b[0mklass\u001b[0m\u001b[0;34m(\u001b[0m\u001b[0mself\u001b[0m\u001b[0;34m.\u001b[0m\u001b[0mf\u001b[0m\u001b[0;34m,\u001b[0m \u001b[0;34m**\u001b[0m\u001b[0mself\u001b[0m\u001b[0;34m.\u001b[0m\u001b[0moptions\u001b[0m\u001b[0;34m)\u001b[0m\u001b[0;34m\u001b[0m\u001b[0m\n\u001b[0m\u001b[1;32m   1060\u001b[0m \u001b[0;34m\u001b[0m\u001b[0m\n\u001b[1;32m   1061\u001b[0m     \u001b[0;32mdef\u001b[0m \u001b[0m_failover_to_python\u001b[0m\u001b[0;34m(\u001b[0m\u001b[0mself\u001b[0m\u001b[0;34m)\u001b[0m\u001b[0;34m:\u001b[0m\u001b[0;34m\u001b[0m\u001b[0m\n",
            "\u001b[0;32m/usr/local/lib/python3.6/dist-packages/pandas/io/parsers.py\u001b[0m in \u001b[0;36m__init__\u001b[0;34m(self, f, **kwds)\u001b[0m\n\u001b[1;32m   2072\u001b[0m         f, handles = _get_handle(f, mode, encoding=self.encoding,\n\u001b[1;32m   2073\u001b[0m                                  \u001b[0mcompression\u001b[0m\u001b[0;34m=\u001b[0m\u001b[0mself\u001b[0m\u001b[0;34m.\u001b[0m\u001b[0mcompression\u001b[0m\u001b[0;34m,\u001b[0m\u001b[0;34m\u001b[0m\u001b[0m\n\u001b[0;32m-> 2074\u001b[0;31m                                  memory_map=self.memory_map)\n\u001b[0m\u001b[1;32m   2075\u001b[0m         \u001b[0mself\u001b[0m\u001b[0;34m.\u001b[0m\u001b[0mhandles\u001b[0m\u001b[0;34m.\u001b[0m\u001b[0mextend\u001b[0m\u001b[0;34m(\u001b[0m\u001b[0mhandles\u001b[0m\u001b[0;34m)\u001b[0m\u001b[0;34m\u001b[0m\u001b[0m\n\u001b[1;32m   2076\u001b[0m \u001b[0;34m\u001b[0m\u001b[0m\n",
            "\u001b[0;32m/usr/local/lib/python3.6/dist-packages/pandas/io/common.py\u001b[0m in \u001b[0;36m_get_handle\u001b[0;34m(path_or_buf, mode, encoding, compression, memory_map, is_text)\u001b[0m\n\u001b[1;32m    391\u001b[0m         \u001b[0;32melif\u001b[0m \u001b[0mis_text\u001b[0m\u001b[0;34m:\u001b[0m\u001b[0;34m\u001b[0m\u001b[0m\n\u001b[1;32m    392\u001b[0m             \u001b[0;31m# Python 3 and no explicit encoding\u001b[0m\u001b[0;34m\u001b[0m\u001b[0;34m\u001b[0m\u001b[0m\n\u001b[0;32m--> 393\u001b[0;31m             \u001b[0mf\u001b[0m \u001b[0;34m=\u001b[0m \u001b[0mopen\u001b[0m\u001b[0;34m(\u001b[0m\u001b[0mpath_or_buf\u001b[0m\u001b[0;34m,\u001b[0m \u001b[0mmode\u001b[0m\u001b[0;34m,\u001b[0m \u001b[0merrors\u001b[0m\u001b[0;34m=\u001b[0m\u001b[0;34m'replace'\u001b[0m\u001b[0;34m)\u001b[0m\u001b[0;34m\u001b[0m\u001b[0m\n\u001b[0m\u001b[1;32m    394\u001b[0m         \u001b[0;32melse\u001b[0m\u001b[0;34m:\u001b[0m\u001b[0;34m\u001b[0m\u001b[0m\n\u001b[1;32m    395\u001b[0m             \u001b[0;31m# Python 3 and binary mode\u001b[0m\u001b[0;34m\u001b[0m\u001b[0;34m\u001b[0m\u001b[0m\n",
            "\u001b[0;31mFileNotFoundError\u001b[0m: [Errno 2] No such file or directory: './Graduate_apply.csv'"
          ]
        }
      ]
    },
    {
      "metadata": {
        "id": "hElggTFXYnWj",
        "colab_type": "text"
      },
      "cell_type": "markdown",
      "source": [
        "## 06. Group by, Join, Rolling"
      ]
    },
    {
      "metadata": {
        "id": "CHtasZFrp_Ze",
        "colab_type": "code",
        "colab": {}
      },
      "cell_type": "code",
      "source": [
        "import pandas as pd"
      ],
      "execution_count": 0,
      "outputs": []
    },
    {
      "metadata": {
        "id": "SOiVUXk_nlEl",
        "colab_type": "code",
        "colab": {}
      },
      "cell_type": "code",
      "source": [
        "df = pd.read_csv('https://raw.githubusercontent.com/RayleighKim/Example_datasets/master/Graduate_apply.csv')"
      ],
      "execution_count": 0,
      "outputs": []
    },
    {
      "metadata": {
        "id": "6Xf-zqwppPZK",
        "colab_type": "code",
        "outputId": "d336430d-0d47-4cfe-822e-f7fb6f6c615a",
        "colab": {
          "base_uri": "https://localhost:8080/",
          "height": 159
        }
      },
      "cell_type": "code",
      "source": [
        "print(df.shape)\n",
        "df.head(3)"
      ],
      "execution_count": 6,
      "outputs": [
        {
          "output_type": "stream",
          "text": [
            "(400, 4)\n"
          ],
          "name": "stdout"
        },
        {
          "output_type": "execute_result",
          "data": {
            "text/html": [
              "<div>\n",
              "<style scoped>\n",
              "    .dataframe tbody tr th:only-of-type {\n",
              "        vertical-align: middle;\n",
              "    }\n",
              "\n",
              "    .dataframe tbody tr th {\n",
              "        vertical-align: top;\n",
              "    }\n",
              "\n",
              "    .dataframe thead th {\n",
              "        text-align: right;\n",
              "    }\n",
              "</style>\n",
              "<table border=\"1\" class=\"dataframe\">\n",
              "  <thead>\n",
              "    <tr style=\"text-align: right;\">\n",
              "      <th></th>\n",
              "      <th>admit</th>\n",
              "      <th>gre</th>\n",
              "      <th>gpa</th>\n",
              "      <th>rank</th>\n",
              "    </tr>\n",
              "  </thead>\n",
              "  <tbody>\n",
              "    <tr>\n",
              "      <th>0</th>\n",
              "      <td>0</td>\n",
              "      <td>380</td>\n",
              "      <td>3.61</td>\n",
              "      <td>3</td>\n",
              "    </tr>\n",
              "    <tr>\n",
              "      <th>1</th>\n",
              "      <td>1</td>\n",
              "      <td>660</td>\n",
              "      <td>3.67</td>\n",
              "      <td>3</td>\n",
              "    </tr>\n",
              "    <tr>\n",
              "      <th>2</th>\n",
              "      <td>1</td>\n",
              "      <td>800</td>\n",
              "      <td>4.00</td>\n",
              "      <td>1</td>\n",
              "    </tr>\n",
              "  </tbody>\n",
              "</table>\n",
              "</div>"
            ],
            "text/plain": [
              "   admit  gre   gpa  rank\n",
              "0      0  380  3.61     3\n",
              "1      1  660  3.67     3\n",
              "2      1  800  4.00     1"
            ]
          },
          "metadata": {
            "tags": []
          },
          "execution_count": 6
        }
      ]
    },
    {
      "metadata": {
        "id": "WyEJHpYDElt1",
        "colab_type": "text"
      },
      "cell_type": "markdown",
      "source": [
        "[고군분투의 흔적](https://www.facebook.com/photo.php?fbid=1939114629501924&set=a.1046527102094019&type=3)"
      ]
    },
    {
      "metadata": {
        "id": "QiqL2q7spSvA",
        "colab_type": "text"
      },
      "cell_type": "markdown",
      "source": [
        "### 06-1. Group by"
      ]
    },
    {
      "metadata": {
        "id": "3QvS6b-R43tO",
        "colab_type": "text"
      },
      "cell_type": "markdown",
      "source": [
        "일단 단순한 수준에서 겪어보자"
      ]
    },
    {
      "metadata": {
        "id": "BJzZz0mWBVxR",
        "colab_type": "code",
        "outputId": "5294dd6d-a91d-47ba-bcf8-3d33c08b9fb6",
        "colab": {
          "base_uri": "https://localhost:8080/",
          "height": 173
        }
      },
      "cell_type": "code",
      "source": [
        "df.groupby(by=['rank'], as_index = False)['gre'].mean()\n",
        "\n",
        "## rank가 같은 것끼리 묶고 그 안에서 gre의 평균을 구함"
      ],
      "execution_count": 7,
      "outputs": [
        {
          "output_type": "execute_result",
          "data": {
            "text/html": [
              "<div>\n",
              "<style scoped>\n",
              "    .dataframe tbody tr th:only-of-type {\n",
              "        vertical-align: middle;\n",
              "    }\n",
              "\n",
              "    .dataframe tbody tr th {\n",
              "        vertical-align: top;\n",
              "    }\n",
              "\n",
              "    .dataframe thead th {\n",
              "        text-align: right;\n",
              "    }\n",
              "</style>\n",
              "<table border=\"1\" class=\"dataframe\">\n",
              "  <thead>\n",
              "    <tr style=\"text-align: right;\">\n",
              "      <th></th>\n",
              "      <th>rank</th>\n",
              "      <th>gre</th>\n",
              "    </tr>\n",
              "  </thead>\n",
              "  <tbody>\n",
              "    <tr>\n",
              "      <th>0</th>\n",
              "      <td>1</td>\n",
              "      <td>611.803279</td>\n",
              "    </tr>\n",
              "    <tr>\n",
              "      <th>1</th>\n",
              "      <td>2</td>\n",
              "      <td>596.026490</td>\n",
              "    </tr>\n",
              "    <tr>\n",
              "      <th>2</th>\n",
              "      <td>3</td>\n",
              "      <td>574.876033</td>\n",
              "    </tr>\n",
              "    <tr>\n",
              "      <th>3</th>\n",
              "      <td>4</td>\n",
              "      <td>570.149254</td>\n",
              "    </tr>\n",
              "  </tbody>\n",
              "</table>\n",
              "</div>"
            ],
            "text/plain": [
              "   rank         gre\n",
              "0     1  611.803279\n",
              "1     2  596.026490\n",
              "2     3  574.876033\n",
              "3     4  570.149254"
            ]
          },
          "metadata": {
            "tags": []
          },
          "execution_count": 7
        }
      ]
    },
    {
      "metadata": {
        "id": "50rc3HRevz-p",
        "colab_type": "code",
        "outputId": "7583e526-1a06-4a73-9a14-5e8ea0b993df",
        "colab": {
          "base_uri": "https://localhost:8080/",
          "height": 297
        }
      },
      "cell_type": "code",
      "source": [
        "df.groupby(by = ['rank', 'admit'], as_index=False)['gre', 'gpa'].mean()"
      ],
      "execution_count": 8,
      "outputs": [
        {
          "output_type": "execute_result",
          "data": {
            "text/html": [
              "<div>\n",
              "<style scoped>\n",
              "    .dataframe tbody tr th:only-of-type {\n",
              "        vertical-align: middle;\n",
              "    }\n",
              "\n",
              "    .dataframe tbody tr th {\n",
              "        vertical-align: top;\n",
              "    }\n",
              "\n",
              "    .dataframe thead th {\n",
              "        text-align: right;\n",
              "    }\n",
              "</style>\n",
              "<table border=\"1\" class=\"dataframe\">\n",
              "  <thead>\n",
              "    <tr style=\"text-align: right;\">\n",
              "      <th></th>\n",
              "      <th>rank</th>\n",
              "      <th>admit</th>\n",
              "      <th>gre</th>\n",
              "      <th>gpa</th>\n",
              "    </tr>\n",
              "  </thead>\n",
              "  <tbody>\n",
              "    <tr>\n",
              "      <th>0</th>\n",
              "      <td>1</td>\n",
              "      <td>0</td>\n",
              "      <td>582.857143</td>\n",
              "      <td>3.345714</td>\n",
              "    </tr>\n",
              "    <tr>\n",
              "      <th>1</th>\n",
              "      <td>1</td>\n",
              "      <td>1</td>\n",
              "      <td>636.363636</td>\n",
              "      <td>3.544242</td>\n",
              "    </tr>\n",
              "    <tr>\n",
              "      <th>2</th>\n",
              "      <td>2</td>\n",
              "      <td>0</td>\n",
              "      <td>586.597938</td>\n",
              "      <td>3.316598</td>\n",
              "    </tr>\n",
              "    <tr>\n",
              "      <th>3</th>\n",
              "      <td>2</td>\n",
              "      <td>1</td>\n",
              "      <td>612.962963</td>\n",
              "      <td>3.442593</td>\n",
              "    </tr>\n",
              "    <tr>\n",
              "      <th>4</th>\n",
              "      <td>3</td>\n",
              "      <td>0</td>\n",
              "      <td>562.365591</td>\n",
              "      <td>3.402258</td>\n",
              "    </tr>\n",
              "    <tr>\n",
              "      <th>5</th>\n",
              "      <td>3</td>\n",
              "      <td>1</td>\n",
              "      <td>616.428571</td>\n",
              "      <td>3.534643</td>\n",
              "    </tr>\n",
              "    <tr>\n",
              "      <th>6</th>\n",
              "      <td>4</td>\n",
              "      <td>0</td>\n",
              "      <td>562.909091</td>\n",
              "      <td>3.291455</td>\n",
              "    </tr>\n",
              "    <tr>\n",
              "      <th>7</th>\n",
              "      <td>4</td>\n",
              "      <td>1</td>\n",
              "      <td>603.333333</td>\n",
              "      <td>3.441667</td>\n",
              "    </tr>\n",
              "  </tbody>\n",
              "</table>\n",
              "</div>"
            ],
            "text/plain": [
              "   rank  admit         gre       gpa\n",
              "0     1      0  582.857143  3.345714\n",
              "1     1      1  636.363636  3.544242\n",
              "2     2      0  586.597938  3.316598\n",
              "3     2      1  612.962963  3.442593\n",
              "4     3      0  562.365591  3.402258\n",
              "5     3      1  616.428571  3.534643\n",
              "6     4      0  562.909091  3.291455\n",
              "7     4      1  603.333333  3.441667"
            ]
          },
          "metadata": {
            "tags": []
          },
          "execution_count": 8
        }
      ]
    },
    {
      "metadata": {
        "id": "sVNr7qJL4Zvh",
        "colab_type": "code",
        "colab": {
          "base_uri": "https://localhost:8080/",
          "height": 297
        },
        "outputId": "845ff83b-2aac-435e-8ae9-a0b9d592e3b2"
      },
      "cell_type": "code",
      "source": [
        "df.groupby(by = ['rank', 'admit'], as_index=False)['gre', 'gpa'].std()"
      ],
      "execution_count": 9,
      "outputs": [
        {
          "output_type": "execute_result",
          "data": {
            "text/html": [
              "<div>\n",
              "<style scoped>\n",
              "    .dataframe tbody tr th:only-of-type {\n",
              "        vertical-align: middle;\n",
              "    }\n",
              "\n",
              "    .dataframe tbody tr th {\n",
              "        vertical-align: top;\n",
              "    }\n",
              "\n",
              "    .dataframe thead th {\n",
              "        text-align: right;\n",
              "    }\n",
              "</style>\n",
              "<table border=\"1\" class=\"dataframe\">\n",
              "  <thead>\n",
              "    <tr style=\"text-align: right;\">\n",
              "      <th></th>\n",
              "      <th>rank</th>\n",
              "      <th>admit</th>\n",
              "      <th>gre</th>\n",
              "      <th>gpa</th>\n",
              "    </tr>\n",
              "  </thead>\n",
              "  <tbody>\n",
              "    <tr>\n",
              "      <th>0</th>\n",
              "      <td>1.000000</td>\n",
              "      <td>0.0</td>\n",
              "      <td>126.574737</td>\n",
              "      <td>0.375445</td>\n",
              "    </tr>\n",
              "    <tr>\n",
              "      <th>1</th>\n",
              "      <td>1.000000</td>\n",
              "      <td>1.0</td>\n",
              "      <td>110.618098</td>\n",
              "      <td>0.385511</td>\n",
              "    </tr>\n",
              "    <tr>\n",
              "      <th>2</th>\n",
              "      <td>1.414214</td>\n",
              "      <td>0.0</td>\n",
              "      <td>103.066388</td>\n",
              "      <td>0.377927</td>\n",
              "    </tr>\n",
              "    <tr>\n",
              "      <th>3</th>\n",
              "      <td>1.414214</td>\n",
              "      <td>1.0</td>\n",
              "      <td>112.746663</td>\n",
              "      <td>0.361653</td>\n",
              "    </tr>\n",
              "    <tr>\n",
              "      <th>4</th>\n",
              "      <td>1.732051</td>\n",
              "      <td>0.0</td>\n",
              "      <td>124.650798</td>\n",
              "      <td>0.379434</td>\n",
              "    </tr>\n",
              "    <tr>\n",
              "      <th>5</th>\n",
              "      <td>1.732051</td>\n",
              "      <td>1.0</td>\n",
              "      <td>99.785484</td>\n",
              "      <td>0.399244</td>\n",
              "    </tr>\n",
              "    <tr>\n",
              "      <th>6</th>\n",
              "      <td>2.000000</td>\n",
              "      <td>0.0</td>\n",
              "      <td>116.327646</td>\n",
              "      <td>0.369767</td>\n",
              "    </tr>\n",
              "    <tr>\n",
              "      <th>7</th>\n",
              "      <td>2.000000</td>\n",
              "      <td>1.0</td>\n",
              "      <td>114.680056</td>\n",
              "      <td>0.297286</td>\n",
              "    </tr>\n",
              "  </tbody>\n",
              "</table>\n",
              "</div>"
            ],
            "text/plain": [
              "       rank  admit         gre       gpa\n",
              "0  1.000000    0.0  126.574737  0.375445\n",
              "1  1.000000    1.0  110.618098  0.385511\n",
              "2  1.414214    0.0  103.066388  0.377927\n",
              "3  1.414214    1.0  112.746663  0.361653\n",
              "4  1.732051    0.0  124.650798  0.379434\n",
              "5  1.732051    1.0   99.785484  0.399244\n",
              "6  2.000000    0.0  116.327646  0.369767\n",
              "7  2.000000    1.0  114.680056  0.297286"
            ]
          },
          "metadata": {
            "tags": []
          },
          "execution_count": 9
        }
      ]
    },
    {
      "metadata": {
        "id": "jYEDqpc11tc-",
        "colab_type": "code",
        "colab": {
          "base_uri": "https://localhost:8080/",
          "height": 297
        },
        "outputId": "7c8ce292-ef64-4d86-ca3d-35270a16b3ed"
      },
      "cell_type": "code",
      "source": [
        "df.groupby(by = ['rank', 'admit'], as_index=False).count()"
      ],
      "execution_count": 10,
      "outputs": [
        {
          "output_type": "execute_result",
          "data": {
            "text/html": [
              "<div>\n",
              "<style scoped>\n",
              "    .dataframe tbody tr th:only-of-type {\n",
              "        vertical-align: middle;\n",
              "    }\n",
              "\n",
              "    .dataframe tbody tr th {\n",
              "        vertical-align: top;\n",
              "    }\n",
              "\n",
              "    .dataframe thead th {\n",
              "        text-align: right;\n",
              "    }\n",
              "</style>\n",
              "<table border=\"1\" class=\"dataframe\">\n",
              "  <thead>\n",
              "    <tr style=\"text-align: right;\">\n",
              "      <th></th>\n",
              "      <th>rank</th>\n",
              "      <th>admit</th>\n",
              "      <th>gre</th>\n",
              "      <th>gpa</th>\n",
              "    </tr>\n",
              "  </thead>\n",
              "  <tbody>\n",
              "    <tr>\n",
              "      <th>0</th>\n",
              "      <td>1</td>\n",
              "      <td>0</td>\n",
              "      <td>28</td>\n",
              "      <td>28</td>\n",
              "    </tr>\n",
              "    <tr>\n",
              "      <th>1</th>\n",
              "      <td>1</td>\n",
              "      <td>1</td>\n",
              "      <td>33</td>\n",
              "      <td>33</td>\n",
              "    </tr>\n",
              "    <tr>\n",
              "      <th>2</th>\n",
              "      <td>2</td>\n",
              "      <td>0</td>\n",
              "      <td>97</td>\n",
              "      <td>97</td>\n",
              "    </tr>\n",
              "    <tr>\n",
              "      <th>3</th>\n",
              "      <td>2</td>\n",
              "      <td>1</td>\n",
              "      <td>54</td>\n",
              "      <td>54</td>\n",
              "    </tr>\n",
              "    <tr>\n",
              "      <th>4</th>\n",
              "      <td>3</td>\n",
              "      <td>0</td>\n",
              "      <td>93</td>\n",
              "      <td>93</td>\n",
              "    </tr>\n",
              "    <tr>\n",
              "      <th>5</th>\n",
              "      <td>3</td>\n",
              "      <td>1</td>\n",
              "      <td>28</td>\n",
              "      <td>28</td>\n",
              "    </tr>\n",
              "    <tr>\n",
              "      <th>6</th>\n",
              "      <td>4</td>\n",
              "      <td>0</td>\n",
              "      <td>55</td>\n",
              "      <td>55</td>\n",
              "    </tr>\n",
              "    <tr>\n",
              "      <th>7</th>\n",
              "      <td>4</td>\n",
              "      <td>1</td>\n",
              "      <td>12</td>\n",
              "      <td>12</td>\n",
              "    </tr>\n",
              "  </tbody>\n",
              "</table>\n",
              "</div>"
            ],
            "text/plain": [
              "   rank  admit  gre  gpa\n",
              "0     1      0   28   28\n",
              "1     1      1   33   33\n",
              "2     2      0   97   97\n",
              "3     2      1   54   54\n",
              "4     3      0   93   93\n",
              "5     3      1   28   28\n",
              "6     4      0   55   55\n",
              "7     4      1   12   12"
            ]
          },
          "metadata": {
            "tags": []
          },
          "execution_count": 10
        }
      ]
    },
    {
      "metadata": {
        "id": "KG1Fa-rG5Qpd",
        "colab_type": "code",
        "colab": {
          "base_uri": "https://localhost:8080/",
          "height": 297
        },
        "outputId": "83039612-040e-40f5-b770-18f745911ccf"
      },
      "cell_type": "code",
      "source": [
        "df.groupby(by = ['rank', 'admit'], as_index=False)['gre'].count()"
      ],
      "execution_count": 11,
      "outputs": [
        {
          "output_type": "execute_result",
          "data": {
            "text/html": [
              "<div>\n",
              "<style scoped>\n",
              "    .dataframe tbody tr th:only-of-type {\n",
              "        vertical-align: middle;\n",
              "    }\n",
              "\n",
              "    .dataframe tbody tr th {\n",
              "        vertical-align: top;\n",
              "    }\n",
              "\n",
              "    .dataframe thead th {\n",
              "        text-align: right;\n",
              "    }\n",
              "</style>\n",
              "<table border=\"1\" class=\"dataframe\">\n",
              "  <thead>\n",
              "    <tr style=\"text-align: right;\">\n",
              "      <th></th>\n",
              "      <th>rank</th>\n",
              "      <th>admit</th>\n",
              "      <th>gre</th>\n",
              "    </tr>\n",
              "  </thead>\n",
              "  <tbody>\n",
              "    <tr>\n",
              "      <th>0</th>\n",
              "      <td>1</td>\n",
              "      <td>0</td>\n",
              "      <td>28</td>\n",
              "    </tr>\n",
              "    <tr>\n",
              "      <th>1</th>\n",
              "      <td>1</td>\n",
              "      <td>1</td>\n",
              "      <td>33</td>\n",
              "    </tr>\n",
              "    <tr>\n",
              "      <th>2</th>\n",
              "      <td>2</td>\n",
              "      <td>0</td>\n",
              "      <td>97</td>\n",
              "    </tr>\n",
              "    <tr>\n",
              "      <th>3</th>\n",
              "      <td>2</td>\n",
              "      <td>1</td>\n",
              "      <td>54</td>\n",
              "    </tr>\n",
              "    <tr>\n",
              "      <th>4</th>\n",
              "      <td>3</td>\n",
              "      <td>0</td>\n",
              "      <td>93</td>\n",
              "    </tr>\n",
              "    <tr>\n",
              "      <th>5</th>\n",
              "      <td>3</td>\n",
              "      <td>1</td>\n",
              "      <td>28</td>\n",
              "    </tr>\n",
              "    <tr>\n",
              "      <th>6</th>\n",
              "      <td>4</td>\n",
              "      <td>0</td>\n",
              "      <td>55</td>\n",
              "    </tr>\n",
              "    <tr>\n",
              "      <th>7</th>\n",
              "      <td>4</td>\n",
              "      <td>1</td>\n",
              "      <td>12</td>\n",
              "    </tr>\n",
              "  </tbody>\n",
              "</table>\n",
              "</div>"
            ],
            "text/plain": [
              "   rank  admit  gre\n",
              "0     1      0   28\n",
              "1     1      1   33\n",
              "2     2      0   97\n",
              "3     2      1   54\n",
              "4     3      0   93\n",
              "5     3      1   28\n",
              "6     4      0   55\n",
              "7     4      1   12"
            ]
          },
          "metadata": {
            "tags": []
          },
          "execution_count": 11
        }
      ]
    },
    {
      "metadata": {
        "id": "F22Encp0pMEf",
        "colab_type": "text"
      },
      "cell_type": "markdown",
      "source": [
        "이름들이 조금 이상하다. 컬럼이름을 바꾸어보자"
      ]
    },
    {
      "metadata": {
        "id": "U_opwEZU5WuF",
        "colab_type": "code",
        "colab": {
          "base_uri": "https://localhost:8080/",
          "height": 173
        },
        "outputId": "b516a06b-40f4-4f3a-e746-682f2628e0f7"
      },
      "cell_type": "code",
      "source": [
        "df_by_rank = df.groupby(by = ['rank'], as_index=False)['gre'].mean()\n",
        "df_by_rank.head()"
      ],
      "execution_count": 12,
      "outputs": [
        {
          "output_type": "execute_result",
          "data": {
            "text/html": [
              "<div>\n",
              "<style scoped>\n",
              "    .dataframe tbody tr th:only-of-type {\n",
              "        vertical-align: middle;\n",
              "    }\n",
              "\n",
              "    .dataframe tbody tr th {\n",
              "        vertical-align: top;\n",
              "    }\n",
              "\n",
              "    .dataframe thead th {\n",
              "        text-align: right;\n",
              "    }\n",
              "</style>\n",
              "<table border=\"1\" class=\"dataframe\">\n",
              "  <thead>\n",
              "    <tr style=\"text-align: right;\">\n",
              "      <th></th>\n",
              "      <th>rank</th>\n",
              "      <th>gre</th>\n",
              "    </tr>\n",
              "  </thead>\n",
              "  <tbody>\n",
              "    <tr>\n",
              "      <th>0</th>\n",
              "      <td>1</td>\n",
              "      <td>611.803279</td>\n",
              "    </tr>\n",
              "    <tr>\n",
              "      <th>1</th>\n",
              "      <td>2</td>\n",
              "      <td>596.026490</td>\n",
              "    </tr>\n",
              "    <tr>\n",
              "      <th>2</th>\n",
              "      <td>3</td>\n",
              "      <td>574.876033</td>\n",
              "    </tr>\n",
              "    <tr>\n",
              "      <th>3</th>\n",
              "      <td>4</td>\n",
              "      <td>570.149254</td>\n",
              "    </tr>\n",
              "  </tbody>\n",
              "</table>\n",
              "</div>"
            ],
            "text/plain": [
              "   rank         gre\n",
              "0     1  611.803279\n",
              "1     2  596.026490\n",
              "2     3  574.876033\n",
              "3     4  570.149254"
            ]
          },
          "metadata": {
            "tags": []
          },
          "execution_count": 12
        }
      ]
    },
    {
      "metadata": {
        "id": "3DxjhoVX5jvH",
        "colab_type": "code",
        "colab": {}
      },
      "cell_type": "code",
      "source": [
        "if 'gre' in df_by_rank.columns :\n",
        "    df_by_rank.rename(columns={'gre':'gre_mean'}, inplace = True)"
      ],
      "execution_count": 0,
      "outputs": []
    },
    {
      "metadata": {
        "id": "QRj-BZfC5xpH",
        "colab_type": "code",
        "colab": {
          "base_uri": "https://localhost:8080/",
          "height": 173
        },
        "outputId": "1ad6c996-248c-4704-837a-c0722c11c0b1"
      },
      "cell_type": "code",
      "source": [
        "df_by_rank.head()"
      ],
      "execution_count": 14,
      "outputs": [
        {
          "output_type": "execute_result",
          "data": {
            "text/html": [
              "<div>\n",
              "<style scoped>\n",
              "    .dataframe tbody tr th:only-of-type {\n",
              "        vertical-align: middle;\n",
              "    }\n",
              "\n",
              "    .dataframe tbody tr th {\n",
              "        vertical-align: top;\n",
              "    }\n",
              "\n",
              "    .dataframe thead th {\n",
              "        text-align: right;\n",
              "    }\n",
              "</style>\n",
              "<table border=\"1\" class=\"dataframe\">\n",
              "  <thead>\n",
              "    <tr style=\"text-align: right;\">\n",
              "      <th></th>\n",
              "      <th>rank</th>\n",
              "      <th>gre_mean</th>\n",
              "    </tr>\n",
              "  </thead>\n",
              "  <tbody>\n",
              "    <tr>\n",
              "      <th>0</th>\n",
              "      <td>1</td>\n",
              "      <td>611.803279</td>\n",
              "    </tr>\n",
              "    <tr>\n",
              "      <th>1</th>\n",
              "      <td>2</td>\n",
              "      <td>596.026490</td>\n",
              "    </tr>\n",
              "    <tr>\n",
              "      <th>2</th>\n",
              "      <td>3</td>\n",
              "      <td>574.876033</td>\n",
              "    </tr>\n",
              "    <tr>\n",
              "      <th>3</th>\n",
              "      <td>4</td>\n",
              "      <td>570.149254</td>\n",
              "    </tr>\n",
              "  </tbody>\n",
              "</table>\n",
              "</div>"
            ],
            "text/plain": [
              "   rank    gre_mean\n",
              "0     1  611.803279\n",
              "1     2  596.026490\n",
              "2     3  574.876033\n",
              "3     4  570.149254"
            ]
          },
          "metadata": {
            "tags": []
          },
          "execution_count": 14
        }
      ]
    },
    {
      "metadata": {
        "id": "66oW1jgUMp_O",
        "colab_type": "text"
      },
      "cell_type": "markdown",
      "source": [
        "실습해봅시다!\n",
        "\n",
        "rank, admit 기준으로 gre의 최대값을 출력하시오.\n",
        "\n",
        ".max()를 사용하면 됩니다."
      ]
    },
    {
      "metadata": {
        "id": "TXBGWEXIM3XQ",
        "colab_type": "code",
        "outputId": "c48a4deb-59de-4f14-81c0-9e84974cfa85",
        "colab": {
          "base_uri": "https://localhost:8080/",
          "height": 297
        }
      },
      "cell_type": "code",
      "source": [
        "## Your Code\n",
        "df.groupby(by = ['rank','admit'], as_index=False)['gre'].max()\n",
        "\n"
      ],
      "execution_count": 15,
      "outputs": [
        {
          "output_type": "execute_result",
          "data": {
            "text/html": [
              "<div>\n",
              "<style scoped>\n",
              "    .dataframe tbody tr th:only-of-type {\n",
              "        vertical-align: middle;\n",
              "    }\n",
              "\n",
              "    .dataframe tbody tr th {\n",
              "        vertical-align: top;\n",
              "    }\n",
              "\n",
              "    .dataframe thead th {\n",
              "        text-align: right;\n",
              "    }\n",
              "</style>\n",
              "<table border=\"1\" class=\"dataframe\">\n",
              "  <thead>\n",
              "    <tr style=\"text-align: right;\">\n",
              "      <th></th>\n",
              "      <th>rank</th>\n",
              "      <th>admit</th>\n",
              "      <th>gre</th>\n",
              "    </tr>\n",
              "  </thead>\n",
              "  <tbody>\n",
              "    <tr>\n",
              "      <th>0</th>\n",
              "      <td>1</td>\n",
              "      <td>0</td>\n",
              "      <td>800</td>\n",
              "    </tr>\n",
              "    <tr>\n",
              "      <th>1</th>\n",
              "      <td>1</td>\n",
              "      <td>1</td>\n",
              "      <td>800</td>\n",
              "    </tr>\n",
              "    <tr>\n",
              "      <th>2</th>\n",
              "      <td>2</td>\n",
              "      <td>0</td>\n",
              "      <td>800</td>\n",
              "    </tr>\n",
              "    <tr>\n",
              "      <th>3</th>\n",
              "      <td>2</td>\n",
              "      <td>1</td>\n",
              "      <td>800</td>\n",
              "    </tr>\n",
              "    <tr>\n",
              "      <th>4</th>\n",
              "      <td>3</td>\n",
              "      <td>0</td>\n",
              "      <td>800</td>\n",
              "    </tr>\n",
              "    <tr>\n",
              "      <th>5</th>\n",
              "      <td>3</td>\n",
              "      <td>1</td>\n",
              "      <td>800</td>\n",
              "    </tr>\n",
              "    <tr>\n",
              "      <th>6</th>\n",
              "      <td>4</td>\n",
              "      <td>0</td>\n",
              "      <td>800</td>\n",
              "    </tr>\n",
              "    <tr>\n",
              "      <th>7</th>\n",
              "      <td>4</td>\n",
              "      <td>1</td>\n",
              "      <td>780</td>\n",
              "    </tr>\n",
              "  </tbody>\n",
              "</table>\n",
              "</div>"
            ],
            "text/plain": [
              "   rank  admit  gre\n",
              "0     1      0  800\n",
              "1     1      1  800\n",
              "2     2      0  800\n",
              "3     2      1  800\n",
              "4     3      0  800\n",
              "5     3      1  800\n",
              "6     4      0  800\n",
              "7     4      1  780"
            ]
          },
          "metadata": {
            "tags": []
          },
          "execution_count": 15
        }
      ]
    },
    {
      "metadata": {
        "id": "nlqUMv5fM2gq",
        "colab_type": "code",
        "colab": {}
      },
      "cell_type": "code",
      "source": [
        ""
      ],
      "execution_count": 0,
      "outputs": []
    },
    {
      "metadata": {
        "id": "0Cq3lmVb5oj2",
        "colab_type": "text"
      },
      "cell_type": "markdown",
      "source": [
        "### 06-2 Join"
      ]
    },
    {
      "metadata": {
        "id": "qE9uXpyO6XGq",
        "colab_type": "code",
        "colab": {
          "base_uri": "https://localhost:8080/",
          "height": 173
        },
        "outputId": "facc7053-8ad0-4950-f83a-219149e7f801"
      },
      "cell_type": "code",
      "source": [
        "mean_by_rank = df.groupby(by = ['rank'], as_index=False)['gre', 'gpa'].mean()\n",
        "mean_by_rank.rename(columns = {'gre':'gre_mean', 'gpa':'gpa_mean'}, inplace = True)\n",
        "mean_by_rank"
      ],
      "execution_count": 16,
      "outputs": [
        {
          "output_type": "execute_result",
          "data": {
            "text/html": [
              "<div>\n",
              "<style scoped>\n",
              "    .dataframe tbody tr th:only-of-type {\n",
              "        vertical-align: middle;\n",
              "    }\n",
              "\n",
              "    .dataframe tbody tr th {\n",
              "        vertical-align: top;\n",
              "    }\n",
              "\n",
              "    .dataframe thead th {\n",
              "        text-align: right;\n",
              "    }\n",
              "</style>\n",
              "<table border=\"1\" class=\"dataframe\">\n",
              "  <thead>\n",
              "    <tr style=\"text-align: right;\">\n",
              "      <th></th>\n",
              "      <th>rank</th>\n",
              "      <th>gre_mean</th>\n",
              "      <th>gpa_mean</th>\n",
              "    </tr>\n",
              "  </thead>\n",
              "  <tbody>\n",
              "    <tr>\n",
              "      <th>0</th>\n",
              "      <td>1</td>\n",
              "      <td>611.803279</td>\n",
              "      <td>3.453115</td>\n",
              "    </tr>\n",
              "    <tr>\n",
              "      <th>1</th>\n",
              "      <td>2</td>\n",
              "      <td>596.026490</td>\n",
              "      <td>3.361656</td>\n",
              "    </tr>\n",
              "    <tr>\n",
              "      <th>2</th>\n",
              "      <td>3</td>\n",
              "      <td>574.876033</td>\n",
              "      <td>3.432893</td>\n",
              "    </tr>\n",
              "    <tr>\n",
              "      <th>3</th>\n",
              "      <td>4</td>\n",
              "      <td>570.149254</td>\n",
              "      <td>3.318358</td>\n",
              "    </tr>\n",
              "  </tbody>\n",
              "</table>\n",
              "</div>"
            ],
            "text/plain": [
              "   rank    gre_mean  gpa_mean\n",
              "0     1  611.803279  3.453115\n",
              "1     2  596.026490  3.361656\n",
              "2     3  574.876033  3.432893\n",
              "3     4  570.149254  3.318358"
            ]
          },
          "metadata": {
            "tags": []
          },
          "execution_count": 16
        }
      ]
    },
    {
      "metadata": {
        "id": "-HCmIf8I7kDx",
        "colab_type": "code",
        "colab": {
          "base_uri": "https://localhost:8080/",
          "height": 173
        },
        "outputId": "71fc3a19-21e4-4a6a-804f-6da8ea20993d"
      },
      "cell_type": "code",
      "source": [
        "'''\n",
        "pandas,  ver0.22.0 기준으로 망가져 있는 기능.\n",
        "rank가 미쳐보이지만 놀랍게도, 값들은 정상입니다.\n",
        "'''\n",
        "std_by_rank = df.groupby(by = ['rank'], as_index=False)['gre', 'gpa'].std()\n",
        "std_by_rank.rename(columns = {'gre':'gre_std', 'gpa':'gpa_std'}, inplace = True)\n",
        "std_by_rank"
      ],
      "execution_count": 18,
      "outputs": [
        {
          "output_type": "execute_result",
          "data": {
            "text/html": [
              "<div>\n",
              "<style scoped>\n",
              "    .dataframe tbody tr th:only-of-type {\n",
              "        vertical-align: middle;\n",
              "    }\n",
              "\n",
              "    .dataframe tbody tr th {\n",
              "        vertical-align: top;\n",
              "    }\n",
              "\n",
              "    .dataframe thead th {\n",
              "        text-align: right;\n",
              "    }\n",
              "</style>\n",
              "<table border=\"1\" class=\"dataframe\">\n",
              "  <thead>\n",
              "    <tr style=\"text-align: right;\">\n",
              "      <th></th>\n",
              "      <th>rank</th>\n",
              "      <th>gre_std</th>\n",
              "      <th>gpa_std</th>\n",
              "    </tr>\n",
              "  </thead>\n",
              "  <tbody>\n",
              "    <tr>\n",
              "      <th>0</th>\n",
              "      <td>1.000000</td>\n",
              "      <td>120.242924</td>\n",
              "      <td>0.390698</td>\n",
              "    </tr>\n",
              "    <tr>\n",
              "      <th>1</th>\n",
              "      <td>1.414214</td>\n",
              "      <td>107.008283</td>\n",
              "      <td>0.375893</td>\n",
              "    </tr>\n",
              "    <tr>\n",
              "      <th>2</th>\n",
              "      <td>1.732051</td>\n",
              "      <td>121.148089</td>\n",
              "      <td>0.386502</td>\n",
              "    </tr>\n",
              "    <tr>\n",
              "      <th>3</th>\n",
              "      <td>2.000000</td>\n",
              "      <td>116.221999</td>\n",
              "      <td>0.360507</td>\n",
              "    </tr>\n",
              "  </tbody>\n",
              "</table>\n",
              "</div>"
            ],
            "text/plain": [
              "       rank     gre_std   gpa_std\n",
              "0  1.000000  120.242924  0.390698\n",
              "1  1.414214  107.008283  0.375893\n",
              "2  1.732051  121.148089  0.386502\n",
              "3  2.000000  116.221999  0.360507"
            ]
          },
          "metadata": {
            "tags": []
          },
          "execution_count": 18
        }
      ]
    },
    {
      "metadata": {
        "id": "tLlZXHjb7vOh",
        "colab_type": "text"
      },
      "cell_type": "markdown",
      "source": [
        "pandas ver0.22.0 기준으로 망가져 있는 기능을 우회하여 사용하는 가장 빠른 방법은 다음과 같습니다."
      ]
    },
    {
      "metadata": {
        "id": "msPDKeIaGCd2",
        "colab_type": "code",
        "colab": {
          "base_uri": "https://localhost:8080/",
          "height": 173
        },
        "outputId": "d30d8ba1-898e-4dd5-cdf2-5a9c69772683"
      },
      "cell_type": "code",
      "source": [
        "std_by_rank['rank'] = mean_by_rank['rank']\n",
        "std_by_rank"
      ],
      "execution_count": 19,
      "outputs": [
        {
          "output_type": "execute_result",
          "data": {
            "text/html": [
              "<div>\n",
              "<style scoped>\n",
              "    .dataframe tbody tr th:only-of-type {\n",
              "        vertical-align: middle;\n",
              "    }\n",
              "\n",
              "    .dataframe tbody tr th {\n",
              "        vertical-align: top;\n",
              "    }\n",
              "\n",
              "    .dataframe thead th {\n",
              "        text-align: right;\n",
              "    }\n",
              "</style>\n",
              "<table border=\"1\" class=\"dataframe\">\n",
              "  <thead>\n",
              "    <tr style=\"text-align: right;\">\n",
              "      <th></th>\n",
              "      <th>rank</th>\n",
              "      <th>gre_std</th>\n",
              "      <th>gpa_std</th>\n",
              "    </tr>\n",
              "  </thead>\n",
              "  <tbody>\n",
              "    <tr>\n",
              "      <th>0</th>\n",
              "      <td>1</td>\n",
              "      <td>120.242924</td>\n",
              "      <td>0.390698</td>\n",
              "    </tr>\n",
              "    <tr>\n",
              "      <th>1</th>\n",
              "      <td>2</td>\n",
              "      <td>107.008283</td>\n",
              "      <td>0.375893</td>\n",
              "    </tr>\n",
              "    <tr>\n",
              "      <th>2</th>\n",
              "      <td>3</td>\n",
              "      <td>121.148089</td>\n",
              "      <td>0.386502</td>\n",
              "    </tr>\n",
              "    <tr>\n",
              "      <th>3</th>\n",
              "      <td>4</td>\n",
              "      <td>116.221999</td>\n",
              "      <td>0.360507</td>\n",
              "    </tr>\n",
              "  </tbody>\n",
              "</table>\n",
              "</div>"
            ],
            "text/plain": [
              "   rank     gre_std   gpa_std\n",
              "0     1  120.242924  0.390698\n",
              "1     2  107.008283  0.375893\n",
              "2     3  121.148089  0.386502\n",
              "3     4  116.221999  0.360507"
            ]
          },
          "metadata": {
            "tags": []
          },
          "execution_count": 19
        }
      ]
    },
    {
      "metadata": {
        "id": "pzDmPyRvGdUv",
        "colab_type": "text"
      },
      "cell_type": "markdown",
      "source": [
        "** join은 두개의 테이블을 하나로 만들어준다**\n",
        "\n",
        "같은 index(key)를 가지고 있으면 하나의 행으로 합쳐줍니다.\n",
        "\n",
        "자동으로 key를 잡아줍니다!\n",
        "\n",
        "다만, 자동으로 inner join을 합니다."
      ]
    },
    {
      "metadata": {
        "id": "j5DGezR_GTc6",
        "colab_type": "code",
        "colab": {
          "base_uri": "https://localhost:8080/",
          "height": 173
        },
        "outputId": "5d4f19ca-8c38-4c0d-f170-46bfa96e97bd"
      },
      "cell_type": "code",
      "source": [
        "pd.merge(mean_by_rank, std_by_rank)"
      ],
      "execution_count": 20,
      "outputs": [
        {
          "output_type": "execute_result",
          "data": {
            "text/html": [
              "<div>\n",
              "<style scoped>\n",
              "    .dataframe tbody tr th:only-of-type {\n",
              "        vertical-align: middle;\n",
              "    }\n",
              "\n",
              "    .dataframe tbody tr th {\n",
              "        vertical-align: top;\n",
              "    }\n",
              "\n",
              "    .dataframe thead th {\n",
              "        text-align: right;\n",
              "    }\n",
              "</style>\n",
              "<table border=\"1\" class=\"dataframe\">\n",
              "  <thead>\n",
              "    <tr style=\"text-align: right;\">\n",
              "      <th></th>\n",
              "      <th>rank</th>\n",
              "      <th>gre_mean</th>\n",
              "      <th>gpa_mean</th>\n",
              "      <th>gre_std</th>\n",
              "      <th>gpa_std</th>\n",
              "    </tr>\n",
              "  </thead>\n",
              "  <tbody>\n",
              "    <tr>\n",
              "      <th>0</th>\n",
              "      <td>1</td>\n",
              "      <td>611.803279</td>\n",
              "      <td>3.453115</td>\n",
              "      <td>120.242924</td>\n",
              "      <td>0.390698</td>\n",
              "    </tr>\n",
              "    <tr>\n",
              "      <th>1</th>\n",
              "      <td>2</td>\n",
              "      <td>596.026490</td>\n",
              "      <td>3.361656</td>\n",
              "      <td>107.008283</td>\n",
              "      <td>0.375893</td>\n",
              "    </tr>\n",
              "    <tr>\n",
              "      <th>2</th>\n",
              "      <td>3</td>\n",
              "      <td>574.876033</td>\n",
              "      <td>3.432893</td>\n",
              "      <td>121.148089</td>\n",
              "      <td>0.386502</td>\n",
              "    </tr>\n",
              "    <tr>\n",
              "      <th>3</th>\n",
              "      <td>4</td>\n",
              "      <td>570.149254</td>\n",
              "      <td>3.318358</td>\n",
              "      <td>116.221999</td>\n",
              "      <td>0.360507</td>\n",
              "    </tr>\n",
              "  </tbody>\n",
              "</table>\n",
              "</div>"
            ],
            "text/plain": [
              "   rank    gre_mean  gpa_mean     gre_std   gpa_std\n",
              "0     1  611.803279  3.453115  120.242924  0.390698\n",
              "1     2  596.026490  3.361656  107.008283  0.375893\n",
              "2     3  574.876033  3.432893  121.148089  0.386502\n",
              "3     4  570.149254  3.318358  116.221999  0.360507"
            ]
          },
          "metadata": {
            "tags": []
          },
          "execution_count": 20
        }
      ]
    },
    {
      "metadata": {
        "id": "HOK_DUWYGq4t",
        "colab_type": "code",
        "colab": {
          "base_uri": "https://localhost:8080/",
          "height": 173
        },
        "outputId": "ed4eaf90-948e-45b3-f751-06472f423ea2"
      },
      "cell_type": "code",
      "source": [
        "pd.merge(mean_by_rank, std_by_rank, on = 'rank', how = 'outer')"
      ],
      "execution_count": 22,
      "outputs": [
        {
          "output_type": "execute_result",
          "data": {
            "text/html": [
              "<div>\n",
              "<style scoped>\n",
              "    .dataframe tbody tr th:only-of-type {\n",
              "        vertical-align: middle;\n",
              "    }\n",
              "\n",
              "    .dataframe tbody tr th {\n",
              "        vertical-align: top;\n",
              "    }\n",
              "\n",
              "    .dataframe thead th {\n",
              "        text-align: right;\n",
              "    }\n",
              "</style>\n",
              "<table border=\"1\" class=\"dataframe\">\n",
              "  <thead>\n",
              "    <tr style=\"text-align: right;\">\n",
              "      <th></th>\n",
              "      <th>rank</th>\n",
              "      <th>gre_mean</th>\n",
              "      <th>gpa_mean</th>\n",
              "      <th>gre_std</th>\n",
              "      <th>gpa_std</th>\n",
              "    </tr>\n",
              "  </thead>\n",
              "  <tbody>\n",
              "    <tr>\n",
              "      <th>0</th>\n",
              "      <td>1</td>\n",
              "      <td>611.803279</td>\n",
              "      <td>3.453115</td>\n",
              "      <td>120.242924</td>\n",
              "      <td>0.390698</td>\n",
              "    </tr>\n",
              "    <tr>\n",
              "      <th>1</th>\n",
              "      <td>2</td>\n",
              "      <td>596.026490</td>\n",
              "      <td>3.361656</td>\n",
              "      <td>107.008283</td>\n",
              "      <td>0.375893</td>\n",
              "    </tr>\n",
              "    <tr>\n",
              "      <th>2</th>\n",
              "      <td>3</td>\n",
              "      <td>574.876033</td>\n",
              "      <td>3.432893</td>\n",
              "      <td>121.148089</td>\n",
              "      <td>0.386502</td>\n",
              "    </tr>\n",
              "    <tr>\n",
              "      <th>3</th>\n",
              "      <td>4</td>\n",
              "      <td>570.149254</td>\n",
              "      <td>3.318358</td>\n",
              "      <td>116.221999</td>\n",
              "      <td>0.360507</td>\n",
              "    </tr>\n",
              "  </tbody>\n",
              "</table>\n",
              "</div>"
            ],
            "text/plain": [
              "   rank    gre_mean  gpa_mean     gre_std   gpa_std\n",
              "0     1  611.803279  3.453115  120.242924  0.390698\n",
              "1     2  596.026490  3.361656  107.008283  0.375893\n",
              "2     3  574.876033  3.432893  121.148089  0.386502\n",
              "3     4  570.149254  3.318358  116.221999  0.360507"
            ]
          },
          "metadata": {
            "tags": []
          },
          "execution_count": 22
        }
      ]
    },
    {
      "metadata": {
        "id": "IudB7hIxHAj-",
        "colab_type": "text"
      },
      "cell_type": "markdown",
      "source": [
        "multiple key에 대해서도 자동으로 join이 됩니다!"
      ]
    },
    {
      "metadata": {
        "id": "6XFhsDRnHRXW",
        "colab_type": "code",
        "colab": {
          "base_uri": "https://localhost:8080/",
          "height": 297
        },
        "outputId": "1c42af48-7216-4cd0-ef3e-c0788ca4757b"
      },
      "cell_type": "code",
      "source": [
        "mean_by_rank2 = df.groupby(by = ['rank', 'admit'], as_index=False)['gre', 'gpa'].mean()\n",
        "mean_by_rank2.rename(columns = {'gre':'gre_mean', 'gpa':'gpa_mean'}, inplace = True)\n",
        "mean_by_rank2"
      ],
      "execution_count": 23,
      "outputs": [
        {
          "output_type": "execute_result",
          "data": {
            "text/html": [
              "<div>\n",
              "<style scoped>\n",
              "    .dataframe tbody tr th:only-of-type {\n",
              "        vertical-align: middle;\n",
              "    }\n",
              "\n",
              "    .dataframe tbody tr th {\n",
              "        vertical-align: top;\n",
              "    }\n",
              "\n",
              "    .dataframe thead th {\n",
              "        text-align: right;\n",
              "    }\n",
              "</style>\n",
              "<table border=\"1\" class=\"dataframe\">\n",
              "  <thead>\n",
              "    <tr style=\"text-align: right;\">\n",
              "      <th></th>\n",
              "      <th>rank</th>\n",
              "      <th>admit</th>\n",
              "      <th>gre_mean</th>\n",
              "      <th>gpa_mean</th>\n",
              "    </tr>\n",
              "  </thead>\n",
              "  <tbody>\n",
              "    <tr>\n",
              "      <th>0</th>\n",
              "      <td>1</td>\n",
              "      <td>0</td>\n",
              "      <td>582.857143</td>\n",
              "      <td>3.345714</td>\n",
              "    </tr>\n",
              "    <tr>\n",
              "      <th>1</th>\n",
              "      <td>1</td>\n",
              "      <td>1</td>\n",
              "      <td>636.363636</td>\n",
              "      <td>3.544242</td>\n",
              "    </tr>\n",
              "    <tr>\n",
              "      <th>2</th>\n",
              "      <td>2</td>\n",
              "      <td>0</td>\n",
              "      <td>586.597938</td>\n",
              "      <td>3.316598</td>\n",
              "    </tr>\n",
              "    <tr>\n",
              "      <th>3</th>\n",
              "      <td>2</td>\n",
              "      <td>1</td>\n",
              "      <td>612.962963</td>\n",
              "      <td>3.442593</td>\n",
              "    </tr>\n",
              "    <tr>\n",
              "      <th>4</th>\n",
              "      <td>3</td>\n",
              "      <td>0</td>\n",
              "      <td>562.365591</td>\n",
              "      <td>3.402258</td>\n",
              "    </tr>\n",
              "    <tr>\n",
              "      <th>5</th>\n",
              "      <td>3</td>\n",
              "      <td>1</td>\n",
              "      <td>616.428571</td>\n",
              "      <td>3.534643</td>\n",
              "    </tr>\n",
              "    <tr>\n",
              "      <th>6</th>\n",
              "      <td>4</td>\n",
              "      <td>0</td>\n",
              "      <td>562.909091</td>\n",
              "      <td>3.291455</td>\n",
              "    </tr>\n",
              "    <tr>\n",
              "      <th>7</th>\n",
              "      <td>4</td>\n",
              "      <td>1</td>\n",
              "      <td>603.333333</td>\n",
              "      <td>3.441667</td>\n",
              "    </tr>\n",
              "  </tbody>\n",
              "</table>\n",
              "</div>"
            ],
            "text/plain": [
              "   rank  admit    gre_mean  gpa_mean\n",
              "0     1      0  582.857143  3.345714\n",
              "1     1      1  636.363636  3.544242\n",
              "2     2      0  586.597938  3.316598\n",
              "3     2      1  612.962963  3.442593\n",
              "4     3      0  562.365591  3.402258\n",
              "5     3      1  616.428571  3.534643\n",
              "6     4      0  562.909091  3.291455\n",
              "7     4      1  603.333333  3.441667"
            ]
          },
          "metadata": {
            "tags": []
          },
          "execution_count": 23
        }
      ]
    },
    {
      "metadata": {
        "id": "79OKecOWHZY6",
        "colab_type": "code",
        "colab": {
          "base_uri": "https://localhost:8080/",
          "height": 297
        },
        "outputId": "c192a218-996d-4c85-f78c-a6b1f3b344f8"
      },
      "cell_type": "code",
      "source": [
        "std_by_rank2 = df.groupby(by = ['rank','admit'], as_index=False)['gre', 'gpa'].std()\n",
        "std_by_rank2.rename(columns = {'gre':'gre_std', 'gpa':'gpa_std'}, inplace = True)\n",
        "std_by_rank2['rank'] = mean_by_rank2['rank']\n",
        "std_by_rank2"
      ],
      "execution_count": 24,
      "outputs": [
        {
          "output_type": "execute_result",
          "data": {
            "text/html": [
              "<div>\n",
              "<style scoped>\n",
              "    .dataframe tbody tr th:only-of-type {\n",
              "        vertical-align: middle;\n",
              "    }\n",
              "\n",
              "    .dataframe tbody tr th {\n",
              "        vertical-align: top;\n",
              "    }\n",
              "\n",
              "    .dataframe thead th {\n",
              "        text-align: right;\n",
              "    }\n",
              "</style>\n",
              "<table border=\"1\" class=\"dataframe\">\n",
              "  <thead>\n",
              "    <tr style=\"text-align: right;\">\n",
              "      <th></th>\n",
              "      <th>rank</th>\n",
              "      <th>admit</th>\n",
              "      <th>gre_std</th>\n",
              "      <th>gpa_std</th>\n",
              "    </tr>\n",
              "  </thead>\n",
              "  <tbody>\n",
              "    <tr>\n",
              "      <th>0</th>\n",
              "      <td>1</td>\n",
              "      <td>0.0</td>\n",
              "      <td>126.574737</td>\n",
              "      <td>0.375445</td>\n",
              "    </tr>\n",
              "    <tr>\n",
              "      <th>1</th>\n",
              "      <td>1</td>\n",
              "      <td>1.0</td>\n",
              "      <td>110.618098</td>\n",
              "      <td>0.385511</td>\n",
              "    </tr>\n",
              "    <tr>\n",
              "      <th>2</th>\n",
              "      <td>2</td>\n",
              "      <td>0.0</td>\n",
              "      <td>103.066388</td>\n",
              "      <td>0.377927</td>\n",
              "    </tr>\n",
              "    <tr>\n",
              "      <th>3</th>\n",
              "      <td>2</td>\n",
              "      <td>1.0</td>\n",
              "      <td>112.746663</td>\n",
              "      <td>0.361653</td>\n",
              "    </tr>\n",
              "    <tr>\n",
              "      <th>4</th>\n",
              "      <td>3</td>\n",
              "      <td>0.0</td>\n",
              "      <td>124.650798</td>\n",
              "      <td>0.379434</td>\n",
              "    </tr>\n",
              "    <tr>\n",
              "      <th>5</th>\n",
              "      <td>3</td>\n",
              "      <td>1.0</td>\n",
              "      <td>99.785484</td>\n",
              "      <td>0.399244</td>\n",
              "    </tr>\n",
              "    <tr>\n",
              "      <th>6</th>\n",
              "      <td>4</td>\n",
              "      <td>0.0</td>\n",
              "      <td>116.327646</td>\n",
              "      <td>0.369767</td>\n",
              "    </tr>\n",
              "    <tr>\n",
              "      <th>7</th>\n",
              "      <td>4</td>\n",
              "      <td>1.0</td>\n",
              "      <td>114.680056</td>\n",
              "      <td>0.297286</td>\n",
              "    </tr>\n",
              "  </tbody>\n",
              "</table>\n",
              "</div>"
            ],
            "text/plain": [
              "   rank  admit     gre_std   gpa_std\n",
              "0     1    0.0  126.574737  0.375445\n",
              "1     1    1.0  110.618098  0.385511\n",
              "2     2    0.0  103.066388  0.377927\n",
              "3     2    1.0  112.746663  0.361653\n",
              "4     3    0.0  124.650798  0.379434\n",
              "5     3    1.0   99.785484  0.399244\n",
              "6     4    0.0  116.327646  0.369767\n",
              "7     4    1.0  114.680056  0.297286"
            ]
          },
          "metadata": {
            "tags": []
          },
          "execution_count": 24
        }
      ]
    },
    {
      "metadata": {
        "id": "m3HJLkjBHmtJ",
        "colab_type": "code",
        "colab": {
          "base_uri": "https://localhost:8080/",
          "height": 297
        },
        "outputId": "0eb453bd-b090-455b-af24-85d0c9ad83c2"
      },
      "cell_type": "code",
      "source": [
        "pd.merge(mean_by_rank2,std_by_rank2)"
      ],
      "execution_count": 25,
      "outputs": [
        {
          "output_type": "execute_result",
          "data": {
            "text/html": [
              "<div>\n",
              "<style scoped>\n",
              "    .dataframe tbody tr th:only-of-type {\n",
              "        vertical-align: middle;\n",
              "    }\n",
              "\n",
              "    .dataframe tbody tr th {\n",
              "        vertical-align: top;\n",
              "    }\n",
              "\n",
              "    .dataframe thead th {\n",
              "        text-align: right;\n",
              "    }\n",
              "</style>\n",
              "<table border=\"1\" class=\"dataframe\">\n",
              "  <thead>\n",
              "    <tr style=\"text-align: right;\">\n",
              "      <th></th>\n",
              "      <th>rank</th>\n",
              "      <th>admit</th>\n",
              "      <th>gre_mean</th>\n",
              "      <th>gpa_mean</th>\n",
              "      <th>gre_std</th>\n",
              "      <th>gpa_std</th>\n",
              "    </tr>\n",
              "  </thead>\n",
              "  <tbody>\n",
              "    <tr>\n",
              "      <th>0</th>\n",
              "      <td>1</td>\n",
              "      <td>0</td>\n",
              "      <td>582.857143</td>\n",
              "      <td>3.345714</td>\n",
              "      <td>126.574737</td>\n",
              "      <td>0.375445</td>\n",
              "    </tr>\n",
              "    <tr>\n",
              "      <th>1</th>\n",
              "      <td>1</td>\n",
              "      <td>1</td>\n",
              "      <td>636.363636</td>\n",
              "      <td>3.544242</td>\n",
              "      <td>110.618098</td>\n",
              "      <td>0.385511</td>\n",
              "    </tr>\n",
              "    <tr>\n",
              "      <th>2</th>\n",
              "      <td>2</td>\n",
              "      <td>0</td>\n",
              "      <td>586.597938</td>\n",
              "      <td>3.316598</td>\n",
              "      <td>103.066388</td>\n",
              "      <td>0.377927</td>\n",
              "    </tr>\n",
              "    <tr>\n",
              "      <th>3</th>\n",
              "      <td>2</td>\n",
              "      <td>1</td>\n",
              "      <td>612.962963</td>\n",
              "      <td>3.442593</td>\n",
              "      <td>112.746663</td>\n",
              "      <td>0.361653</td>\n",
              "    </tr>\n",
              "    <tr>\n",
              "      <th>4</th>\n",
              "      <td>3</td>\n",
              "      <td>0</td>\n",
              "      <td>562.365591</td>\n",
              "      <td>3.402258</td>\n",
              "      <td>124.650798</td>\n",
              "      <td>0.379434</td>\n",
              "    </tr>\n",
              "    <tr>\n",
              "      <th>5</th>\n",
              "      <td>3</td>\n",
              "      <td>1</td>\n",
              "      <td>616.428571</td>\n",
              "      <td>3.534643</td>\n",
              "      <td>99.785484</td>\n",
              "      <td>0.399244</td>\n",
              "    </tr>\n",
              "    <tr>\n",
              "      <th>6</th>\n",
              "      <td>4</td>\n",
              "      <td>0</td>\n",
              "      <td>562.909091</td>\n",
              "      <td>3.291455</td>\n",
              "      <td>116.327646</td>\n",
              "      <td>0.369767</td>\n",
              "    </tr>\n",
              "    <tr>\n",
              "      <th>7</th>\n",
              "      <td>4</td>\n",
              "      <td>1</td>\n",
              "      <td>603.333333</td>\n",
              "      <td>3.441667</td>\n",
              "      <td>114.680056</td>\n",
              "      <td>0.297286</td>\n",
              "    </tr>\n",
              "  </tbody>\n",
              "</table>\n",
              "</div>"
            ],
            "text/plain": [
              "   rank admit    gre_mean  gpa_mean     gre_std   gpa_std\n",
              "0     1     0  582.857143  3.345714  126.574737  0.375445\n",
              "1     1     1  636.363636  3.544242  110.618098  0.385511\n",
              "2     2     0  586.597938  3.316598  103.066388  0.377927\n",
              "3     2     1  612.962963  3.442593  112.746663  0.361653\n",
              "4     3     0  562.365591  3.402258  124.650798  0.379434\n",
              "5     3     1  616.428571  3.534643   99.785484  0.399244\n",
              "6     4     0  562.909091  3.291455  116.327646  0.369767\n",
              "7     4     1  603.333333  3.441667  114.680056  0.297286"
            ]
          },
          "metadata": {
            "tags": []
          },
          "execution_count": 25
        }
      ]
    },
    {
      "metadata": {
        "id": "L14aTzDENWv3",
        "colab_type": "text"
      },
      "cell_type": "markdown",
      "source": [
        "실습해봅시다!\n",
        "\n",
        "rank, admit 기준으로 gre의 최소값을 담는 dataframe을 만들어\n",
        "\n",
        "다음의 데이터 프레임(df_to_merge)와 join 하시오."
      ]
    },
    {
      "metadata": {
        "id": "IzYcn8pXNS2K",
        "colab_type": "code",
        "colab": {
          "base_uri": "https://localhost:8080/",
          "height": 204
        },
        "outputId": "dc8f8fce-c3ad-4b20-c92e-28cce34f5a78"
      },
      "cell_type": "code",
      "source": [
        "df_to_merge = pd.merge(mean_by_rank2, std_by_rank2)\n",
        "df_to_merge.head()"
      ],
      "execution_count": 26,
      "outputs": [
        {
          "output_type": "execute_result",
          "data": {
            "text/html": [
              "<div>\n",
              "<style scoped>\n",
              "    .dataframe tbody tr th:only-of-type {\n",
              "        vertical-align: middle;\n",
              "    }\n",
              "\n",
              "    .dataframe tbody tr th {\n",
              "        vertical-align: top;\n",
              "    }\n",
              "\n",
              "    .dataframe thead th {\n",
              "        text-align: right;\n",
              "    }\n",
              "</style>\n",
              "<table border=\"1\" class=\"dataframe\">\n",
              "  <thead>\n",
              "    <tr style=\"text-align: right;\">\n",
              "      <th></th>\n",
              "      <th>rank</th>\n",
              "      <th>admit</th>\n",
              "      <th>gre_mean</th>\n",
              "      <th>gpa_mean</th>\n",
              "      <th>gre_std</th>\n",
              "      <th>gpa_std</th>\n",
              "    </tr>\n",
              "  </thead>\n",
              "  <tbody>\n",
              "    <tr>\n",
              "      <th>0</th>\n",
              "      <td>1</td>\n",
              "      <td>0</td>\n",
              "      <td>582.857143</td>\n",
              "      <td>3.345714</td>\n",
              "      <td>126.574737</td>\n",
              "      <td>0.375445</td>\n",
              "    </tr>\n",
              "    <tr>\n",
              "      <th>1</th>\n",
              "      <td>1</td>\n",
              "      <td>1</td>\n",
              "      <td>636.363636</td>\n",
              "      <td>3.544242</td>\n",
              "      <td>110.618098</td>\n",
              "      <td>0.385511</td>\n",
              "    </tr>\n",
              "    <tr>\n",
              "      <th>2</th>\n",
              "      <td>2</td>\n",
              "      <td>0</td>\n",
              "      <td>586.597938</td>\n",
              "      <td>3.316598</td>\n",
              "      <td>103.066388</td>\n",
              "      <td>0.377927</td>\n",
              "    </tr>\n",
              "    <tr>\n",
              "      <th>3</th>\n",
              "      <td>2</td>\n",
              "      <td>1</td>\n",
              "      <td>612.962963</td>\n",
              "      <td>3.442593</td>\n",
              "      <td>112.746663</td>\n",
              "      <td>0.361653</td>\n",
              "    </tr>\n",
              "    <tr>\n",
              "      <th>4</th>\n",
              "      <td>3</td>\n",
              "      <td>0</td>\n",
              "      <td>562.365591</td>\n",
              "      <td>3.402258</td>\n",
              "      <td>124.650798</td>\n",
              "      <td>0.379434</td>\n",
              "    </tr>\n",
              "  </tbody>\n",
              "</table>\n",
              "</div>"
            ],
            "text/plain": [
              "   rank admit    gre_mean  gpa_mean     gre_std   gpa_std\n",
              "0     1     0  582.857143  3.345714  126.574737  0.375445\n",
              "1     1     1  636.363636  3.544242  110.618098  0.385511\n",
              "2     2     0  586.597938  3.316598  103.066388  0.377927\n",
              "3     2     1  612.962963  3.442593  112.746663  0.361653\n",
              "4     3     0  562.365591  3.402258  124.650798  0.379434"
            ]
          },
          "metadata": {
            "tags": []
          },
          "execution_count": 26
        }
      ]
    },
    {
      "metadata": {
        "id": "E767uaIVNoTW",
        "colab_type": "code",
        "colab": {
          "base_uri": "https://localhost:8080/",
          "height": 297
        },
        "outputId": "fdb1ea2e-8ccc-47f1-efbc-3e24e821bc89"
      },
      "cell_type": "code",
      "source": [
        "df_mingre = df.groupby(by = ['rank','admit'], as_index=False)['gre'].min()\n",
        "df_mingre"
      ],
      "execution_count": 31,
      "outputs": [
        {
          "output_type": "execute_result",
          "data": {
            "text/html": [
              "<div>\n",
              "<style scoped>\n",
              "    .dataframe tbody tr th:only-of-type {\n",
              "        vertical-align: middle;\n",
              "    }\n",
              "\n",
              "    .dataframe tbody tr th {\n",
              "        vertical-align: top;\n",
              "    }\n",
              "\n",
              "    .dataframe thead th {\n",
              "        text-align: right;\n",
              "    }\n",
              "</style>\n",
              "<table border=\"1\" class=\"dataframe\">\n",
              "  <thead>\n",
              "    <tr style=\"text-align: right;\">\n",
              "      <th></th>\n",
              "      <th>rank</th>\n",
              "      <th>admit</th>\n",
              "      <th>gre</th>\n",
              "    </tr>\n",
              "  </thead>\n",
              "  <tbody>\n",
              "    <tr>\n",
              "      <th>0</th>\n",
              "      <td>1</td>\n",
              "      <td>0</td>\n",
              "      <td>340</td>\n",
              "    </tr>\n",
              "    <tr>\n",
              "      <th>1</th>\n",
              "      <td>1</td>\n",
              "      <td>1</td>\n",
              "      <td>460</td>\n",
              "    </tr>\n",
              "    <tr>\n",
              "      <th>2</th>\n",
              "      <td>2</td>\n",
              "      <td>0</td>\n",
              "      <td>380</td>\n",
              "    </tr>\n",
              "    <tr>\n",
              "      <th>3</th>\n",
              "      <td>2</td>\n",
              "      <td>1</td>\n",
              "      <td>300</td>\n",
              "    </tr>\n",
              "    <tr>\n",
              "      <th>4</th>\n",
              "      <td>3</td>\n",
              "      <td>0</td>\n",
              "      <td>220</td>\n",
              "    </tr>\n",
              "    <tr>\n",
              "      <th>5</th>\n",
              "      <td>3</td>\n",
              "      <td>1</td>\n",
              "      <td>460</td>\n",
              "    </tr>\n",
              "    <tr>\n",
              "      <th>6</th>\n",
              "      <td>4</td>\n",
              "      <td>0</td>\n",
              "      <td>300</td>\n",
              "    </tr>\n",
              "    <tr>\n",
              "      <th>7</th>\n",
              "      <td>4</td>\n",
              "      <td>1</td>\n",
              "      <td>400</td>\n",
              "    </tr>\n",
              "  </tbody>\n",
              "</table>\n",
              "</div>"
            ],
            "text/plain": [
              "   rank  admit  gre\n",
              "0     1      0  340\n",
              "1     1      1  460\n",
              "2     2      0  380\n",
              "3     2      1  300\n",
              "4     3      0  220\n",
              "5     3      1  460\n",
              "6     4      0  300\n",
              "7     4      1  400"
            ]
          },
          "metadata": {
            "tags": []
          },
          "execution_count": 31
        }
      ]
    },
    {
      "metadata": {
        "id": "hugZg4TgN0N6",
        "colab_type": "code",
        "colab": {
          "base_uri": "https://localhost:8080/",
          "height": 297
        },
        "outputId": "f6eae1f6-90b7-45ee-dc15-e94ab62d203e"
      },
      "cell_type": "code",
      "source": [
        "# Your Code\n",
        "\n",
        "df_mingre.rename(columns={'gre':'min_gre'}, inplace = True)\n",
        "pd.merge(df_to_merge,df_mingre)\n"
      ],
      "execution_count": 34,
      "outputs": [
        {
          "output_type": "execute_result",
          "data": {
            "text/html": [
              "<div>\n",
              "<style scoped>\n",
              "    .dataframe tbody tr th:only-of-type {\n",
              "        vertical-align: middle;\n",
              "    }\n",
              "\n",
              "    .dataframe tbody tr th {\n",
              "        vertical-align: top;\n",
              "    }\n",
              "\n",
              "    .dataframe thead th {\n",
              "        text-align: right;\n",
              "    }\n",
              "</style>\n",
              "<table border=\"1\" class=\"dataframe\">\n",
              "  <thead>\n",
              "    <tr style=\"text-align: right;\">\n",
              "      <th></th>\n",
              "      <th>rank</th>\n",
              "      <th>admit</th>\n",
              "      <th>gre_mean</th>\n",
              "      <th>gpa_mean</th>\n",
              "      <th>gre_std</th>\n",
              "      <th>gpa_std</th>\n",
              "      <th>min_gre</th>\n",
              "    </tr>\n",
              "  </thead>\n",
              "  <tbody>\n",
              "    <tr>\n",
              "      <th>0</th>\n",
              "      <td>1</td>\n",
              "      <td>0</td>\n",
              "      <td>582.857143</td>\n",
              "      <td>3.345714</td>\n",
              "      <td>126.574737</td>\n",
              "      <td>0.375445</td>\n",
              "      <td>340</td>\n",
              "    </tr>\n",
              "    <tr>\n",
              "      <th>1</th>\n",
              "      <td>1</td>\n",
              "      <td>1</td>\n",
              "      <td>636.363636</td>\n",
              "      <td>3.544242</td>\n",
              "      <td>110.618098</td>\n",
              "      <td>0.385511</td>\n",
              "      <td>460</td>\n",
              "    </tr>\n",
              "    <tr>\n",
              "      <th>2</th>\n",
              "      <td>2</td>\n",
              "      <td>0</td>\n",
              "      <td>586.597938</td>\n",
              "      <td>3.316598</td>\n",
              "      <td>103.066388</td>\n",
              "      <td>0.377927</td>\n",
              "      <td>380</td>\n",
              "    </tr>\n",
              "    <tr>\n",
              "      <th>3</th>\n",
              "      <td>2</td>\n",
              "      <td>1</td>\n",
              "      <td>612.962963</td>\n",
              "      <td>3.442593</td>\n",
              "      <td>112.746663</td>\n",
              "      <td>0.361653</td>\n",
              "      <td>300</td>\n",
              "    </tr>\n",
              "    <tr>\n",
              "      <th>4</th>\n",
              "      <td>3</td>\n",
              "      <td>0</td>\n",
              "      <td>562.365591</td>\n",
              "      <td>3.402258</td>\n",
              "      <td>124.650798</td>\n",
              "      <td>0.379434</td>\n",
              "      <td>220</td>\n",
              "    </tr>\n",
              "    <tr>\n",
              "      <th>5</th>\n",
              "      <td>3</td>\n",
              "      <td>1</td>\n",
              "      <td>616.428571</td>\n",
              "      <td>3.534643</td>\n",
              "      <td>99.785484</td>\n",
              "      <td>0.399244</td>\n",
              "      <td>460</td>\n",
              "    </tr>\n",
              "    <tr>\n",
              "      <th>6</th>\n",
              "      <td>4</td>\n",
              "      <td>0</td>\n",
              "      <td>562.909091</td>\n",
              "      <td>3.291455</td>\n",
              "      <td>116.327646</td>\n",
              "      <td>0.369767</td>\n",
              "      <td>300</td>\n",
              "    </tr>\n",
              "    <tr>\n",
              "      <th>7</th>\n",
              "      <td>4</td>\n",
              "      <td>1</td>\n",
              "      <td>603.333333</td>\n",
              "      <td>3.441667</td>\n",
              "      <td>114.680056</td>\n",
              "      <td>0.297286</td>\n",
              "      <td>400</td>\n",
              "    </tr>\n",
              "  </tbody>\n",
              "</table>\n",
              "</div>"
            ],
            "text/plain": [
              "   rank admit    gre_mean  gpa_mean     gre_std   gpa_std  min_gre\n",
              "0     1     0  582.857143  3.345714  126.574737  0.375445      340\n",
              "1     1     1  636.363636  3.544242  110.618098  0.385511      460\n",
              "2     2     0  586.597938  3.316598  103.066388  0.377927      380\n",
              "3     2     1  612.962963  3.442593  112.746663  0.361653      300\n",
              "4     3     0  562.365591  3.402258  124.650798  0.379434      220\n",
              "5     3     1  616.428571  3.534643   99.785484  0.399244      460\n",
              "6     4     0  562.909091  3.291455  116.327646  0.369767      300\n",
              "7     4     1  603.333333  3.441667  114.680056  0.297286      400"
            ]
          },
          "metadata": {
            "tags": []
          },
          "execution_count": 34
        }
      ]
    },
    {
      "metadata": {
        "id": "jdMTalYEHiAi",
        "colab_type": "text"
      },
      "cell_type": "markdown",
      "source": [
        "### 06-3 Rolling\n"
      ]
    },
    {
      "metadata": {
        "id": "Jpn93abYH_1j",
        "colab_type": "code",
        "colab": {}
      },
      "cell_type": "code",
      "source": [
        "import pandas as pd"
      ],
      "execution_count": 0,
      "outputs": []
    },
    {
      "metadata": {
        "id": "6XZbGn8AIMz7",
        "colab_type": "code",
        "colab": {
          "base_uri": "https://localhost:8080/",
          "height": 204
        },
        "outputId": "39f6cdc1-3d2f-4f6b-ba1b-9162b403eda2"
      },
      "cell_type": "code",
      "source": [
        "stock = pd.read_csv('https://raw.githubusercontent.com/RayleighKim/Example_datasets/master/Stock_Edwards_Lifesciences_corporation.csv')\n",
        "stock.head()"
      ],
      "execution_count": 36,
      "outputs": [
        {
          "output_type": "execute_result",
          "data": {
            "text/html": [
              "<div>\n",
              "<style scoped>\n",
              "    .dataframe tbody tr th:only-of-type {\n",
              "        vertical-align: middle;\n",
              "    }\n",
              "\n",
              "    .dataframe tbody tr th {\n",
              "        vertical-align: top;\n",
              "    }\n",
              "\n",
              "    .dataframe thead th {\n",
              "        text-align: right;\n",
              "    }\n",
              "</style>\n",
              "<table border=\"1\" class=\"dataframe\">\n",
              "  <thead>\n",
              "    <tr style=\"text-align: right;\">\n",
              "      <th></th>\n",
              "      <th>Date</th>\n",
              "      <th>Open</th>\n",
              "      <th>High</th>\n",
              "      <th>Low</th>\n",
              "      <th>Close</th>\n",
              "      <th>Adj_Close</th>\n",
              "      <th>Volume</th>\n",
              "    </tr>\n",
              "  </thead>\n",
              "  <tbody>\n",
              "    <tr>\n",
              "      <th>0</th>\n",
              "      <td>2000/3/27</td>\n",
              "      <td>3.812500</td>\n",
              "      <td>4.156250</td>\n",
              "      <td>3.812500</td>\n",
              "      <td>4.125000</td>\n",
              "      <td>4.125000</td>\n",
              "      <td>3675600</td>\n",
              "    </tr>\n",
              "    <tr>\n",
              "      <th>1</th>\n",
              "      <td>2000/3/28</td>\n",
              "      <td>4.125000</td>\n",
              "      <td>4.125000</td>\n",
              "      <td>4.000000</td>\n",
              "      <td>4.015625</td>\n",
              "      <td>4.015625</td>\n",
              "      <td>1077600</td>\n",
              "    </tr>\n",
              "    <tr>\n",
              "      <th>2</th>\n",
              "      <td>2000/3/29</td>\n",
              "      <td>4.000000</td>\n",
              "      <td>4.031250</td>\n",
              "      <td>3.953125</td>\n",
              "      <td>4.000000</td>\n",
              "      <td>4.000000</td>\n",
              "      <td>437200</td>\n",
              "    </tr>\n",
              "    <tr>\n",
              "      <th>3</th>\n",
              "      <td>2000/3/30</td>\n",
              "      <td>4.000000</td>\n",
              "      <td>4.000000</td>\n",
              "      <td>3.843750</td>\n",
              "      <td>3.843750</td>\n",
              "      <td>3.843750</td>\n",
              "      <td>1883600</td>\n",
              "    </tr>\n",
              "    <tr>\n",
              "      <th>4</th>\n",
              "      <td>2000/3/31</td>\n",
              "      <td>3.734375</td>\n",
              "      <td>3.734375</td>\n",
              "      <td>3.390625</td>\n",
              "      <td>3.390625</td>\n",
              "      <td>3.390625</td>\n",
              "      <td>7931600</td>\n",
              "    </tr>\n",
              "  </tbody>\n",
              "</table>\n",
              "</div>"
            ],
            "text/plain": [
              "        Date      Open      High       Low     Close  Adj_Close   Volume\n",
              "0  2000/3/27  3.812500  4.156250  3.812500  4.125000   4.125000  3675600\n",
              "1  2000/3/28  4.125000  4.125000  4.000000  4.015625   4.015625  1077600\n",
              "2  2000/3/29  4.000000  4.031250  3.953125  4.000000   4.000000   437200\n",
              "3  2000/3/30  4.000000  4.000000  3.843750  3.843750   3.843750  1883600\n",
              "4  2000/3/31  3.734375  3.734375  3.390625  3.390625   3.390625  7931600"
            ]
          },
          "metadata": {
            "tags": []
          },
          "execution_count": 36
        }
      ]
    },
    {
      "metadata": {
        "id": "YavSi4xWIy5U",
        "colab_type": "text"
      },
      "cell_type": "markdown",
      "source": [
        "Date 와 Close 가격만을 남겨 보죠."
      ]
    },
    {
      "metadata": {
        "id": "VoMpIZBHI3i3",
        "colab_type": "code",
        "colab": {
          "base_uri": "https://localhost:8080/",
          "height": 204
        },
        "outputId": "50b3c655-24a3-40d0-ab6d-e9e3bb299f8a"
      },
      "cell_type": "code",
      "source": [
        "stock = stock[['Date', 'Close']]\n",
        "stock.head()"
      ],
      "execution_count": 37,
      "outputs": [
        {
          "output_type": "execute_result",
          "data": {
            "text/html": [
              "<div>\n",
              "<style scoped>\n",
              "    .dataframe tbody tr th:only-of-type {\n",
              "        vertical-align: middle;\n",
              "    }\n",
              "\n",
              "    .dataframe tbody tr th {\n",
              "        vertical-align: top;\n",
              "    }\n",
              "\n",
              "    .dataframe thead th {\n",
              "        text-align: right;\n",
              "    }\n",
              "</style>\n",
              "<table border=\"1\" class=\"dataframe\">\n",
              "  <thead>\n",
              "    <tr style=\"text-align: right;\">\n",
              "      <th></th>\n",
              "      <th>Date</th>\n",
              "      <th>Close</th>\n",
              "    </tr>\n",
              "  </thead>\n",
              "  <tbody>\n",
              "    <tr>\n",
              "      <th>0</th>\n",
              "      <td>2000/3/27</td>\n",
              "      <td>4.125000</td>\n",
              "    </tr>\n",
              "    <tr>\n",
              "      <th>1</th>\n",
              "      <td>2000/3/28</td>\n",
              "      <td>4.015625</td>\n",
              "    </tr>\n",
              "    <tr>\n",
              "      <th>2</th>\n",
              "      <td>2000/3/29</td>\n",
              "      <td>4.000000</td>\n",
              "    </tr>\n",
              "    <tr>\n",
              "      <th>3</th>\n",
              "      <td>2000/3/30</td>\n",
              "      <td>3.843750</td>\n",
              "    </tr>\n",
              "    <tr>\n",
              "      <th>4</th>\n",
              "      <td>2000/3/31</td>\n",
              "      <td>3.390625</td>\n",
              "    </tr>\n",
              "  </tbody>\n",
              "</table>\n",
              "</div>"
            ],
            "text/plain": [
              "        Date     Close\n",
              "0  2000/3/27  4.125000\n",
              "1  2000/3/28  4.015625\n",
              "2  2000/3/29  4.000000\n",
              "3  2000/3/30  3.843750\n",
              "4  2000/3/31  3.390625"
            ]
          },
          "metadata": {
            "tags": []
          },
          "execution_count": 37
        }
      ]
    },
    {
      "metadata": {
        "id": "wob-9-ynKBLD",
        "colab_type": "text"
      },
      "cell_type": "markdown",
      "source": [
        "기준일 포함하여 과거 3일의 평균을 데이터 프레임에 붙여봅시다."
      ]
    },
    {
      "metadata": {
        "id": "jOVuKQfWJxKD",
        "colab_type": "code",
        "colab": {
          "base_uri": "https://localhost:8080/",
          "height": 359
        },
        "outputId": "3d2ac49f-40be-4bc3-f52b-2eb0d2019b2b"
      },
      "cell_type": "code",
      "source": [
        "stock['Close_MA_3'] = stock['Close'].rolling(3).mean()\n",
        "stock.head(10)"
      ],
      "execution_count": 38,
      "outputs": [
        {
          "output_type": "execute_result",
          "data": {
            "text/html": [
              "<div>\n",
              "<style scoped>\n",
              "    .dataframe tbody tr th:only-of-type {\n",
              "        vertical-align: middle;\n",
              "    }\n",
              "\n",
              "    .dataframe tbody tr th {\n",
              "        vertical-align: top;\n",
              "    }\n",
              "\n",
              "    .dataframe thead th {\n",
              "        text-align: right;\n",
              "    }\n",
              "</style>\n",
              "<table border=\"1\" class=\"dataframe\">\n",
              "  <thead>\n",
              "    <tr style=\"text-align: right;\">\n",
              "      <th></th>\n",
              "      <th>Date</th>\n",
              "      <th>Close</th>\n",
              "      <th>Close_MA_3</th>\n",
              "    </tr>\n",
              "  </thead>\n",
              "  <tbody>\n",
              "    <tr>\n",
              "      <th>0</th>\n",
              "      <td>2000/3/27</td>\n",
              "      <td>4.125000</td>\n",
              "      <td>NaN</td>\n",
              "    </tr>\n",
              "    <tr>\n",
              "      <th>1</th>\n",
              "      <td>2000/3/28</td>\n",
              "      <td>4.015625</td>\n",
              "      <td>NaN</td>\n",
              "    </tr>\n",
              "    <tr>\n",
              "      <th>2</th>\n",
              "      <td>2000/3/29</td>\n",
              "      <td>4.000000</td>\n",
              "      <td>4.046875</td>\n",
              "    </tr>\n",
              "    <tr>\n",
              "      <th>3</th>\n",
              "      <td>2000/3/30</td>\n",
              "      <td>3.843750</td>\n",
              "      <td>3.953125</td>\n",
              "    </tr>\n",
              "    <tr>\n",
              "      <th>4</th>\n",
              "      <td>2000/3/31</td>\n",
              "      <td>3.390625</td>\n",
              "      <td>3.744792</td>\n",
              "    </tr>\n",
              "    <tr>\n",
              "      <th>5</th>\n",
              "      <td>2000/4/3</td>\n",
              "      <td>3.437500</td>\n",
              "      <td>3.557292</td>\n",
              "    </tr>\n",
              "    <tr>\n",
              "      <th>6</th>\n",
              "      <td>2000/4/4</td>\n",
              "      <td>3.500000</td>\n",
              "      <td>3.442708</td>\n",
              "    </tr>\n",
              "    <tr>\n",
              "      <th>7</th>\n",
              "      <td>2000/4/5</td>\n",
              "      <td>3.484375</td>\n",
              "      <td>3.473958</td>\n",
              "    </tr>\n",
              "    <tr>\n",
              "      <th>8</th>\n",
              "      <td>2000/4/6</td>\n",
              "      <td>3.578125</td>\n",
              "      <td>3.520833</td>\n",
              "    </tr>\n",
              "    <tr>\n",
              "      <th>9</th>\n",
              "      <td>2000/4/7</td>\n",
              "      <td>3.609375</td>\n",
              "      <td>3.557292</td>\n",
              "    </tr>\n",
              "  </tbody>\n",
              "</table>\n",
              "</div>"
            ],
            "text/plain": [
              "        Date     Close  Close_MA_3\n",
              "0  2000/3/27  4.125000         NaN\n",
              "1  2000/3/28  4.015625         NaN\n",
              "2  2000/3/29  4.000000    4.046875\n",
              "3  2000/3/30  3.843750    3.953125\n",
              "4  2000/3/31  3.390625    3.744792\n",
              "5   2000/4/3  3.437500    3.557292\n",
              "6   2000/4/4  3.500000    3.442708\n",
              "7   2000/4/5  3.484375    3.473958\n",
              "8   2000/4/6  3.578125    3.520833\n",
              "9   2000/4/7  3.609375    3.557292"
            ]
          },
          "metadata": {
            "tags": []
          },
          "execution_count": 38
        }
      ]
    },
    {
      "metadata": {
        "id": "ZFW4p8VeR557",
        "colab_type": "text"
      },
      "cell_type": "markdown",
      "source": [
        "min_periods를 기억하자"
      ]
    },
    {
      "metadata": {
        "id": "Cjn_ZMMLRt0_",
        "colab_type": "code",
        "colab": {
          "base_uri": "https://localhost:8080/",
          "height": 359
        },
        "outputId": "3124410c-0bb0-4be2-dba8-79000f8a5d70"
      },
      "cell_type": "code",
      "source": [
        "stock['Close_MA_3(2)'] = stock['Close'].rolling(3, min_periods=1).mean()\n",
        "stock.head(10)"
      ],
      "execution_count": 39,
      "outputs": [
        {
          "output_type": "execute_result",
          "data": {
            "text/html": [
              "<div>\n",
              "<style scoped>\n",
              "    .dataframe tbody tr th:only-of-type {\n",
              "        vertical-align: middle;\n",
              "    }\n",
              "\n",
              "    .dataframe tbody tr th {\n",
              "        vertical-align: top;\n",
              "    }\n",
              "\n",
              "    .dataframe thead th {\n",
              "        text-align: right;\n",
              "    }\n",
              "</style>\n",
              "<table border=\"1\" class=\"dataframe\">\n",
              "  <thead>\n",
              "    <tr style=\"text-align: right;\">\n",
              "      <th></th>\n",
              "      <th>Date</th>\n",
              "      <th>Close</th>\n",
              "      <th>Close_MA_3</th>\n",
              "      <th>Close_MA_3(2)</th>\n",
              "    </tr>\n",
              "  </thead>\n",
              "  <tbody>\n",
              "    <tr>\n",
              "      <th>0</th>\n",
              "      <td>2000/3/27</td>\n",
              "      <td>4.125000</td>\n",
              "      <td>NaN</td>\n",
              "      <td>4.125000</td>\n",
              "    </tr>\n",
              "    <tr>\n",
              "      <th>1</th>\n",
              "      <td>2000/3/28</td>\n",
              "      <td>4.015625</td>\n",
              "      <td>NaN</td>\n",
              "      <td>4.070312</td>\n",
              "    </tr>\n",
              "    <tr>\n",
              "      <th>2</th>\n",
              "      <td>2000/3/29</td>\n",
              "      <td>4.000000</td>\n",
              "      <td>4.046875</td>\n",
              "      <td>4.046875</td>\n",
              "    </tr>\n",
              "    <tr>\n",
              "      <th>3</th>\n",
              "      <td>2000/3/30</td>\n",
              "      <td>3.843750</td>\n",
              "      <td>3.953125</td>\n",
              "      <td>3.953125</td>\n",
              "    </tr>\n",
              "    <tr>\n",
              "      <th>4</th>\n",
              "      <td>2000/3/31</td>\n",
              "      <td>3.390625</td>\n",
              "      <td>3.744792</td>\n",
              "      <td>3.744792</td>\n",
              "    </tr>\n",
              "    <tr>\n",
              "      <th>5</th>\n",
              "      <td>2000/4/3</td>\n",
              "      <td>3.437500</td>\n",
              "      <td>3.557292</td>\n",
              "      <td>3.557292</td>\n",
              "    </tr>\n",
              "    <tr>\n",
              "      <th>6</th>\n",
              "      <td>2000/4/4</td>\n",
              "      <td>3.500000</td>\n",
              "      <td>3.442708</td>\n",
              "      <td>3.442708</td>\n",
              "    </tr>\n",
              "    <tr>\n",
              "      <th>7</th>\n",
              "      <td>2000/4/5</td>\n",
              "      <td>3.484375</td>\n",
              "      <td>3.473958</td>\n",
              "      <td>3.473958</td>\n",
              "    </tr>\n",
              "    <tr>\n",
              "      <th>8</th>\n",
              "      <td>2000/4/6</td>\n",
              "      <td>3.578125</td>\n",
              "      <td>3.520833</td>\n",
              "      <td>3.520833</td>\n",
              "    </tr>\n",
              "    <tr>\n",
              "      <th>9</th>\n",
              "      <td>2000/4/7</td>\n",
              "      <td>3.609375</td>\n",
              "      <td>3.557292</td>\n",
              "      <td>3.557292</td>\n",
              "    </tr>\n",
              "  </tbody>\n",
              "</table>\n",
              "</div>"
            ],
            "text/plain": [
              "        Date     Close  Close_MA_3  Close_MA_3(2)\n",
              "0  2000/3/27  4.125000         NaN       4.125000\n",
              "1  2000/3/28  4.015625         NaN       4.070312\n",
              "2  2000/3/29  4.000000    4.046875       4.046875\n",
              "3  2000/3/30  3.843750    3.953125       3.953125\n",
              "4  2000/3/31  3.390625    3.744792       3.744792\n",
              "5   2000/4/3  3.437500    3.557292       3.557292\n",
              "6   2000/4/4  3.500000    3.442708       3.442708\n",
              "7   2000/4/5  3.484375    3.473958       3.473958\n",
              "8   2000/4/6  3.578125    3.520833       3.520833\n",
              "9   2000/4/7  3.609375    3.557292       3.557292"
            ]
          },
          "metadata": {
            "tags": []
          },
          "execution_count": 39
        }
      ]
    },
    {
      "metadata": {
        "id": "DwiHFEqoJ8Fw",
        "colab_type": "text"
      },
      "cell_type": "markdown",
      "source": [
        "기준일 포함하여 과거 3일 중 최대값은 어떨까요?"
      ]
    },
    {
      "metadata": {
        "id": "RM71ihOhKQuN",
        "colab_type": "code",
        "colab": {
          "base_uri": "https://localhost:8080/",
          "height": 359
        },
        "outputId": "7740efed-4ee9-475e-d4ab-845a30b7e941"
      },
      "cell_type": "code",
      "source": [
        "stock['Close_MM_3'] = stock['Close'].rolling(3).max()\n",
        "stock.head(10)"
      ],
      "execution_count": 40,
      "outputs": [
        {
          "output_type": "execute_result",
          "data": {
            "text/html": [
              "<div>\n",
              "<style scoped>\n",
              "    .dataframe tbody tr th:only-of-type {\n",
              "        vertical-align: middle;\n",
              "    }\n",
              "\n",
              "    .dataframe tbody tr th {\n",
              "        vertical-align: top;\n",
              "    }\n",
              "\n",
              "    .dataframe thead th {\n",
              "        text-align: right;\n",
              "    }\n",
              "</style>\n",
              "<table border=\"1\" class=\"dataframe\">\n",
              "  <thead>\n",
              "    <tr style=\"text-align: right;\">\n",
              "      <th></th>\n",
              "      <th>Date</th>\n",
              "      <th>Close</th>\n",
              "      <th>Close_MA_3</th>\n",
              "      <th>Close_MA_3(2)</th>\n",
              "      <th>Close_MM_3</th>\n",
              "    </tr>\n",
              "  </thead>\n",
              "  <tbody>\n",
              "    <tr>\n",
              "      <th>0</th>\n",
              "      <td>2000/3/27</td>\n",
              "      <td>4.125000</td>\n",
              "      <td>NaN</td>\n",
              "      <td>4.125000</td>\n",
              "      <td>NaN</td>\n",
              "    </tr>\n",
              "    <tr>\n",
              "      <th>1</th>\n",
              "      <td>2000/3/28</td>\n",
              "      <td>4.015625</td>\n",
              "      <td>NaN</td>\n",
              "      <td>4.070312</td>\n",
              "      <td>NaN</td>\n",
              "    </tr>\n",
              "    <tr>\n",
              "      <th>2</th>\n",
              "      <td>2000/3/29</td>\n",
              "      <td>4.000000</td>\n",
              "      <td>4.046875</td>\n",
              "      <td>4.046875</td>\n",
              "      <td>4.125000</td>\n",
              "    </tr>\n",
              "    <tr>\n",
              "      <th>3</th>\n",
              "      <td>2000/3/30</td>\n",
              "      <td>3.843750</td>\n",
              "      <td>3.953125</td>\n",
              "      <td>3.953125</td>\n",
              "      <td>4.015625</td>\n",
              "    </tr>\n",
              "    <tr>\n",
              "      <th>4</th>\n",
              "      <td>2000/3/31</td>\n",
              "      <td>3.390625</td>\n",
              "      <td>3.744792</td>\n",
              "      <td>3.744792</td>\n",
              "      <td>4.000000</td>\n",
              "    </tr>\n",
              "    <tr>\n",
              "      <th>5</th>\n",
              "      <td>2000/4/3</td>\n",
              "      <td>3.437500</td>\n",
              "      <td>3.557292</td>\n",
              "      <td>3.557292</td>\n",
              "      <td>3.843750</td>\n",
              "    </tr>\n",
              "    <tr>\n",
              "      <th>6</th>\n",
              "      <td>2000/4/4</td>\n",
              "      <td>3.500000</td>\n",
              "      <td>3.442708</td>\n",
              "      <td>3.442708</td>\n",
              "      <td>3.500000</td>\n",
              "    </tr>\n",
              "    <tr>\n",
              "      <th>7</th>\n",
              "      <td>2000/4/5</td>\n",
              "      <td>3.484375</td>\n",
              "      <td>3.473958</td>\n",
              "      <td>3.473958</td>\n",
              "      <td>3.500000</td>\n",
              "    </tr>\n",
              "    <tr>\n",
              "      <th>8</th>\n",
              "      <td>2000/4/6</td>\n",
              "      <td>3.578125</td>\n",
              "      <td>3.520833</td>\n",
              "      <td>3.520833</td>\n",
              "      <td>3.578125</td>\n",
              "    </tr>\n",
              "    <tr>\n",
              "      <th>9</th>\n",
              "      <td>2000/4/7</td>\n",
              "      <td>3.609375</td>\n",
              "      <td>3.557292</td>\n",
              "      <td>3.557292</td>\n",
              "      <td>3.609375</td>\n",
              "    </tr>\n",
              "  </tbody>\n",
              "</table>\n",
              "</div>"
            ],
            "text/plain": [
              "        Date     Close  Close_MA_3  Close_MA_3(2)  Close_MM_3\n",
              "0  2000/3/27  4.125000         NaN       4.125000         NaN\n",
              "1  2000/3/28  4.015625         NaN       4.070312         NaN\n",
              "2  2000/3/29  4.000000    4.046875       4.046875    4.125000\n",
              "3  2000/3/30  3.843750    3.953125       3.953125    4.015625\n",
              "4  2000/3/31  3.390625    3.744792       3.744792    4.000000\n",
              "5   2000/4/3  3.437500    3.557292       3.557292    3.843750\n",
              "6   2000/4/4  3.500000    3.442708       3.442708    3.500000\n",
              "7   2000/4/5  3.484375    3.473958       3.473958    3.500000\n",
              "8   2000/4/6  3.578125    3.520833       3.520833    3.578125\n",
              "9   2000/4/7  3.609375    3.557292       3.557292    3.609375"
            ]
          },
          "metadata": {
            "tags": []
          },
          "execution_count": 40
        }
      ]
    },
    {
      "metadata": {
        "id": "eJng0rEWKWTA",
        "colab_type": "text"
      },
      "cell_type": "markdown",
      "source": [
        "기준일을 포함하지 않은, 과거 3일의 평균을 붙인다면?"
      ]
    },
    {
      "metadata": {
        "id": "Y1Hc3ZscKdSh",
        "colab_type": "code",
        "colab": {
          "base_uri": "https://localhost:8080/",
          "height": 204
        },
        "outputId": "17f63d24-3175-4e6f-9597-1a93593af28d"
      },
      "cell_type": "code",
      "source": [
        "stock['Close_MA_3_lag1'] = stock['Close_MA_3'].shift()\n",
        "stock.head()"
      ],
      "execution_count": 41,
      "outputs": [
        {
          "output_type": "execute_result",
          "data": {
            "text/html": [
              "<div>\n",
              "<style scoped>\n",
              "    .dataframe tbody tr th:only-of-type {\n",
              "        vertical-align: middle;\n",
              "    }\n",
              "\n",
              "    .dataframe tbody tr th {\n",
              "        vertical-align: top;\n",
              "    }\n",
              "\n",
              "    .dataframe thead th {\n",
              "        text-align: right;\n",
              "    }\n",
              "</style>\n",
              "<table border=\"1\" class=\"dataframe\">\n",
              "  <thead>\n",
              "    <tr style=\"text-align: right;\">\n",
              "      <th></th>\n",
              "      <th>Date</th>\n",
              "      <th>Close</th>\n",
              "      <th>Close_MA_3</th>\n",
              "      <th>Close_MA_3(2)</th>\n",
              "      <th>Close_MM_3</th>\n",
              "      <th>Close_MA_3_lag1</th>\n",
              "    </tr>\n",
              "  </thead>\n",
              "  <tbody>\n",
              "    <tr>\n",
              "      <th>0</th>\n",
              "      <td>2000/3/27</td>\n",
              "      <td>4.125000</td>\n",
              "      <td>NaN</td>\n",
              "      <td>4.125000</td>\n",
              "      <td>NaN</td>\n",
              "      <td>NaN</td>\n",
              "    </tr>\n",
              "    <tr>\n",
              "      <th>1</th>\n",
              "      <td>2000/3/28</td>\n",
              "      <td>4.015625</td>\n",
              "      <td>NaN</td>\n",
              "      <td>4.070312</td>\n",
              "      <td>NaN</td>\n",
              "      <td>NaN</td>\n",
              "    </tr>\n",
              "    <tr>\n",
              "      <th>2</th>\n",
              "      <td>2000/3/29</td>\n",
              "      <td>4.000000</td>\n",
              "      <td>4.046875</td>\n",
              "      <td>4.046875</td>\n",
              "      <td>4.125000</td>\n",
              "      <td>NaN</td>\n",
              "    </tr>\n",
              "    <tr>\n",
              "      <th>3</th>\n",
              "      <td>2000/3/30</td>\n",
              "      <td>3.843750</td>\n",
              "      <td>3.953125</td>\n",
              "      <td>3.953125</td>\n",
              "      <td>4.015625</td>\n",
              "      <td>4.046875</td>\n",
              "    </tr>\n",
              "    <tr>\n",
              "      <th>4</th>\n",
              "      <td>2000/3/31</td>\n",
              "      <td>3.390625</td>\n",
              "      <td>3.744792</td>\n",
              "      <td>3.744792</td>\n",
              "      <td>4.000000</td>\n",
              "      <td>3.953125</td>\n",
              "    </tr>\n",
              "  </tbody>\n",
              "</table>\n",
              "</div>"
            ],
            "text/plain": [
              "        Date     Close  Close_MA_3  Close_MA_3(2)  Close_MM_3  Close_MA_3_lag1\n",
              "0  2000/3/27  4.125000         NaN       4.125000         NaN              NaN\n",
              "1  2000/3/28  4.015625         NaN       4.070312         NaN              NaN\n",
              "2  2000/3/29  4.000000    4.046875       4.046875    4.125000              NaN\n",
              "3  2000/3/30  3.843750    3.953125       3.953125    4.015625         4.046875\n",
              "4  2000/3/31  3.390625    3.744792       3.744792    4.000000         3.953125"
            ]
          },
          "metadata": {
            "tags": []
          },
          "execution_count": 41
        }
      ]
    },
    {
      "metadata": {
        "id": "4aefGZ-GInlR",
        "colab_type": "text"
      },
      "cell_type": "markdown",
      "source": [
        "실습!!\n",
        "\n",
        "stock 옆에, 과거 4일의 표준편차를 붙이시오!"
      ]
    },
    {
      "metadata": {
        "id": "b46u7om7LInB",
        "colab_type": "code",
        "colab": {
          "base_uri": "https://localhost:8080/",
          "height": 130
        },
        "outputId": "bdc28767-c26d-4110-f643-f0be3a54b754"
      },
      "cell_type": "code",
      "source": [
        "stock['Close_MS_3'] = ## Your Code\n",
        "    \n",
        "stock.head()"
      ],
      "execution_count": 42,
      "outputs": [
        {
          "output_type": "error",
          "ename": "SyntaxError",
          "evalue": "ignored",
          "traceback": [
            "\u001b[0;36m  File \u001b[0;32m\"<ipython-input-42-62645d738a49>\"\u001b[0;36m, line \u001b[0;32m1\u001b[0m\n\u001b[0;31m    stock['Close_MS_3'] = ## Your Code\u001b[0m\n\u001b[0m                                      ^\u001b[0m\n\u001b[0;31mSyntaxError\u001b[0m\u001b[0;31m:\u001b[0m invalid syntax\n"
          ]
        }
      ]
    },
    {
      "metadata": {
        "id": "AL6JqUCRLQug",
        "colab_type": "code",
        "colab": {}
      },
      "cell_type": "code",
      "source": [
        ""
      ],
      "execution_count": 0,
      "outputs": []
    },
    {
      "metadata": {
        "id": "fxDfNwkpRnaj",
        "colab_type": "text"
      },
      "cell_type": "markdown",
      "source": [
        "## 07. Null, NaN, NA"
      ]
    },
    {
      "metadata": {
        "id": "WjOtneuW9gB5",
        "colab_type": "code",
        "colab": {}
      },
      "cell_type": "code",
      "source": [
        "import pandas as pd\n",
        "import numpy as np\n",
        "\n",
        "df = pd.DataFrame(np.random.randn(5,4))\n",
        "# Make a few areas have NaN values\n",
        "df.iloc[1:3,1] = np.nan\n",
        "df.iloc[4,3] = np.nan\n",
        "df.iloc[2:4,0] = np.nan"
      ],
      "execution_count": 0,
      "outputs": []
    },
    {
      "metadata": {
        "id": "lB1q1Fpo9lEX",
        "colab_type": "code",
        "colab": {
          "base_uri": "https://localhost:8080/",
          "height": 204
        },
        "outputId": "383a8248-abcf-4501-de8b-15fcefdd6511"
      },
      "cell_type": "code",
      "source": [
        "df"
      ],
      "execution_count": 44,
      "outputs": [
        {
          "output_type": "execute_result",
          "data": {
            "text/html": [
              "<div>\n",
              "<style scoped>\n",
              "    .dataframe tbody tr th:only-of-type {\n",
              "        vertical-align: middle;\n",
              "    }\n",
              "\n",
              "    .dataframe tbody tr th {\n",
              "        vertical-align: top;\n",
              "    }\n",
              "\n",
              "    .dataframe thead th {\n",
              "        text-align: right;\n",
              "    }\n",
              "</style>\n",
              "<table border=\"1\" class=\"dataframe\">\n",
              "  <thead>\n",
              "    <tr style=\"text-align: right;\">\n",
              "      <th></th>\n",
              "      <th>0</th>\n",
              "      <th>1</th>\n",
              "      <th>2</th>\n",
              "      <th>3</th>\n",
              "    </tr>\n",
              "  </thead>\n",
              "  <tbody>\n",
              "    <tr>\n",
              "      <th>0</th>\n",
              "      <td>0.298515</td>\n",
              "      <td>1.245513</td>\n",
              "      <td>0.431066</td>\n",
              "      <td>1.994274</td>\n",
              "    </tr>\n",
              "    <tr>\n",
              "      <th>1</th>\n",
              "      <td>1.468863</td>\n",
              "      <td>NaN</td>\n",
              "      <td>-0.946129</td>\n",
              "      <td>-2.086414</td>\n",
              "    </tr>\n",
              "    <tr>\n",
              "      <th>2</th>\n",
              "      <td>NaN</td>\n",
              "      <td>NaN</td>\n",
              "      <td>0.162187</td>\n",
              "      <td>1.076308</td>\n",
              "    </tr>\n",
              "    <tr>\n",
              "      <th>3</th>\n",
              "      <td>NaN</td>\n",
              "      <td>0.063284</td>\n",
              "      <td>-0.272812</td>\n",
              "      <td>-0.386859</td>\n",
              "    </tr>\n",
              "    <tr>\n",
              "      <th>4</th>\n",
              "      <td>-0.706721</td>\n",
              "      <td>-0.757424</td>\n",
              "      <td>-0.565754</td>\n",
              "      <td>NaN</td>\n",
              "    </tr>\n",
              "  </tbody>\n",
              "</table>\n",
              "</div>"
            ],
            "text/plain": [
              "          0         1         2         3\n",
              "0  0.298515  1.245513  0.431066  1.994274\n",
              "1  1.468863       NaN -0.946129 -2.086414\n",
              "2       NaN       NaN  0.162187  1.076308\n",
              "3       NaN  0.063284 -0.272812 -0.386859\n",
              "4 -0.706721 -0.757424 -0.565754       NaN"
            ]
          },
          "metadata": {
            "tags": []
          },
          "execution_count": 44
        }
      ]
    },
    {
      "metadata": {
        "id": "pow-G-Yr9gES",
        "colab_type": "code",
        "colab": {
          "base_uri": "https://localhost:8080/",
          "height": 204
        },
        "outputId": "14ec1c40-162b-40c3-bc3b-728b617f6a11"
      },
      "cell_type": "code",
      "source": [
        "df.isnull()"
      ],
      "execution_count": 45,
      "outputs": [
        {
          "output_type": "execute_result",
          "data": {
            "text/html": [
              "<div>\n",
              "<style scoped>\n",
              "    .dataframe tbody tr th:only-of-type {\n",
              "        vertical-align: middle;\n",
              "    }\n",
              "\n",
              "    .dataframe tbody tr th {\n",
              "        vertical-align: top;\n",
              "    }\n",
              "\n",
              "    .dataframe thead th {\n",
              "        text-align: right;\n",
              "    }\n",
              "</style>\n",
              "<table border=\"1\" class=\"dataframe\">\n",
              "  <thead>\n",
              "    <tr style=\"text-align: right;\">\n",
              "      <th></th>\n",
              "      <th>0</th>\n",
              "      <th>1</th>\n",
              "      <th>2</th>\n",
              "      <th>3</th>\n",
              "    </tr>\n",
              "  </thead>\n",
              "  <tbody>\n",
              "    <tr>\n",
              "      <th>0</th>\n",
              "      <td>False</td>\n",
              "      <td>False</td>\n",
              "      <td>False</td>\n",
              "      <td>False</td>\n",
              "    </tr>\n",
              "    <tr>\n",
              "      <th>1</th>\n",
              "      <td>False</td>\n",
              "      <td>True</td>\n",
              "      <td>False</td>\n",
              "      <td>False</td>\n",
              "    </tr>\n",
              "    <tr>\n",
              "      <th>2</th>\n",
              "      <td>True</td>\n",
              "      <td>True</td>\n",
              "      <td>False</td>\n",
              "      <td>False</td>\n",
              "    </tr>\n",
              "    <tr>\n",
              "      <th>3</th>\n",
              "      <td>True</td>\n",
              "      <td>False</td>\n",
              "      <td>False</td>\n",
              "      <td>False</td>\n",
              "    </tr>\n",
              "    <tr>\n",
              "      <th>4</th>\n",
              "      <td>False</td>\n",
              "      <td>False</td>\n",
              "      <td>False</td>\n",
              "      <td>True</td>\n",
              "    </tr>\n",
              "  </tbody>\n",
              "</table>\n",
              "</div>"
            ],
            "text/plain": [
              "       0      1      2      3\n",
              "0  False  False  False  False\n",
              "1  False   True  False  False\n",
              "2   True   True  False  False\n",
              "3   True  False  False  False\n",
              "4  False  False  False   True"
            ]
          },
          "metadata": {
            "tags": []
          },
          "execution_count": 45
        }
      ]
    },
    {
      "metadata": {
        "id": "HkIuiBAE9pzV",
        "colab_type": "code",
        "colab": {
          "base_uri": "https://localhost:8080/",
          "height": 102
        },
        "outputId": "083146fa-f2e5-474c-9d98-12dd0d14aee2"
      },
      "cell_type": "code",
      "source": [
        "df.isnull().any()"
      ],
      "execution_count": 46,
      "outputs": [
        {
          "output_type": "execute_result",
          "data": {
            "text/plain": [
              "0     True\n",
              "1     True\n",
              "2    False\n",
              "3     True\n",
              "dtype: bool"
            ]
          },
          "metadata": {
            "tags": []
          },
          "execution_count": 46
        }
      ]
    },
    {
      "metadata": {
        "id": "0ZaiFm4x9sWN",
        "colab_type": "code",
        "colab": {
          "base_uri": "https://localhost:8080/",
          "height": 34
        },
        "outputId": "9725cb84-2278-4038-aeaa-d731037b9ff3"
      },
      "cell_type": "code",
      "source": [
        "df.isnull().any().any()"
      ],
      "execution_count": 47,
      "outputs": [
        {
          "output_type": "execute_result",
          "data": {
            "text/plain": [
              "True"
            ]
          },
          "metadata": {
            "tags": []
          },
          "execution_count": 47
        }
      ]
    },
    {
      "metadata": {
        "id": "-s83BM_V9wi1",
        "colab_type": "code",
        "colab": {
          "base_uri": "https://localhost:8080/",
          "height": 102
        },
        "outputId": "d1d310ef-36a9-43d7-b759-679619625968"
      },
      "cell_type": "code",
      "source": [
        "df.isnull().sum()"
      ],
      "execution_count": 48,
      "outputs": [
        {
          "output_type": "execute_result",
          "data": {
            "text/plain": [
              "0    2\n",
              "1    2\n",
              "2    0\n",
              "3    1\n",
              "dtype: int64"
            ]
          },
          "metadata": {
            "tags": []
          },
          "execution_count": 48
        }
      ]
    },
    {
      "metadata": {
        "id": "0xMW9SNX9zCz",
        "colab_type": "code",
        "colab": {
          "base_uri": "https://localhost:8080/",
          "height": 204
        },
        "outputId": "e8a27c6c-4f4c-4605-e773-65a7b438b66b"
      },
      "cell_type": "code",
      "source": [
        "df.fillna(0)"
      ],
      "execution_count": 49,
      "outputs": [
        {
          "output_type": "execute_result",
          "data": {
            "text/html": [
              "<div>\n",
              "<style scoped>\n",
              "    .dataframe tbody tr th:only-of-type {\n",
              "        vertical-align: middle;\n",
              "    }\n",
              "\n",
              "    .dataframe tbody tr th {\n",
              "        vertical-align: top;\n",
              "    }\n",
              "\n",
              "    .dataframe thead th {\n",
              "        text-align: right;\n",
              "    }\n",
              "</style>\n",
              "<table border=\"1\" class=\"dataframe\">\n",
              "  <thead>\n",
              "    <tr style=\"text-align: right;\">\n",
              "      <th></th>\n",
              "      <th>0</th>\n",
              "      <th>1</th>\n",
              "      <th>2</th>\n",
              "      <th>3</th>\n",
              "    </tr>\n",
              "  </thead>\n",
              "  <tbody>\n",
              "    <tr>\n",
              "      <th>0</th>\n",
              "      <td>0.298515</td>\n",
              "      <td>1.245513</td>\n",
              "      <td>0.431066</td>\n",
              "      <td>1.994274</td>\n",
              "    </tr>\n",
              "    <tr>\n",
              "      <th>1</th>\n",
              "      <td>1.468863</td>\n",
              "      <td>0.000000</td>\n",
              "      <td>-0.946129</td>\n",
              "      <td>-2.086414</td>\n",
              "    </tr>\n",
              "    <tr>\n",
              "      <th>2</th>\n",
              "      <td>0.000000</td>\n",
              "      <td>0.000000</td>\n",
              "      <td>0.162187</td>\n",
              "      <td>1.076308</td>\n",
              "    </tr>\n",
              "    <tr>\n",
              "      <th>3</th>\n",
              "      <td>0.000000</td>\n",
              "      <td>0.063284</td>\n",
              "      <td>-0.272812</td>\n",
              "      <td>-0.386859</td>\n",
              "    </tr>\n",
              "    <tr>\n",
              "      <th>4</th>\n",
              "      <td>-0.706721</td>\n",
              "      <td>-0.757424</td>\n",
              "      <td>-0.565754</td>\n",
              "      <td>0.000000</td>\n",
              "    </tr>\n",
              "  </tbody>\n",
              "</table>\n",
              "</div>"
            ],
            "text/plain": [
              "          0         1         2         3\n",
              "0  0.298515  1.245513  0.431066  1.994274\n",
              "1  1.468863  0.000000 -0.946129 -2.086414\n",
              "2  0.000000  0.000000  0.162187  1.076308\n",
              "3  0.000000  0.063284 -0.272812 -0.386859\n",
              "4 -0.706721 -0.757424 -0.565754  0.000000"
            ]
          },
          "metadata": {
            "tags": []
          },
          "execution_count": 49
        }
      ]
    },
    {
      "metadata": {
        "id": "bN3vWwBH-OLh",
        "colab_type": "code",
        "colab": {
          "base_uri": "https://localhost:8080/",
          "height": 102
        },
        "outputId": "39383018-5171-4ad7-9387-f505d7188dd4"
      },
      "cell_type": "code",
      "source": [
        "df.mean()"
      ],
      "execution_count": 50,
      "outputs": [
        {
          "output_type": "execute_result",
          "data": {
            "text/plain": [
              "0    0.353553\n",
              "1    0.183791\n",
              "2   -0.238289\n",
              "3    0.149327\n",
              "dtype: float64"
            ]
          },
          "metadata": {
            "tags": []
          },
          "execution_count": 50
        }
      ]
    },
    {
      "metadata": {
        "id": "pMKviCbl-PGL",
        "colab_type": "code",
        "colab": {
          "base_uri": "https://localhost:8080/",
          "height": 204
        },
        "outputId": "e519791a-3150-406b-bb25-9220d5c2d3e1"
      },
      "cell_type": "code",
      "source": [
        "df.fillna(df.mean())"
      ],
      "execution_count": 51,
      "outputs": [
        {
          "output_type": "execute_result",
          "data": {
            "text/html": [
              "<div>\n",
              "<style scoped>\n",
              "    .dataframe tbody tr th:only-of-type {\n",
              "        vertical-align: middle;\n",
              "    }\n",
              "\n",
              "    .dataframe tbody tr th {\n",
              "        vertical-align: top;\n",
              "    }\n",
              "\n",
              "    .dataframe thead th {\n",
              "        text-align: right;\n",
              "    }\n",
              "</style>\n",
              "<table border=\"1\" class=\"dataframe\">\n",
              "  <thead>\n",
              "    <tr style=\"text-align: right;\">\n",
              "      <th></th>\n",
              "      <th>0</th>\n",
              "      <th>1</th>\n",
              "      <th>2</th>\n",
              "      <th>3</th>\n",
              "    </tr>\n",
              "  </thead>\n",
              "  <tbody>\n",
              "    <tr>\n",
              "      <th>0</th>\n",
              "      <td>0.298515</td>\n",
              "      <td>1.245513</td>\n",
              "      <td>0.431066</td>\n",
              "      <td>1.994274</td>\n",
              "    </tr>\n",
              "    <tr>\n",
              "      <th>1</th>\n",
              "      <td>1.468863</td>\n",
              "      <td>0.183791</td>\n",
              "      <td>-0.946129</td>\n",
              "      <td>-2.086414</td>\n",
              "    </tr>\n",
              "    <tr>\n",
              "      <th>2</th>\n",
              "      <td>0.353553</td>\n",
              "      <td>0.183791</td>\n",
              "      <td>0.162187</td>\n",
              "      <td>1.076308</td>\n",
              "    </tr>\n",
              "    <tr>\n",
              "      <th>3</th>\n",
              "      <td>0.353553</td>\n",
              "      <td>0.063284</td>\n",
              "      <td>-0.272812</td>\n",
              "      <td>-0.386859</td>\n",
              "    </tr>\n",
              "    <tr>\n",
              "      <th>4</th>\n",
              "      <td>-0.706721</td>\n",
              "      <td>-0.757424</td>\n",
              "      <td>-0.565754</td>\n",
              "      <td>0.149327</td>\n",
              "    </tr>\n",
              "  </tbody>\n",
              "</table>\n",
              "</div>"
            ],
            "text/plain": [
              "          0         1         2         3\n",
              "0  0.298515  1.245513  0.431066  1.994274\n",
              "1  1.468863  0.183791 -0.946129 -2.086414\n",
              "2  0.353553  0.183791  0.162187  1.076308\n",
              "3  0.353553  0.063284 -0.272812 -0.386859\n",
              "4 -0.706721 -0.757424 -0.565754  0.149327"
            ]
          },
          "metadata": {
            "tags": []
          },
          "execution_count": 51
        }
      ]
    },
    {
      "metadata": {
        "id": "ODFF9w5m-SlB",
        "colab_type": "code",
        "colab": {}
      },
      "cell_type": "code",
      "source": [
        ""
      ],
      "execution_count": 0,
      "outputs": []
    },
    {
      "metadata": {
        "id": "lps8E7Bf-M8P",
        "colab_type": "code",
        "colab": {}
      },
      "cell_type": "code",
      "source": [
        ""
      ],
      "execution_count": 0,
      "outputs": []
    }
  ]
}