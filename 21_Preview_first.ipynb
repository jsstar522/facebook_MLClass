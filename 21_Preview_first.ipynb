{
  "nbformat": 4,
  "nbformat_minor": 0,
  "metadata": {
    "colab": {
      "name": "21_Preview_first.ipynb",
      "version": "0.3.2",
      "provenance": [],
      "collapsed_sections": [
        "pj9Xtk6HWniI",
        "wVeEBY53Wnqu",
        "1ZwN2lmCid13",
        "b2iy4ScBibY9",
        "QFatLQRNkhIQ",
        "R48VqrOFlMb7",
        "3dJT6I9ClZJh"
      ],
      "include_colab_link": true
    },
    "kernelspec": {
      "name": "python3",
      "display_name": "Python 3"
    }
  },
  "cells": [
    {
      "cell_type": "markdown",
      "metadata": {
        "id": "view-in-github",
        "colab_type": "text"
      },
      "source": [
        "<a href=\"https://colab.research.google.com/github/jsstar522/facebook_MLClass/blob/master/21_Preview_first.ipynb\" target=\"_parent\"><img src=\"https://colab.research.google.com/assets/colab-badge.svg\" alt=\"Open In Colab\"/></a>"
      ]
    },
    {
      "metadata": {
        "id": "hDLFZpL6WHWH",
        "colab_type": "text"
      },
      "cell_type": "markdown",
      "source": [
        "# Preview First!\n",
        "\n",
        "Editor : Rayleigh Kim <br>\n",
        "email : rayleigh@dplus.company\n",
        "\n",
        "**주의 : 아무 설명 없이 작동되는 것만 보일 예정!**\n",
        "\n",
        "**실습 목표**\n",
        "1. Regression이 뭔지 본다.\n",
        "2. Classification이 뭔지 본다.\n",
        "3. (+Optional)Scikit-Learn의 코딩스타일을 익힌다."
      ]
    },
    {
      "metadata": {
        "id": "pj9Xtk6HWniI",
        "colab_type": "text"
      },
      "cell_type": "markdown",
      "source": [
        "## Coding Style of Scikit-Learn\n",
        "\n",
        "1. 사용할 것 들만 미리 import해온다!\n",
        "2. 나 이 모델 쓸꺼야 선언한다!\n",
        "3. 모델.fit(X,y)로 학습시킨다.\n",
        "4. 모델.predict(X)로 예측값을 만든다!\n",
        "\n",
        "아래의 코드들을 이용해 구경해보자!"
      ]
    },
    {
      "metadata": {
        "id": "wVeEBY53Wnqu",
        "colab_type": "text"
      },
      "cell_type": "markdown",
      "source": [
        "## Regression 구경해보기"
      ]
    },
    {
      "metadata": {
        "id": "1ZwN2lmCid13",
        "colab_type": "text"
      },
      "cell_type": "markdown",
      "source": [
        "### 가짜 데이터 생성"
      ]
    },
    {
      "metadata": {
        "id": "xGpvhSHOiLLC",
        "colab_type": "code",
        "colab": {}
      },
      "cell_type": "code",
      "source": [
        "import numpy as np\n",
        "\n",
        "x = list(range(0,21))\n",
        "y = [2*num + 3 for num in x]\n",
        "\n",
        "x = np.array(x).reshape([-1,1])\n",
        "y = np.array(y).reshape([-1,1])"
      ],
      "execution_count": 0,
      "outputs": []
    },
    {
      "metadata": {
        "id": "d-QgctY-iWG6",
        "colab_type": "code",
        "colab": {}
      },
      "cell_type": "code",
      "source": [
        "x"
      ],
      "execution_count": 0,
      "outputs": []
    },
    {
      "metadata": {
        "id": "HRqlxAUwiWzd",
        "colab_type": "code",
        "colab": {}
      },
      "cell_type": "code",
      "source": [
        "y"
      ],
      "execution_count": 0,
      "outputs": []
    },
    {
      "metadata": {
        "id": "b2iy4ScBibY9",
        "colab_type": "text"
      },
      "cell_type": "markdown",
      "source": [
        "### 모델링 해보기"
      ]
    },
    {
      "metadata": {
        "id": "16I7Z32giybw",
        "colab_type": "code",
        "colab": {}
      },
      "cell_type": "code",
      "source": [
        "# 1. 사용할 것 들만 미리 import 해온다!\n",
        "\n",
        "from sklearn.linear_model import LinearRegression"
      ],
      "execution_count": 0,
      "outputs": []
    },
    {
      "metadata": {
        "id": "p80v851LjBfP",
        "colab_type": "code",
        "colab": {}
      },
      "cell_type": "code",
      "source": [
        "# 2. 나 이 모델 쓸꺼야 선언한다!\n",
        "\n",
        "lm = LinearRegression()"
      ],
      "execution_count": 0,
      "outputs": []
    },
    {
      "metadata": {
        "id": "MNDYXy--jHyF",
        "colab_type": "code",
        "colab": {}
      },
      "cell_type": "code",
      "source": [
        "# 3. 모델.fit(X,y)로 학습시킨다.\n",
        "\n",
        "lm.fit(x[:15], y[:15])"
      ],
      "execution_count": 0,
      "outputs": []
    },
    {
      "metadata": {
        "id": "By5j2ksOjQNO",
        "colab_type": "code",
        "colab": {}
      },
      "cell_type": "code",
      "source": [
        "# 4. 모델.predict(X)로 예측값을 만든다!\n",
        "\n",
        "pred = lm.predict(x[15:])"
      ],
      "execution_count": 0,
      "outputs": []
    },
    {
      "metadata": {
        "id": "WGo16VnTj6UL",
        "colab_type": "code",
        "colab": {}
      },
      "cell_type": "code",
      "source": [
        "# 예측값\n",
        "pred"
      ],
      "execution_count": 0,
      "outputs": []
    },
    {
      "metadata": {
        "id": "kNwy9-44j_Jy",
        "colab_type": "code",
        "colab": {}
      },
      "cell_type": "code",
      "source": [
        "# 실제값\n",
        "y[15:]"
      ],
      "execution_count": 0,
      "outputs": []
    },
    {
      "metadata": {
        "id": "0kiBGzxwi4Wo",
        "colab_type": "code",
        "colab": {}
      },
      "cell_type": "code",
      "source": [
        "# y = 2x + 3 이었다.\n",
        "print(lm.coef_)\n",
        "print(lm.intercept_)"
      ],
      "execution_count": 0,
      "outputs": []
    },
    {
      "metadata": {
        "id": "QFatLQRNkhIQ",
        "colab_type": "text"
      },
      "cell_type": "markdown",
      "source": [
        "## Classification 구경해보기"
      ]
    },
    {
      "metadata": {
        "id": "R48VqrOFlMb7",
        "colab_type": "text"
      },
      "cell_type": "markdown",
      "source": [
        "### 가짜 데이터 생성"
      ]
    },
    {
      "metadata": {
        "id": "2OzdKUk5lDFk",
        "colab_type": "code",
        "colab": {}
      },
      "cell_type": "code",
      "source": [
        "import numpy as np\n",
        "\n",
        "feature = list(range(1,21))\n",
        "labels = [0]*10 + [1]*10\n",
        "\n",
        "feature = np.array(feature).reshape([-1,1])\n",
        "labels = np.array(labels).reshape([-1,1])\n",
        "\n",
        "print(feature)\n",
        "print(labels)"
      ],
      "execution_count": 0,
      "outputs": []
    },
    {
      "metadata": {
        "id": "3dJT6I9ClZJh",
        "colab_type": "text"
      },
      "cell_type": "markdown",
      "source": [
        "### 모델링 해보기!"
      ]
    },
    {
      "metadata": {
        "id": "keJpc24Dl-RK",
        "colab_type": "code",
        "colab": {}
      },
      "cell_type": "code",
      "source": [
        "# 1. 사용할 것 들만 미리 import 해온다!\n",
        "\n",
        "from sklearn.linear_model import LogisticRegression"
      ],
      "execution_count": 0,
      "outputs": []
    },
    {
      "metadata": {
        "id": "AgV-VHxImCDV",
        "colab_type": "code",
        "colab": {}
      },
      "cell_type": "code",
      "source": [
        "# 2. 나 이 모델 쓸꺼야 선언한다!\n",
        "\n",
        "lm = LogisticRegression()"
      ],
      "execution_count": 0,
      "outputs": []
    },
    {
      "metadata": {
        "id": "MPkAW5-bl-Ta",
        "colab_type": "code",
        "colab": {}
      },
      "cell_type": "code",
      "source": [
        "# 3. 모델.fit(X,y)로 학습시킨다.\n",
        "\n",
        "lm.fit(feature[3:18], labels[3:18])"
      ],
      "execution_count": 0,
      "outputs": []
    },
    {
      "metadata": {
        "id": "_V_Ve309mN6S",
        "colab_type": "code",
        "colab": {}
      },
      "cell_type": "code",
      "source": [
        "# 4. 모델.predict(X)로 예측값을 만든다!\n",
        "\n",
        "pred1 = lm.predict(x[:3])\n",
        "pred2 = lm.predict(x[17:])"
      ],
      "execution_count": 0,
      "outputs": []
    },
    {
      "metadata": {
        "id": "84MbKm4tmV0Q",
        "colab_type": "code",
        "colab": {}
      },
      "cell_type": "code",
      "source": [
        "# 예측값\n",
        "print(pred1)\n",
        "print(pred2)"
      ],
      "execution_count": 0,
      "outputs": []
    },
    {
      "metadata": {
        "id": "zWfHzSeDmZvv",
        "colab_type": "code",
        "colab": {}
      },
      "cell_type": "code",
      "source": [
        "# 실제값\n",
        "print(labels[:3])\n",
        "print(labels[17:])"
      ],
      "execution_count": 0,
      "outputs": []
    },
    {
      "metadata": {
        "id": "adIsaF4tnV5k",
        "colab_type": "code",
        "colab": {}
      },
      "cell_type": "code",
      "source": [
        "# 속을 뜯어보자\n",
        "\n",
        "print(lm.coef_)\n",
        "print(lm.intercept_ )"
      ],
      "execution_count": 0,
      "outputs": []
    },
    {
      "metadata": {
        "id": "KhzuCSHun2Zn",
        "colab_type": "code",
        "colab": {}
      },
      "cell_type": "code",
      "source": [
        "z = feature*lm.coef_ + lm.intercept_\n",
        "\n",
        "logit_reg_ex = 1/(1+np.exp(-z))\n",
        "\n",
        "logit_reg_ex"
      ],
      "execution_count": 0,
      "outputs": []
    },
    {
      "metadata": {
        "id": "QjBcgUyeopdE",
        "colab_type": "code",
        "colab": {}
      },
      "cell_type": "code",
      "source": [
        "logit_reg_ex[5:12]"
      ],
      "execution_count": 0,
      "outputs": []
    },
    {
      "metadata": {
        "id": "lbxmuTN5osNI",
        "colab_type": "code",
        "colab": {}
      },
      "cell_type": "code",
      "source": [
        "lm.predict(feature[5:12])"
      ],
      "execution_count": 0,
      "outputs": []
    },
    {
      "metadata": {
        "id": "FGqJeMh4o6it",
        "colab_type": "code",
        "colab": {}
      },
      "cell_type": "code",
      "source": [
        "labels[5:12]"
      ],
      "execution_count": 0,
      "outputs": []
    }
  ]
}